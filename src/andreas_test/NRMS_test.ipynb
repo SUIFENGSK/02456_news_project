{
  "nbformat": 4,
  "nbformat_minor": 0,
  "metadata": {
    "colab": {
      "provenance": []
    },
    "kernelspec": {
      "name": "python3",
      "display_name": "Python 3"
    },
    "language_info": {
      "name": "python"
    }
  },
  "cells": [
    {
      "cell_type": "code",
      "execution_count": 1,
      "metadata": {
        "id": "rYMj8BFNXPNy"
      },
      "outputs": [],
      "source": [
        "import torch\n",
        "import torch.nn as nn\n",
        "import torch.nn.functional as F\n",
        "\n",
        "\n",
        "class AttentionLayer2(nn.Module):\n",
        "    def __init__(self, attention_hidden_dim, seed=None):\n",
        "        super().__init__()\n",
        "        self.attention_weight = nn.Linear(attention_hidden_dim, 1)\n",
        "\n",
        "    def forward(self, inputs):\n",
        "        scores = self.attention_weight(inputs)\n",
        "        weights = F.softmax(scores, dim=1)\n",
        "        outputs = torch.sum(inputs * weights, dim=1)\n",
        "        return outputs\n",
        "\n",
        "\n",
        "class SelfAttention(nn.Module):\n",
        "    def __init__(self, head_num, head_dim, seed=None):\n",
        "        super().__init__()\n",
        "        self.head_num = head_num\n",
        "        self.head_dim = head_dim\n",
        "        self.query_layer = nn.Linear(head_dim, head_num * head_dim)\n",
        "        self.key_layer = nn.Linear(head_dim, head_num * head_dim)\n",
        "        self.value_layer = nn.Linear(head_dim, head_num * head_dim)\n",
        "\n",
        "    def forward(self, inputs):\n",
        "        queries, keys, values = inputs\n",
        "        queries = self.query_layer(queries)\n",
        "        keys = self.key_layer(keys)\n",
        "        values = self.value_layer(values)\n",
        "\n",
        "        attention_scores = torch.matmul(queries, keys.transpose(-2, -1)) / (self.head_dim ** 0.5)\n",
        "        attention_weights = F.softmax(attention_scores, dim=-1)\n",
        "        attention_output = torch.matmul(attention_weights, values)\n",
        "        return attention_output\n",
        "\n",
        "\n",
        "class NRMSModel(nn.Module):\n",
        "    def __init__(self, hparams, word2vec_embedding):\n",
        "        super().__init__()\n",
        "        self.hparams = hparams\n",
        "        self.word2vec_embedding = nn.Embedding.from_pretrained(\n",
        "            torch.FloatTensor(word2vec_embedding), freeze=False\n",
        "        )\n",
        "        self.dropout = nn.Dropout(hparams.dropout)\n",
        "\n",
        "        # Build encoders\n",
        "        self.news_encoder = self._build_news_encoder()\n",
        "        self.user_encoder = self._build_user_encoder()\n",
        "\n",
        "    def _build_news_encoder(self):\n",
        "        return nn.Sequential(\n",
        "            self.word2vec_embedding,\n",
        "            self.dropout,\n",
        "            SelfAttention(self.hparams.head_num, self.hparams.head_dim),\n",
        "            self.dropout,\n",
        "            AttentionLayer2(self.hparams.attention_hidden_dim),\n",
        "        )\n",
        "\n",
        "    def _build_user_encoder(self):\n",
        "        return nn.Sequential(\n",
        "            nn.Linear(self.hparams.title_size, self.hparams.attention_hidden_dim),\n",
        "            SelfAttention(self.hparams.head_num, self.hparams.head_dim),\n",
        "            AttentionLayer2(self.hparams.attention_hidden_dim),\n",
        "        )\n",
        "\n",
        "    def forward(self, clicked_titles, candidate_titles):\n",
        "        user_rep = self.user_encoder(clicked_titles)\n",
        "        news_rep = self.news_encoder(candidate_titles)\n",
        "        scores = torch.matmul(news_rep, user_rep.unsqueeze(-1)).squeeze(-1)\n",
        "        return F.softmax(scores, dim=-1)\n"
      ]
    },
    {
      "cell_type": "code",
      "source": [
        "import torch\n",
        "import torch.nn as nn\n",
        "import torch.optim as optim\n",
        "from torchvision import datasets, transforms\n",
        "from torch.utils.data import DataLoader\n",
        "\n",
        "class SimpleAttentionModel(nn.Module):\n",
        "    def __init__(self, input_dim, hidden_dim, output_dim):\n",
        "        super(SimpleAttentionModel, self).__init__()\n",
        "        self.input_layer = nn.Linear(input_dim, hidden_dim)\n",
        "        self.self_attention = nn.MultiheadAttention(embed_dim=hidden_dim, num_heads=4)\n",
        "        self.output_layer = nn.Linear(hidden_dim, output_dim)\n",
        "        self.dropout = nn.Dropout(0.2)\n",
        "\n",
        "    def forward(self, x):\n",
        "        # Flatten the input for MNIST\n",
        "        x = x.view(x.size(0), -1)  # (batch_size, input_dim)\n",
        "        x = self.input_layer(x).unsqueeze(1)  # Add sequence length dimension -> (batch_size, seq_len, hidden_dim)\n",
        "\n",
        "        # Self-Attention\n",
        "        x, _ = self.self_attention(x, x, x)  # (batch_size, seq_len, hidden_dim)\n",
        "\n",
        "        # Take the first token as a representation (like CLS token)\n",
        "        x = x.squeeze(1)\n",
        "        x = self.dropout(x)\n",
        "\n",
        "        # Output\n",
        "        x = self.output_layer(x)\n",
        "        return x\n"
      ],
      "metadata": {
        "id": "nFuKhZT6YOvN"
      },
      "execution_count": 2,
      "outputs": []
    },
    {
      "cell_type": "code",
      "source": [
        "# Hyperparameters\n",
        "input_dim = 28 * 28\n",
        "hidden_dim = 128\n",
        "output_dim = 10\n",
        "batch_size = 64\n",
        "learning_rate = 0.001\n",
        "epochs = 10\n",
        "\n",
        "# Data Loaders\n",
        "transform = transforms.Compose([transforms.ToTensor(), transforms.Normalize((0.5,), (0.5,))])\n",
        "train_dataset = datasets.MNIST(root=\"./data\", train=True, transform=transform, download=True)\n",
        "test_dataset = datasets.MNIST(root=\"./data\", train=False, transform=transform, download=True)\n",
        "\n",
        "train_loader = DataLoader(train_dataset, batch_size=batch_size, shuffle=True)\n",
        "test_loader = DataLoader(test_dataset, batch_size=batch_size, shuffle=False)\n",
        "\n",
        "# Model, Loss, Optimizer\n",
        "model = SimpleAttentionModel(input_dim=input_dim, hidden_dim=hidden_dim, output_dim=output_dim)\n",
        "criterion = nn.CrossEntropyLoss()\n",
        "optimizer = optim.Adam(model.parameters(), lr=learning_rate)\n",
        "\n",
        "# Training Loop\n",
        "device = torch.device(\"cuda\" if torch.cuda.is_available() else \"cpu\")\n",
        "model.to(device)\n",
        "\n",
        "for epoch in range(epochs):\n",
        "    model.train()\n",
        "    total_loss = 0\n",
        "    for batch_idx, (data, target) in enumerate(train_loader):\n",
        "        data, target = data.to(device), target.to(device)\n",
        "\n",
        "        optimizer.zero_grad()\n",
        "        output = model(data)\n",
        "        loss = criterion(output, target)\n",
        "        loss.backward()\n",
        "        optimizer.step()\n",
        "\n",
        "        total_loss += loss.item()\n",
        "\n",
        "    avg_loss = total_loss / len(train_loader)\n",
        "    print(f\"Epoch {epoch + 1}/{epochs}, Loss: {avg_loss:.4f}\")\n",
        "\n",
        "# Evaluation\n",
        "model.eval()\n",
        "correct = 0\n",
        "total = 0\n",
        "with torch.no_grad():\n",
        "    for data, target in test_loader:\n",
        "        data, target = data.to(device), target.to(device)\n",
        "        output = model(data)\n",
        "        _, predicted = torch.max(output, 1)\n",
        "        correct += (predicted == target).sum().item()\n",
        "        total += target.size(0)\n",
        "\n",
        "accuracy = correct / total\n",
        "print(f\"Test Accuracy: {accuracy:.4f}\")\n"
      ],
      "metadata": {
        "colab": {
          "base_uri": "https://localhost:8080/"
        },
        "id": "fpW2DpfzYPY4",
        "outputId": "fdd39b21-30b6-4ac0-b6b0-be54cdb058e9"
      },
      "execution_count": 3,
      "outputs": [
        {
          "output_type": "stream",
          "name": "stdout",
          "text": [
            "Downloading http://yann.lecun.com/exdb/mnist/train-images-idx3-ubyte.gz\n",
            "Failed to download (trying next):\n",
            "HTTP Error 403: Forbidden\n",
            "\n",
            "Downloading https://ossci-datasets.s3.amazonaws.com/mnist/train-images-idx3-ubyte.gz\n",
            "Downloading https://ossci-datasets.s3.amazonaws.com/mnist/train-images-idx3-ubyte.gz to ./data/MNIST/raw/train-images-idx3-ubyte.gz\n"
          ]
        },
        {
          "output_type": "stream",
          "name": "stderr",
          "text": [
            "100%|██████████| 9.91M/9.91M [00:00<00:00, 14.6MB/s]\n"
          ]
        },
        {
          "output_type": "stream",
          "name": "stdout",
          "text": [
            "Extracting ./data/MNIST/raw/train-images-idx3-ubyte.gz to ./data/MNIST/raw\n",
            "\n",
            "Downloading http://yann.lecun.com/exdb/mnist/train-labels-idx1-ubyte.gz\n",
            "Failed to download (trying next):\n",
            "HTTP Error 403: Forbidden\n",
            "\n",
            "Downloading https://ossci-datasets.s3.amazonaws.com/mnist/train-labels-idx1-ubyte.gz\n",
            "Downloading https://ossci-datasets.s3.amazonaws.com/mnist/train-labels-idx1-ubyte.gz to ./data/MNIST/raw/train-labels-idx1-ubyte.gz\n"
          ]
        },
        {
          "output_type": "stream",
          "name": "stderr",
          "text": [
            "100%|██████████| 28.9k/28.9k [00:00<00:00, 502kB/s]\n"
          ]
        },
        {
          "output_type": "stream",
          "name": "stdout",
          "text": [
            "Extracting ./data/MNIST/raw/train-labels-idx1-ubyte.gz to ./data/MNIST/raw\n",
            "\n",
            "Downloading http://yann.lecun.com/exdb/mnist/t10k-images-idx3-ubyte.gz\n",
            "Failed to download (trying next):\n",
            "HTTP Error 403: Forbidden\n",
            "\n",
            "Downloading https://ossci-datasets.s3.amazonaws.com/mnist/t10k-images-idx3-ubyte.gz\n",
            "Downloading https://ossci-datasets.s3.amazonaws.com/mnist/t10k-images-idx3-ubyte.gz to ./data/MNIST/raw/t10k-images-idx3-ubyte.gz\n"
          ]
        },
        {
          "output_type": "stream",
          "name": "stderr",
          "text": [
            "100%|██████████| 1.65M/1.65M [00:00<00:00, 4.38MB/s]\n"
          ]
        },
        {
          "output_type": "stream",
          "name": "stdout",
          "text": [
            "Extracting ./data/MNIST/raw/t10k-images-idx3-ubyte.gz to ./data/MNIST/raw\n",
            "\n",
            "Downloading http://yann.lecun.com/exdb/mnist/t10k-labels-idx1-ubyte.gz\n",
            "Failed to download (trying next):\n",
            "HTTP Error 403: Forbidden\n",
            "\n",
            "Downloading https://ossci-datasets.s3.amazonaws.com/mnist/t10k-labels-idx1-ubyte.gz\n",
            "Downloading https://ossci-datasets.s3.amazonaws.com/mnist/t10k-labels-idx1-ubyte.gz to ./data/MNIST/raw/t10k-labels-idx1-ubyte.gz\n"
          ]
        },
        {
          "output_type": "stream",
          "name": "stderr",
          "text": [
            "100%|██████████| 4.54k/4.54k [00:00<00:00, 3.55MB/s]\n"
          ]
        },
        {
          "output_type": "stream",
          "name": "stdout",
          "text": [
            "Extracting ./data/MNIST/raw/t10k-labels-idx1-ubyte.gz to ./data/MNIST/raw\n",
            "\n",
            "Epoch 1/10, Loss: 0.6368\n",
            "Epoch 2/10, Loss: 0.4574\n",
            "Epoch 3/10, Loss: 0.5197\n",
            "Epoch 4/10, Loss: 0.6159\n",
            "Epoch 5/10, Loss: 0.6750\n",
            "Epoch 6/10, Loss: 0.7693\n",
            "Epoch 7/10, Loss: 0.9830\n",
            "Epoch 8/10, Loss: 0.8760\n",
            "Epoch 9/10, Loss: 1.1441\n",
            "Epoch 10/10, Loss: 1.5811\n",
            "Test Accuracy: 0.5553\n"
          ]
        }
      ]
    }
  ]
}