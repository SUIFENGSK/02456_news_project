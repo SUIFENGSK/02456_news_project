{
 "cells": [
  {
   "cell_type": "code",
   "metadata": {
    "ExecuteTime": {
     "end_time": "2024-12-02T18:59:00.957890Z",
     "start_time": "2024-12-02T18:59:00.953443Z"
    }
   },
   "source": [
    "BLACKHOLE = True\n",
    "\n",
    "\n",
    "import os\n",
    "import sys\n",
    "from pathlib import Path\n",
    "\n",
    "\n",
    "if BLACKHOLE:\n",
    "    workspace_path = os.path.expandvars('$BLACKHOLE')\n",
    "    sys.path.append(workspace_path+'/DeepLearning/02456_news_project/src')\n",
    "    DATAPATH = Path(workspace_path+\"/DeepLearning/ebnerd_data\").expanduser()\n",
    "else:\n",
    "    DATAPATH = Path(\"~/ebnerd_data\").expanduser()\n",
    "\n",
    "DATASET = \"ebnerd_demo\"\n",
    "#DATASET = \"ebnerd_small\""
   ],
   "outputs": [],
   "execution_count": 4
  },
  {
   "cell_type": "markdown",
   "metadata": {},
   "source": [
    "Packages:\n",
    "- torch (PyTorch)\n",
    "- transformers (Huggingface)"
   ]
  },
  {
   "cell_type": "code",
   "metadata": {
    "ExecuteTime": {
     "end_time": "2024-12-02T18:59:03.338080Z",
     "start_time": "2024-12-02T18:59:01.011319Z"
    }
   },
   "source": [
    "import torch\n",
    "\n",
    "print(\"torch version:\", torch.__version__)\n",
    "\n",
    "# Check gpu availability\n",
    "\n",
    "\n",
    "device = torch.device(\"cuda\" if torch.cuda.is_available() else \"cpu\")\n",
    "print(device)\n",
    "\n",
    "# Test:\n",
    "#print(torch.zeros(1).cuda())"
   ],
   "outputs": [
    {
     "name": "stdout",
     "output_type": "stream",
     "text": [
      "torch version: 2.1.2+cu121\n",
      "cpu\n"
     ]
    }
   ],
   "execution_count": 5
  },
  {
   "cell_type": "markdown",
   "metadata": {},
   "source": [
    "TODO HERFRA OG NED"
   ]
  },
  {
   "cell_type": "code",
   "metadata": {
    "ExecuteTime": {
     "end_time": "2024-12-02T18:59:04.383926Z",
     "start_time": "2024-12-02T18:59:03.382354Z"
    }
   },
   "source": [
    "from utils.data_handler import NewsDataset\n",
    "import from_ebrec._constants as cs\n",
    "\n",
    "SEED = 42\n",
    "HISTORY_SIZE = 50\n",
    "\n",
    "COLS = [\n",
    "    cs.DEFAULT_USER_COL,\n",
    "    cs.DEFAULT_IMPRESSION_ID_COL,\n",
    "    cs.DEFAULT_IMPRESSION_TIMESTAMP_COL,\n",
    "    cs.DEFAULT_HISTORY_ARTICLE_ID_COL,\n",
    "    cs.DEFAULT_CLICKED_ARTICLES_COL,\n",
    "    cs.DEFAULT_INVIEW_ARTICLES_COL,\n",
    "\n",
    "    cs.DEFAULT_ARTICLE_ID_COL,\n",
    "    cs.DEFAULT_AGE_COL,\n",
    "    cs.DEFAULT_READ_TIME_COL\n",
    "]\n",
    "\n",
    "FRACTION = 0.01\n",
    "#FRACTION = 0.1\n",
    "#FRACTION = 1\n",
    "\n",
    "# test\n",
    "dataset = NewsDataset()\n",
    "\n",
    "dataset.setup_df(dataset_path = DATAPATH, datasplit = DATASET, history_size = HISTORY_SIZE, columns = COLS, fraction = FRACTION, seed = SEED)\n"
   ],
   "outputs": [],
   "execution_count": 6
  },
  {
   "cell_type": "code",
   "metadata": {
    "ExecuteTime": {
     "end_time": "2024-12-02T19:00:43.041548Z",
     "start_time": "2024-12-02T18:59:04.393331Z"
    }
   },
   "source": [
    "import transformers as huggingface\n",
    "from from_ebrec._nlp import get_transformers_word_embeddings\n",
    "from from_ebrec._polars import concat_str_columns\n",
    "from from_ebrec._articles import convert_text2encoding_with_transformers\n",
    "from from_ebrec._articles import create_article_id_to_value_mapping\n",
    "\n",
    "dataset.setup_articles_data(dataset_path = DATAPATH.joinpath(DATASET))\n",
    "\n",
    "df_articles = dataset.df_articles\n",
    "\n",
    "TRANSFORMER_MODEL_NAME = \"FacebookAI/xlm-roberta-base\"\n",
    "TEXT_COLUMNS_TO_USE = [cs.DEFAULT_SUBTITLE_COL, cs.DEFAULT_TITLE_COL]\n",
    "MAX_TITLE_LENGTH = 30\n",
    "\n",
    "# LOAD HUGGINGFACE:\n",
    "transformer_model = huggingface.AutoModel.from_pretrained(TRANSFORMER_MODEL_NAME)\n",
    "transformer_tokenizer = huggingface.AutoTokenizer.from_pretrained(TRANSFORMER_MODEL_NAME)\n",
    "\n",
    "word2vec_embedding = get_transformers_word_embeddings(transformer_model)\n",
    "df_articles, cat_cal = concat_str_columns(df_articles, columns=TEXT_COLUMNS_TO_USE)\n",
    "df_articles, token_col_title = convert_text2encoding_with_transformers(df_articles, transformer_tokenizer, cat_cal, max_length=MAX_TITLE_LENGTH)\n",
    "article_mapping = create_article_id_to_value_mapping(df=df_articles, value_col=token_col_title)\n",
    "\n"
   ],
   "outputs": [
    {
     "name": "stderr",
     "output_type": "stream",
     "text": [
      "/dtu/blackhole/0f/168015/DeepLearning/.venv/lib/python3.10/site-packages/tqdm/auto.py:21: TqdmWarning: IProgress not found. Please update jupyter and ipywidgets. See https://ipywidgets.readthedocs.io/en/stable/user_install.html\n",
      "  from .autonotebook import tqdm as notebook_tqdm\n",
      "/dtu/blackhole/0f/168015/DeepLearning/.venv/lib/python3.10/site-packages/huggingface_hub/file_download.py:797: FutureWarning: `resume_download` is deprecated and will be removed in version 1.0.0. Downloads always resume when possible. If you want to force a new download, use `force_download=True`.\n",
      "  warnings.warn(\n"
     ]
    }
   ],
   "execution_count": 7
  },
  {
   "cell_type": "code",
   "metadata": {
    "ExecuteTime": {
     "end_time": "2024-12-02T19:00:44.275809Z",
     "start_time": "2024-12-02T19:00:43.174534Z"
    }
   },
   "source": [
    "from dataloader import NRMSDataLoader\n",
    "\n",
    "BATCH_SIZE = 64\n",
    "\n",
    "train_dataloader = NRMSDataLoader(\n",
    "    behaviors= dataset.df_train,\n",
    "    article_dict=article_mapping,\n",
    "    unknown_representation=\"zeros\",\n",
    "    history_column= cs.DEFAULT_HISTORY_ARTICLE_ID_COL,\n",
    "    eval_mode=False,\n",
    "    batch_size=BATCH_SIZE,\n",
    ")\n",
    "val_dataloader = NRMSDataLoader(\n",
    "    behaviors= dataset.df_validation,\n",
    "    article_dict=article_mapping,\n",
    "    unknown_representation=\"zeros\",\n",
    "    history_column= cs.DEFAULT_HISTORY_ARTICLE_ID_COL,\n",
    "    eval_mode=False,\n",
    "    batch_size=BATCH_SIZE,\n",
    ")\n"
   ],
   "outputs": [],
   "execution_count": 8
  },
  {
   "cell_type": "code",
   "metadata": {
    "ExecuteTime": {
     "end_time": "2024-12-02T19:00:44.298539Z",
     "start_time": "2024-12-02T19:00:44.281817Z"
    }
   },
   "source": [
    "from nrms import NRMSModel\n",
    "from hyperparameters import hparams_nrms\n",
    "\n",
    "hparams = hparams_nrms()\n",
    "\n",
    "# PARAMETERS\n",
    "hparams.title_size = MAX_TITLE_LENGTH\n",
    "hparams.history_size = HISTORY_SIZE\n",
    "\n",
    "# MODEL ARCHITECTURE\n",
    "hparams.head_num = 20\n",
    "hparams.head_dim = 20\n",
    "hparams.attention_hidden_dim = 200\n",
    "hparams.linear_hidden_dim = 400\n",
    "\n",
    "hparams.use_positional_encoding = True\n",
    "hparams.use_learned_positions = True\n",
    "\n",
    "# MODEL OPTIMIZER:\n",
    "hparams.optimizer = \"adam\"\n",
    "hparams.loss = \"cross_entropy_loss\"\n",
    "hparams.dropout = 0.2\n",
    "hparams.learning_rate = 1e-4\n",
    "\n",
    "model = NRMSModel(hparams=hparams, word2vec_embedding=word2vec_embedding, debug=False)\n",
    "\n",
    "print(model)\n"
   ],
   "outputs": [
    {
     "name": "stdout",
     "output_type": "stream",
     "text": [
      "NRMSModel(\n",
      "  (news_encoder): NewsEncoder(\n",
      "    (embedding): Embedding(250002, 768)\n",
      "    (dropout): Dropout(p=0.2, inplace=False)\n",
      "    (positional_encoder): PositionEncoder(\n",
      "      (position_embeddings): Embedding(30, 768)\n",
      "    )\n",
      "    (self_attention): SelfAttention()\n",
      "    (dense_layers): Sequential(\n",
      "      (0): Linear(in_features=400, out_features=400, bias=True)\n",
      "      (1): ReLU()\n",
      "      (2): LayerNorm((400,), eps=1e-05, elementwise_affine=True)\n",
      "      (3): Dropout(p=0.2, inplace=False)\n",
      "      (4): Linear(in_features=400, out_features=400, bias=True)\n",
      "      (5): ReLU()\n",
      "      (6): LayerNorm((400,), eps=1e-05, elementwise_affine=True)\n",
      "      (7): Dropout(p=0.2, inplace=False)\n",
      "      (8): Linear(in_features=400, out_features=400, bias=True)\n",
      "      (9): ReLU()\n",
      "      (10): LayerNorm((400,), eps=1e-05, elementwise_affine=True)\n",
      "      (11): Dropout(p=0.2, inplace=False)\n",
      "    )\n",
      "    (att_layer): AttLayer2()\n",
      "  )\n",
      "  (user_encoder): UserEncoder(\n",
      "    (title_encoder): NewsEncoder(\n",
      "      (embedding): Embedding(250002, 768)\n",
      "      (dropout): Dropout(p=0.2, inplace=False)\n",
      "      (positional_encoder): PositionEncoder(\n",
      "        (position_embeddings): Embedding(30, 768)\n",
      "      )\n",
      "      (self_attention): SelfAttention()\n",
      "      (dense_layers): Sequential(\n",
      "        (0): Linear(in_features=400, out_features=400, bias=True)\n",
      "        (1): ReLU()\n",
      "        (2): LayerNorm((400,), eps=1e-05, elementwise_affine=True)\n",
      "        (3): Dropout(p=0.2, inplace=False)\n",
      "        (4): Linear(in_features=400, out_features=400, bias=True)\n",
      "        (5): ReLU()\n",
      "        (6): LayerNorm((400,), eps=1e-05, elementwise_affine=True)\n",
      "        (7): Dropout(p=0.2, inplace=False)\n",
      "        (8): Linear(in_features=400, out_features=400, bias=True)\n",
      "        (9): ReLU()\n",
      "        (10): LayerNorm((400,), eps=1e-05, elementwise_affine=True)\n",
      "        (11): Dropout(p=0.2, inplace=False)\n",
      "      )\n",
      "      (att_layer): AttLayer2()\n",
      "    )\n",
      "    (self_attention): SelfAttention()\n",
      "    (att_layer): AttLayer2()\n",
      "  )\n",
      "  (click_predictor): ClickPredictor()\n",
      ")\n"
     ]
    }
   ],
   "execution_count": 9
  },
  {
   "cell_type": "code",
   "metadata": {
    "ExecuteTime": {
     "end_time": "2024-12-02T19:00:44.873346Z",
     "start_time": "2024-12-02T19:00:44.524367Z"
    }
   },
   "source": [
    "import torch.nn as nn\n",
    "import torch.optim as optim\n",
    "\n",
    "# Define the loss function and optimizer\n",
    "if hparams.loss == \"cross_entropy_loss\":\n",
    "    criterion = nn.CrossEntropyLoss() \n",
    "elif hparams.loss == \"mse_loss\":\n",
    "    criterion = nn.MSELoss()\n",
    "else:\n",
    "    raise ValueError(f\"Loss function {hparams.loss} not supported\")\n",
    "\n",
    "if hparams.optimizer == \"adam\":\n",
    "    optimizer = optim.Adam(model.parameters(), lr=hparams_nrms.learning_rate)\n",
    "else:\n",
    "    raise ValueError(f\"Optimizer {hparams.optimizer} not supported\")"
   ],
   "outputs": [],
   "execution_count": 10
  },
  {
   "cell_type": "code",
   "metadata": {
    "ExecuteTime": {
     "end_time": "2024-12-02T19:11:41.960732Z",
     "start_time": "2024-12-02T19:00:45.100329Z"
    }
   },
   "source": [
    "from tqdm import tqdm  # for progress bars\n",
    "# Train the model \n",
    "\n",
    "EPOCHS = 10\n",
    "\n",
    "# Move model to GPU if available\n",
    "model.to(device)\n",
    "\n",
    "# Training loop\n",
    "train_loss_history, val_loss_history = [], []\n",
    "\n",
    "for epoch in range(EPOCHS):\n",
    "    model.train()  # Set the model to training mode\n",
    "    train_loss = 0.0\n",
    "\n",
    "    for batch in tqdm(train_dataloader, desc=f\"Training Epoch {epoch + 1}/{EPOCHS}\"):\n",
    "        # Unpacking of batch\n",
    "        (inputs, labels) = batch\n",
    "        his_input_title, pred_input_title = inputs\n",
    "\n",
    "        # Move data to device\n",
    "        his_input_title = his_input_title.to(device)\n",
    "        pred_input_title = pred_input_title.to(device)\n",
    "\n",
    "        labels = labels.to(device)\n",
    "\n",
    "        # Forward pass\n",
    "        outputs = model(pred_input_title, his_input_title)  \n",
    "        loss = criterion(outputs, labels)\n",
    "\n",
    "        # Backward pass\n",
    "        optimizer.zero_grad()\n",
    "        loss.backward()\n",
    "        optimizer.step()\n",
    "\n",
    "        train_loss += loss.item()\n",
    "\n",
    "    # Validation loop\n",
    "    model.eval()\n",
    "    val_loss = 0.0\n",
    "    with torch.no_grad():\n",
    "        for batch in tqdm(val_dataloader, desc=f\"Validation Epoch {epoch + 1}/{EPOCHS}\"):\n",
    "            (inputs, labels) = batch\n",
    "            his_input_title, pred_input_title = inputs\n",
    "\n",
    "            his_input_title = his_input_title.to(device)\n",
    "            pred_input_title = pred_input_title.to(device)\n",
    "            labels = labels.to(device)\n",
    "\n",
    "            outputs = model(pred_input_title, his_input_title)\n",
    "            loss = criterion(outputs, labels)\n",
    "\n",
    "            #print(\"Output\")\n",
    "            #print(outputs.tolist())\n",
    "            #print(\"Labels\")\n",
    "            #print(labels.tolist())\n",
    "            #print(\"\")   \n",
    "            \n",
    "            val_loss += loss.item()\n",
    "\n",
    "    train_loss /= len(train_dataloader)\n",
    "    val_loss /= len(val_dataloader)\n",
    "    train_loss_history.append(train_loss)\n",
    "    val_loss_history.append(val_loss)\n",
    "\n",
    "    print(f\"Epoch {epoch + 1}/{EPOCHS}: Train Loss = {train_loss:.4f}, Val Loss = {val_loss:.4f}\")\n"
   ],
   "outputs": [
    {
     "name": "stderr",
     "output_type": "stream",
     "text": [
      "Training Epoch 1/10: 100%|██████████| 4/4 [01:35<00:00, 23.99s/it]\n",
      "Validation Epoch 1/10: 100%|██████████| 1/1 [00:00<00:00,  2.94it/s]\n"
     ]
    },
    {
     "name": "stdout",
     "output_type": "stream",
     "text": [
      "Epoch 1/10: Train Loss = nan, Val Loss = nan\n"
     ]
    },
    {
     "name": "stderr",
     "output_type": "stream",
     "text": [
      "Training Epoch 2/10: 100%|██████████| 4/4 [01:04<00:00, 16.05s/it]\n",
      "Validation Epoch 2/10: 100%|██████████| 1/1 [00:00<00:00,  2.82it/s]\n"
     ]
    },
    {
     "name": "stdout",
     "output_type": "stream",
     "text": [
      "Epoch 2/10: Train Loss = nan, Val Loss = nan\n"
     ]
    },
    {
     "name": "stderr",
     "output_type": "stream",
     "text": [
      "Training Epoch 3/10: 100%|██████████| 4/4 [01:08<00:00, 17.02s/it]\n",
      "Validation Epoch 3/10: 100%|██████████| 1/1 [00:00<00:00,  2.96it/s]\n"
     ]
    },
    {
     "name": "stdout",
     "output_type": "stream",
     "text": [
      "Epoch 3/10: Train Loss = nan, Val Loss = nan\n"
     ]
    },
    {
     "name": "stderr",
     "output_type": "stream",
     "text": [
      "Training Epoch 4/10: 100%|██████████| 4/4 [01:05<00:00, 16.41s/it]\n",
      "Validation Epoch 4/10: 100%|██████████| 1/1 [00:00<00:00,  2.96it/s]\n"
     ]
    },
    {
     "name": "stdout",
     "output_type": "stream",
     "text": [
      "Epoch 4/10: Train Loss = nan, Val Loss = nan\n"
     ]
    },
    {
     "name": "stderr",
     "output_type": "stream",
     "text": [
      "Training Epoch 5/10: 100%|██████████| 4/4 [01:01<00:00, 15.29s/it]\n",
      "Validation Epoch 5/10: 100%|██████████| 1/1 [00:00<00:00,  2.98it/s]\n"
     ]
    },
    {
     "name": "stdout",
     "output_type": "stream",
     "text": [
      "Epoch 5/10: Train Loss = nan, Val Loss = nan\n"
     ]
    },
    {
     "name": "stderr",
     "output_type": "stream",
     "text": [
      "Training Epoch 6/10: 100%|██████████| 4/4 [01:00<00:00, 15.23s/it]\n",
      "Validation Epoch 6/10: 100%|██████████| 1/1 [00:00<00:00,  2.97it/s]\n"
     ]
    },
    {
     "name": "stdout",
     "output_type": "stream",
     "text": [
      "Epoch 6/10: Train Loss = nan, Val Loss = nan\n"
     ]
    },
    {
     "name": "stderr",
     "output_type": "stream",
     "text": [
      "Training Epoch 7/10: 100%|██████████| 4/4 [01:01<00:00, 15.45s/it]\n",
      "Validation Epoch 7/10: 100%|██████████| 1/1 [00:00<00:00,  2.98it/s]\n"
     ]
    },
    {
     "name": "stdout",
     "output_type": "stream",
     "text": [
      "Epoch 7/10: Train Loss = nan, Val Loss = nan\n"
     ]
    },
    {
     "name": "stderr",
     "output_type": "stream",
     "text": [
      "Training Epoch 8/10: 100%|██████████| 4/4 [01:01<00:00, 15.40s/it]\n",
      "Validation Epoch 8/10: 100%|██████████| 1/1 [00:00<00:00,  2.82it/s]\n"
     ]
    },
    {
     "name": "stdout",
     "output_type": "stream",
     "text": [
      "Epoch 8/10: Train Loss = nan, Val Loss = nan\n"
     ]
    },
    {
     "name": "stderr",
     "output_type": "stream",
     "text": [
      "Training Epoch 9/10: 100%|██████████| 4/4 [00:57<00:00, 14.42s/it]\n",
      "Validation Epoch 9/10: 100%|██████████| 1/1 [00:00<00:00,  2.84it/s]\n"
     ]
    },
    {
     "name": "stdout",
     "output_type": "stream",
     "text": [
      "Epoch 9/10: Train Loss = nan, Val Loss = nan\n"
     ]
    },
    {
     "name": "stderr",
     "output_type": "stream",
     "text": [
      "Training Epoch 10/10: 100%|██████████| 4/4 [00:56<00:00, 14.07s/it]\n",
      "Validation Epoch 10/10: 100%|██████████| 1/1 [00:00<00:00,  2.81it/s]"
     ]
    },
    {
     "name": "stdout",
     "output_type": "stream",
     "text": [
      "Epoch 10/10: Train Loss = nan, Val Loss = nan\n"
     ]
    },
    {
     "name": "stderr",
     "output_type": "stream",
     "text": [
      "\n"
     ]
    }
   ],
   "execution_count": 11
  },
  {
   "cell_type": "code",
   "metadata": {
    "ExecuteTime": {
     "end_time": "2024-12-02T19:11:42.595429Z",
     "start_time": "2024-12-02T19:11:42.476147Z"
    }
   },
   "source": [
    "# Plot the loss history\n",
    "import matplotlib.pyplot as plt\n",
    "\n",
    "plt.plot(train_loss_history, label=\"Train Loss\")\n",
    "plt.plot(val_loss_history, label=\"Val Loss\")\n",
    "plt.xlabel(\"Epoch\")\n",
    "plt.ylabel(\"Loss\")\n",
    "plt.legend()\n",
    "plt.show()\n"
   ],
   "outputs": [
    {
     "data": {
      "text/plain": [
       "<Figure size 640x480 with 1 Axes>"
      ],
      "image/png": "[encoded data removed]"
     },
     "metadata": {},
     "output_type": "display_data"
    }
   ],
   "execution_count": 12
  },
  {
   "cell_type": "code",
   "metadata": {
    "ExecuteTime": {
     "end_time": "2024-12-02T19:11:51.454234Z",
     "start_time": "2024-12-02T19:11:42.600246Z"
    }
   },
   "source": [
    "# Evaluate the model\n",
    "BATCH_SIZE_TEST = 1 # Currently onoy supports batch size 1\n",
    "\n",
    "dataset.setup_test_data(dataset_path = DATAPATH, datasplit = DATASET, history_size = HISTORY_SIZE, columns = COLS, fraction = FRACTION, seed = SEED)\n",
    "\n",
    "test_dataloader = NRMSDataLoader(\n",
    "    behaviors=dataset.df_test,\n",
    "    article_dict=article_mapping,\n",
    "    unknown_representation=\"zeros\",\n",
    "    history_column=cs.DEFAULT_HISTORY_ARTICLE_ID_COL,\n",
    "    eval_mode=False, # Is true in EBREC, but then it does not work\n",
    "    batch_size=BATCH_SIZE_TEST,\n",
    ")\n",
    "\n",
    "# go from [[a], [b], [c]] to [a, b, c]\n",
    "def convert_to_list(l):\n",
    "    return [(item) for sublist in l for item in sublist]\n",
    "model.eval()\n",
    "\n",
    "pred_test = []\n",
    "with torch.no_grad():\n",
    "    for batch in tqdm(test_dataloader, desc=\"Test\"):\n",
    "        (inputs, labels) = batch\n",
    "        his_input_title, pred_input_title = inputs\n",
    "\n",
    "\n",
    "        his_input_title = his_input_title.to(device)\n",
    "        pred_input_title = pred_input_title.to(device)\n",
    "        labels = labels.to(device)\n",
    "\n",
    "        outputs = model(pred_input_title, his_input_title)\n",
    "\n",
    "        #print(\"Output\")\n",
    "        #print(outputs.tolist())\n",
    "        #print(\"Labels\")\n",
    "        #print(labels.tolist())\n",
    "        bob = convert_to_list(outputs.tolist())\n",
    "        #print(bob)\n",
    "        #print(convert_to_int_list(labels.tolist()))\n",
    "        #print(\"\")\n",
    "\n",
    "\n",
    "        pred_test.append(bob)\n",
    "\n",
    "from from_ebrec.evaluation import MetricEvaluator\n",
    "from from_ebrec.evaluation import AucScore, MrrScore, NdcgScore\n",
    "metrics = MetricEvaluator(\n",
    "    labels= dataset.df_test[\"labels\"].to_list(),\n",
    "    predictions= pred_test,\n",
    "    metric_functions=[AucScore(), MrrScore(), NdcgScore(k=5), NdcgScore(k=10)],\n",
    ")\n",
    "metrics.evaluate()"
   ],
   "outputs": [
    {
     "name": "stderr",
     "output_type": "stream",
     "text": [
      "Test: 100%|██████████| 253/253 [00:07<00:00, 32.70it/s]\n",
      "AUC:   0%|                                              | 0/253 [00:00<?, ?it/s]"
     ]
    },
    {
     "ename": "ValueError",
     "evalue": "Input contains NaN.",
     "output_type": "error",
     "traceback": [
      "\u001B[0;31m---------------------------------------------------------------------------\u001B[0m",
      "\u001B[0;31mValueError\u001B[0m                                Traceback (most recent call last)",
      "Cell \u001B[0;32mIn[13], line 52\u001B[0m\n\u001B[1;32m     46\u001B[0m \u001B[38;5;28;01mfrom\u001B[39;00m \u001B[38;5;21;01mfrom_ebrec\u001B[39;00m\u001B[38;5;21;01m.\u001B[39;00m\u001B[38;5;21;01mevaluation\u001B[39;00m \u001B[38;5;28;01mimport\u001B[39;00m AucScore, MrrScore, NdcgScore\n\u001B[1;32m     47\u001B[0m metrics \u001B[38;5;241m=\u001B[39m MetricEvaluator(\n\u001B[1;32m     48\u001B[0m     labels\u001B[38;5;241m=\u001B[39m dataset\u001B[38;5;241m.\u001B[39mdf_test[\u001B[38;5;124m\"\u001B[39m\u001B[38;5;124mlabels\u001B[39m\u001B[38;5;124m\"\u001B[39m]\u001B[38;5;241m.\u001B[39mto_list(),\n\u001B[1;32m     49\u001B[0m     predictions\u001B[38;5;241m=\u001B[39m pred_test,\n\u001B[1;32m     50\u001B[0m     metric_functions\u001B[38;5;241m=\u001B[39m[AucScore(), MrrScore(), NdcgScore(k\u001B[38;5;241m=\u001B[39m\u001B[38;5;241m5\u001B[39m), NdcgScore(k\u001B[38;5;241m=\u001B[39m\u001B[38;5;241m10\u001B[39m)],\n\u001B[1;32m     51\u001B[0m )\n\u001B[0;32m---> 52\u001B[0m \u001B[43mmetrics\u001B[49m\u001B[38;5;241;43m.\u001B[39;49m\u001B[43mevaluate\u001B[49m\u001B[43m(\u001B[49m\u001B[43m)\u001B[49m\n",
      "File \u001B[0;32m/dtu/blackhole/0f/168015/DeepLearning/02456_news_project/src/torch_nerd/from_ebrec/evaluation/metrics_protocols.py:185\u001B[0m, in \u001B[0;36mMetricEvaluator.evaluate\u001B[0;34m(self)\u001B[0m\n\u001B[1;32m    184\u001B[0m \u001B[38;5;28;01mdef\u001B[39;00m \u001B[38;5;21mevaluate\u001B[39m(\u001B[38;5;28mself\u001B[39m) \u001B[38;5;241m-\u001B[39m\u001B[38;5;241m>\u001B[39m \u001B[38;5;28mdict\u001B[39m:\n\u001B[0;32m--> 185\u001B[0m     \u001B[38;5;28mself\u001B[39m\u001B[38;5;241m.\u001B[39mevaluations \u001B[38;5;241m=\u001B[39m {\n\u001B[1;32m    186\u001B[0m         metric_function\u001B[38;5;241m.\u001B[39mname: metric_function(\u001B[38;5;28mself\u001B[39m\u001B[38;5;241m.\u001B[39mlabels, \u001B[38;5;28mself\u001B[39m\u001B[38;5;241m.\u001B[39mpredictions)\n\u001B[1;32m    187\u001B[0m         \u001B[38;5;28;01mfor\u001B[39;00m metric_function \u001B[38;5;129;01min\u001B[39;00m \u001B[38;5;28mself\u001B[39m\u001B[38;5;241m.\u001B[39mmetric_functions\n\u001B[1;32m    188\u001B[0m     }\n\u001B[1;32m    189\u001B[0m     \u001B[38;5;28;01mreturn\u001B[39;00m \u001B[38;5;28mself\u001B[39m\n",
      "File \u001B[0;32m/dtu/blackhole/0f/168015/DeepLearning/02456_news_project/src/torch_nerd/from_ebrec/evaluation/metrics_protocols.py:186\u001B[0m, in \u001B[0;36m<dictcomp>\u001B[0;34m(.0)\u001B[0m\n\u001B[1;32m    184\u001B[0m \u001B[38;5;28;01mdef\u001B[39;00m \u001B[38;5;21mevaluate\u001B[39m(\u001B[38;5;28mself\u001B[39m) \u001B[38;5;241m-\u001B[39m\u001B[38;5;241m>\u001B[39m \u001B[38;5;28mdict\u001B[39m:\n\u001B[1;32m    185\u001B[0m     \u001B[38;5;28mself\u001B[39m\u001B[38;5;241m.\u001B[39mevaluations \u001B[38;5;241m=\u001B[39m {\n\u001B[0;32m--> 186\u001B[0m         metric_function\u001B[38;5;241m.\u001B[39mname: \u001B[43mmetric_function\u001B[49m\u001B[43m(\u001B[49m\u001B[38;5;28;43mself\u001B[39;49m\u001B[38;5;241;43m.\u001B[39;49m\u001B[43mlabels\u001B[49m\u001B[43m,\u001B[49m\u001B[43m \u001B[49m\u001B[38;5;28;43mself\u001B[39;49m\u001B[38;5;241;43m.\u001B[39;49m\u001B[43mpredictions\u001B[49m\u001B[43m)\u001B[49m\n\u001B[1;32m    187\u001B[0m         \u001B[38;5;28;01mfor\u001B[39;00m metric_function \u001B[38;5;129;01min\u001B[39;00m \u001B[38;5;28mself\u001B[39m\u001B[38;5;241m.\u001B[39mmetric_functions\n\u001B[1;32m    188\u001B[0m     }\n\u001B[1;32m    189\u001B[0m     \u001B[38;5;28;01mreturn\u001B[39;00m \u001B[38;5;28mself\u001B[39m\n",
      "File \u001B[0;32m/dtu/blackhole/0f/168015/DeepLearning/02456_news_project/src/torch_nerd/from_ebrec/evaluation/protocols.py:17\u001B[0m, in \u001B[0;36mMetric.__call__\u001B[0;34m(self, y_true, y_score)\u001B[0m\n\u001B[1;32m     16\u001B[0m \u001B[38;5;28;01mdef\u001B[39;00m \u001B[38;5;21m__call__\u001B[39m(\u001B[38;5;28mself\u001B[39m, y_true: np\u001B[38;5;241m.\u001B[39mndarray, y_score: np\u001B[38;5;241m.\u001B[39mndarray) \u001B[38;5;241m-\u001B[39m\u001B[38;5;241m>\u001B[39m \u001B[38;5;28mfloat\u001B[39m:\n\u001B[0;32m---> 17\u001B[0m     \u001B[38;5;28;01mreturn\u001B[39;00m \u001B[38;5;28;43mself\u001B[39;49m\u001B[38;5;241;43m.\u001B[39;49m\u001B[43mcalculate\u001B[49m\u001B[43m(\u001B[49m\u001B[43my_true\u001B[49m\u001B[43m,\u001B[49m\u001B[43m \u001B[49m\u001B[43my_score\u001B[49m\u001B[43m)\u001B[49m\n",
      "File \u001B[0;32m/dtu/blackhole/0f/168015/DeepLearning/02456_news_project/src/torch_nerd/from_ebrec/evaluation/metrics_protocols.py:79\u001B[0m, in \u001B[0;36mAucScore.calculate\u001B[0;34m(self, y_true, y_pred)\u001B[0m\n\u001B[1;32m     77\u001B[0m \u001B[38;5;28;01mdef\u001B[39;00m \u001B[38;5;21mcalculate\u001B[39m(\u001B[38;5;28mself\u001B[39m, y_true: \u001B[38;5;28mlist\u001B[39m[np\u001B[38;5;241m.\u001B[39mndarray], y_pred: \u001B[38;5;28mlist\u001B[39m[np\u001B[38;5;241m.\u001B[39mndarray]) \u001B[38;5;241m-\u001B[39m\u001B[38;5;241m>\u001B[39m \u001B[38;5;28mfloat\u001B[39m:\n\u001B[1;32m     78\u001B[0m     res \u001B[38;5;241m=\u001B[39m np\u001B[38;5;241m.\u001B[39mmean(\n\u001B[0;32m---> 79\u001B[0m         [\n\u001B[1;32m     80\u001B[0m             roc_auc_score(each_labels, each_preds)\n\u001B[1;32m     81\u001B[0m             \u001B[38;5;28;01mfor\u001B[39;00m each_labels, each_preds \u001B[38;5;129;01min\u001B[39;00m tqdm(\n\u001B[1;32m     82\u001B[0m                 \u001B[38;5;28mzip\u001B[39m(y_true, y_pred), ncols\u001B[38;5;241m=\u001B[39m\u001B[38;5;241m80\u001B[39m, total\u001B[38;5;241m=\u001B[39m\u001B[38;5;28mlen\u001B[39m(y_true), desc\u001B[38;5;241m=\u001B[39m\u001B[38;5;124m\"\u001B[39m\u001B[38;5;124mAUC\u001B[39m\u001B[38;5;124m\"\u001B[39m\n\u001B[1;32m     83\u001B[0m             )\n\u001B[1;32m     84\u001B[0m         ]\n\u001B[1;32m     85\u001B[0m     )\n\u001B[1;32m     86\u001B[0m     \u001B[38;5;28;01mreturn\u001B[39;00m \u001B[38;5;28mfloat\u001B[39m(res)\n",
      "File \u001B[0;32m/dtu/blackhole/0f/168015/DeepLearning/02456_news_project/src/torch_nerd/from_ebrec/evaluation/metrics_protocols.py:80\u001B[0m, in \u001B[0;36m<listcomp>\u001B[0;34m(.0)\u001B[0m\n\u001B[1;32m     77\u001B[0m \u001B[38;5;28;01mdef\u001B[39;00m \u001B[38;5;21mcalculate\u001B[39m(\u001B[38;5;28mself\u001B[39m, y_true: \u001B[38;5;28mlist\u001B[39m[np\u001B[38;5;241m.\u001B[39mndarray], y_pred: \u001B[38;5;28mlist\u001B[39m[np\u001B[38;5;241m.\u001B[39mndarray]) \u001B[38;5;241m-\u001B[39m\u001B[38;5;241m>\u001B[39m \u001B[38;5;28mfloat\u001B[39m:\n\u001B[1;32m     78\u001B[0m     res \u001B[38;5;241m=\u001B[39m np\u001B[38;5;241m.\u001B[39mmean(\n\u001B[1;32m     79\u001B[0m         [\n\u001B[0;32m---> 80\u001B[0m             \u001B[43mroc_auc_score\u001B[49m\u001B[43m(\u001B[49m\u001B[43meach_labels\u001B[49m\u001B[43m,\u001B[49m\u001B[43m \u001B[49m\u001B[43meach_preds\u001B[49m\u001B[43m)\u001B[49m\n\u001B[1;32m     81\u001B[0m             \u001B[38;5;28;01mfor\u001B[39;00m each_labels, each_preds \u001B[38;5;129;01min\u001B[39;00m tqdm(\n\u001B[1;32m     82\u001B[0m                 \u001B[38;5;28mzip\u001B[39m(y_true, y_pred), ncols\u001B[38;5;241m=\u001B[39m\u001B[38;5;241m80\u001B[39m, total\u001B[38;5;241m=\u001B[39m\u001B[38;5;28mlen\u001B[39m(y_true), desc\u001B[38;5;241m=\u001B[39m\u001B[38;5;124m\"\u001B[39m\u001B[38;5;124mAUC\u001B[39m\u001B[38;5;124m\"\u001B[39m\n\u001B[1;32m     83\u001B[0m             )\n\u001B[1;32m     84\u001B[0m         ]\n\u001B[1;32m     85\u001B[0m     )\n\u001B[1;32m     86\u001B[0m     \u001B[38;5;28;01mreturn\u001B[39;00m \u001B[38;5;28mfloat\u001B[39m(res)\n",
      "File \u001B[0;32m/dtu/blackhole/0f/168015/DeepLearning/.venv/lib/python3.10/site-packages/sklearn/utils/_param_validation.py:213\u001B[0m, in \u001B[0;36mvalidate_params.<locals>.decorator.<locals>.wrapper\u001B[0;34m(*args, **kwargs)\u001B[0m\n\u001B[1;32m    207\u001B[0m \u001B[38;5;28;01mtry\u001B[39;00m:\n\u001B[1;32m    208\u001B[0m     \u001B[38;5;28;01mwith\u001B[39;00m config_context(\n\u001B[1;32m    209\u001B[0m         skip_parameter_validation\u001B[38;5;241m=\u001B[39m(\n\u001B[1;32m    210\u001B[0m             prefer_skip_nested_validation \u001B[38;5;129;01mor\u001B[39;00m global_skip_validation\n\u001B[1;32m    211\u001B[0m         )\n\u001B[1;32m    212\u001B[0m     ):\n\u001B[0;32m--> 213\u001B[0m         \u001B[38;5;28;01mreturn\u001B[39;00m \u001B[43mfunc\u001B[49m\u001B[43m(\u001B[49m\u001B[38;5;241;43m*\u001B[39;49m\u001B[43margs\u001B[49m\u001B[43m,\u001B[49m\u001B[43m \u001B[49m\u001B[38;5;241;43m*\u001B[39;49m\u001B[38;5;241;43m*\u001B[39;49m\u001B[43mkwargs\u001B[49m\u001B[43m)\u001B[49m\n\u001B[1;32m    214\u001B[0m \u001B[38;5;28;01mexcept\u001B[39;00m InvalidParameterError \u001B[38;5;28;01mas\u001B[39;00m e:\n\u001B[1;32m    215\u001B[0m     \u001B[38;5;66;03m# When the function is just a wrapper around an estimator, we allow\u001B[39;00m\n\u001B[1;32m    216\u001B[0m     \u001B[38;5;66;03m# the function to delegate validation to the estimator, but we replace\u001B[39;00m\n\u001B[1;32m    217\u001B[0m     \u001B[38;5;66;03m# the name of the estimator by the name of the function in the error\u001B[39;00m\n\u001B[1;32m    218\u001B[0m     \u001B[38;5;66;03m# message to avoid confusion.\u001B[39;00m\n\u001B[1;32m    219\u001B[0m     msg \u001B[38;5;241m=\u001B[39m re\u001B[38;5;241m.\u001B[39msub(\n\u001B[1;32m    220\u001B[0m         \u001B[38;5;124mr\u001B[39m\u001B[38;5;124m\"\u001B[39m\u001B[38;5;124mparameter of \u001B[39m\u001B[38;5;124m\\\u001B[39m\u001B[38;5;124mw+ must be\u001B[39m\u001B[38;5;124m\"\u001B[39m,\n\u001B[1;32m    221\u001B[0m         \u001B[38;5;124mf\u001B[39m\u001B[38;5;124m\"\u001B[39m\u001B[38;5;124mparameter of \u001B[39m\u001B[38;5;132;01m{\u001B[39;00mfunc\u001B[38;5;241m.\u001B[39m\u001B[38;5;18m__qualname__\u001B[39m\u001B[38;5;132;01m}\u001B[39;00m\u001B[38;5;124m must be\u001B[39m\u001B[38;5;124m\"\u001B[39m,\n\u001B[1;32m    222\u001B[0m         \u001B[38;5;28mstr\u001B[39m(e),\n\u001B[1;32m    223\u001B[0m     )\n",
      "File \u001B[0;32m/dtu/blackhole/0f/168015/DeepLearning/.venv/lib/python3.10/site-packages/sklearn/metrics/_ranking.py:606\u001B[0m, in \u001B[0;36mroc_auc_score\u001B[0;34m(y_true, y_score, average, sample_weight, max_fpr, multi_class, labels)\u001B[0m\n\u001B[1;32m    604\u001B[0m y_type \u001B[38;5;241m=\u001B[39m type_of_target(y_true, input_name\u001B[38;5;241m=\u001B[39m\u001B[38;5;124m\"\u001B[39m\u001B[38;5;124my_true\u001B[39m\u001B[38;5;124m\"\u001B[39m)\n\u001B[1;32m    605\u001B[0m y_true \u001B[38;5;241m=\u001B[39m check_array(y_true, ensure_2d\u001B[38;5;241m=\u001B[39m\u001B[38;5;28;01mFalse\u001B[39;00m, dtype\u001B[38;5;241m=\u001B[39m\u001B[38;5;28;01mNone\u001B[39;00m)\n\u001B[0;32m--> 606\u001B[0m y_score \u001B[38;5;241m=\u001B[39m \u001B[43mcheck_array\u001B[49m\u001B[43m(\u001B[49m\u001B[43my_score\u001B[49m\u001B[43m,\u001B[49m\u001B[43m \u001B[49m\u001B[43mensure_2d\u001B[49m\u001B[38;5;241;43m=\u001B[39;49m\u001B[38;5;28;43;01mFalse\u001B[39;49;00m\u001B[43m)\u001B[49m\n\u001B[1;32m    608\u001B[0m \u001B[38;5;28;01mif\u001B[39;00m y_type \u001B[38;5;241m==\u001B[39m \u001B[38;5;124m\"\u001B[39m\u001B[38;5;124mmulticlass\u001B[39m\u001B[38;5;124m\"\u001B[39m \u001B[38;5;129;01mor\u001B[39;00m (\n\u001B[1;32m    609\u001B[0m     y_type \u001B[38;5;241m==\u001B[39m \u001B[38;5;124m\"\u001B[39m\u001B[38;5;124mbinary\u001B[39m\u001B[38;5;124m\"\u001B[39m \u001B[38;5;129;01mand\u001B[39;00m y_score\u001B[38;5;241m.\u001B[39mndim \u001B[38;5;241m==\u001B[39m \u001B[38;5;241m2\u001B[39m \u001B[38;5;129;01mand\u001B[39;00m y_score\u001B[38;5;241m.\u001B[39mshape[\u001B[38;5;241m1\u001B[39m] \u001B[38;5;241m>\u001B[39m \u001B[38;5;241m2\u001B[39m\n\u001B[1;32m    610\u001B[0m ):\n\u001B[1;32m    611\u001B[0m     \u001B[38;5;66;03m# do not support partial ROC computation for multiclass\u001B[39;00m\n\u001B[1;32m    612\u001B[0m     \u001B[38;5;28;01mif\u001B[39;00m max_fpr \u001B[38;5;129;01mis\u001B[39;00m \u001B[38;5;129;01mnot\u001B[39;00m \u001B[38;5;28;01mNone\u001B[39;00m \u001B[38;5;129;01mand\u001B[39;00m max_fpr \u001B[38;5;241m!=\u001B[39m \u001B[38;5;241m1.0\u001B[39m:\n",
      "File \u001B[0;32m/dtu/blackhole/0f/168015/DeepLearning/.venv/lib/python3.10/site-packages/sklearn/utils/validation.py:1003\u001B[0m, in \u001B[0;36mcheck_array\u001B[0;34m(array, accept_sparse, accept_large_sparse, dtype, order, copy, force_all_finite, ensure_2d, allow_nd, ensure_min_samples, ensure_min_features, estimator, input_name)\u001B[0m\n\u001B[1;32m    997\u001B[0m     \u001B[38;5;28;01mraise\u001B[39;00m \u001B[38;5;167;01mValueError\u001B[39;00m(\n\u001B[1;32m    998\u001B[0m         \u001B[38;5;124m\"\u001B[39m\u001B[38;5;124mFound array with dim \u001B[39m\u001B[38;5;132;01m%d\u001B[39;00m\u001B[38;5;124m. \u001B[39m\u001B[38;5;132;01m%s\u001B[39;00m\u001B[38;5;124m expected <= 2.\u001B[39m\u001B[38;5;124m\"\u001B[39m\n\u001B[1;32m    999\u001B[0m         \u001B[38;5;241m%\u001B[39m (array\u001B[38;5;241m.\u001B[39mndim, estimator_name)\n\u001B[1;32m   1000\u001B[0m     )\n\u001B[1;32m   1002\u001B[0m \u001B[38;5;28;01mif\u001B[39;00m force_all_finite:\n\u001B[0;32m-> 1003\u001B[0m     \u001B[43m_assert_all_finite\u001B[49m\u001B[43m(\u001B[49m\n\u001B[1;32m   1004\u001B[0m \u001B[43m        \u001B[49m\u001B[43marray\u001B[49m\u001B[43m,\u001B[49m\n\u001B[1;32m   1005\u001B[0m \u001B[43m        \u001B[49m\u001B[43minput_name\u001B[49m\u001B[38;5;241;43m=\u001B[39;49m\u001B[43minput_name\u001B[49m\u001B[43m,\u001B[49m\n\u001B[1;32m   1006\u001B[0m \u001B[43m        \u001B[49m\u001B[43mestimator_name\u001B[49m\u001B[38;5;241;43m=\u001B[39;49m\u001B[43mestimator_name\u001B[49m\u001B[43m,\u001B[49m\n\u001B[1;32m   1007\u001B[0m \u001B[43m        \u001B[49m\u001B[43mallow_nan\u001B[49m\u001B[38;5;241;43m=\u001B[39;49m\u001B[43mforce_all_finite\u001B[49m\u001B[43m \u001B[49m\u001B[38;5;241;43m==\u001B[39;49m\u001B[43m \u001B[49m\u001B[38;5;124;43m\"\u001B[39;49m\u001B[38;5;124;43mallow-nan\u001B[39;49m\u001B[38;5;124;43m\"\u001B[39;49m\u001B[43m,\u001B[49m\n\u001B[1;32m   1008\u001B[0m \u001B[43m    \u001B[49m\u001B[43m)\u001B[49m\n\u001B[1;32m   1010\u001B[0m \u001B[38;5;28;01mif\u001B[39;00m copy:\n\u001B[1;32m   1011\u001B[0m     \u001B[38;5;28;01mif\u001B[39;00m _is_numpy_namespace(xp):\n\u001B[1;32m   1012\u001B[0m         \u001B[38;5;66;03m# only make a copy if `array` and `array_orig` may share memory`\u001B[39;00m\n",
      "File \u001B[0;32m/dtu/blackhole/0f/168015/DeepLearning/.venv/lib/python3.10/site-packages/sklearn/utils/validation.py:126\u001B[0m, in \u001B[0;36m_assert_all_finite\u001B[0;34m(X, allow_nan, msg_dtype, estimator_name, input_name)\u001B[0m\n\u001B[1;32m    123\u001B[0m \u001B[38;5;28;01mif\u001B[39;00m first_pass_isfinite:\n\u001B[1;32m    124\u001B[0m     \u001B[38;5;28;01mreturn\u001B[39;00m\n\u001B[0;32m--> 126\u001B[0m \u001B[43m_assert_all_finite_element_wise\u001B[49m\u001B[43m(\u001B[49m\n\u001B[1;32m    127\u001B[0m \u001B[43m    \u001B[49m\u001B[43mX\u001B[49m\u001B[43m,\u001B[49m\n\u001B[1;32m    128\u001B[0m \u001B[43m    \u001B[49m\u001B[43mxp\u001B[49m\u001B[38;5;241;43m=\u001B[39;49m\u001B[43mxp\u001B[49m\u001B[43m,\u001B[49m\n\u001B[1;32m    129\u001B[0m \u001B[43m    \u001B[49m\u001B[43mallow_nan\u001B[49m\u001B[38;5;241;43m=\u001B[39;49m\u001B[43mallow_nan\u001B[49m\u001B[43m,\u001B[49m\n\u001B[1;32m    130\u001B[0m \u001B[43m    \u001B[49m\u001B[43mmsg_dtype\u001B[49m\u001B[38;5;241;43m=\u001B[39;49m\u001B[43mmsg_dtype\u001B[49m\u001B[43m,\u001B[49m\n\u001B[1;32m    131\u001B[0m \u001B[43m    \u001B[49m\u001B[43mestimator_name\u001B[49m\u001B[38;5;241;43m=\u001B[39;49m\u001B[43mestimator_name\u001B[49m\u001B[43m,\u001B[49m\n\u001B[1;32m    132\u001B[0m \u001B[43m    \u001B[49m\u001B[43minput_name\u001B[49m\u001B[38;5;241;43m=\u001B[39;49m\u001B[43minput_name\u001B[49m\u001B[43m,\u001B[49m\n\u001B[1;32m    133\u001B[0m \u001B[43m\u001B[49m\u001B[43m)\u001B[49m\n",
      "File \u001B[0;32m/dtu/blackhole/0f/168015/DeepLearning/.venv/lib/python3.10/site-packages/sklearn/utils/validation.py:175\u001B[0m, in \u001B[0;36m_assert_all_finite_element_wise\u001B[0;34m(X, xp, allow_nan, msg_dtype, estimator_name, input_name)\u001B[0m\n\u001B[1;32m    158\u001B[0m \u001B[38;5;28;01mif\u001B[39;00m estimator_name \u001B[38;5;129;01mand\u001B[39;00m input_name \u001B[38;5;241m==\u001B[39m \u001B[38;5;124m\"\u001B[39m\u001B[38;5;124mX\u001B[39m\u001B[38;5;124m\"\u001B[39m \u001B[38;5;129;01mand\u001B[39;00m has_nan_error:\n\u001B[1;32m    159\u001B[0m     \u001B[38;5;66;03m# Improve the error message on how to handle missing values in\u001B[39;00m\n\u001B[1;32m    160\u001B[0m     \u001B[38;5;66;03m# scikit-learn.\u001B[39;00m\n\u001B[1;32m    161\u001B[0m     msg_err \u001B[38;5;241m+\u001B[39m\u001B[38;5;241m=\u001B[39m (\n\u001B[1;32m    162\u001B[0m         \u001B[38;5;124mf\u001B[39m\u001B[38;5;124m\"\u001B[39m\u001B[38;5;130;01m\\n\u001B[39;00m\u001B[38;5;132;01m{\u001B[39;00mestimator_name\u001B[38;5;132;01m}\u001B[39;00m\u001B[38;5;124m does not accept missing values\u001B[39m\u001B[38;5;124m\"\u001B[39m\n\u001B[1;32m    163\u001B[0m         \u001B[38;5;124m\"\u001B[39m\u001B[38;5;124m encoded as NaN natively. For supervised learning, you might want\u001B[39m\u001B[38;5;124m\"\u001B[39m\n\u001B[0;32m   (...)\u001B[0m\n\u001B[1;32m    173\u001B[0m         \u001B[38;5;124m\"\u001B[39m\u001B[38;5;124m#estimators-that-handle-nan-values\u001B[39m\u001B[38;5;124m\"\u001B[39m\n\u001B[1;32m    174\u001B[0m     )\n\u001B[0;32m--> 175\u001B[0m \u001B[38;5;28;01mraise\u001B[39;00m \u001B[38;5;167;01mValueError\u001B[39;00m(msg_err)\n",
      "\u001B[0;31mValueError\u001B[0m: Input contains NaN."
     ]
    }
   ],
   "execution_count": 13
  },
  {
   "cell_type": "code",
   "execution_count": 84,
   "metadata": {},
   "outputs": [
    {
     "name": "stdout",
     "output_type": "stream",
     "text": [
      "Top 20 predictions vs labels:\n",
      "Article 0\n",
      "0.040 vs 0.000\n",
      "0.019 vs 0.000\n",
      "0.002 vs 0.000\n",
      "0.002 vs 0.000\n",
      "0.008 vs 0.000\n",
      "0.164 vs 0.000\n",
      "0.031 vs 0.000\n",
      "0.002 vs 0.000\n",
      "0.005 vs 0.000\n",
      "0.314 vs 0.000\n",
      "0.011 vs 0.000\n",
      "0.030 vs 1.000\n",
      "0.004 vs 0.000\n",
      "0.025 vs 0.000\n",
      "0.040 vs 0.000\n",
      "0.105 vs 0.000\n",
      "0.196 vs 0.000\n",
      "0.002 vs 0.000\n",
      "\n",
      "Article 1\n",
      "0.000 vs 0.000\n",
      "0.000 vs 0.000\n",
      "0.000 vs 0.000\n",
      "0.001 vs 0.000\n",
      "0.000 vs 0.000\n",
      "0.000 vs 0.000\n",
      "0.000 vs 0.000\n",
      "0.000 vs 0.000\n",
      "0.001 vs 1.000\n",
      "0.997 vs 0.000\n",
      "0.000 vs 0.000\n",
      "0.000 vs 0.000\n",
      "\n",
      "Article 2\n",
      "0.000 vs 0.000\n",
      "0.000 vs 0.000\n",
      "0.000 vs 0.000\n",
      "1.000 vs 0.000\n",
      "0.000 vs 0.000\n",
      "0.000 vs 0.000\n",
      "0.000 vs 0.000\n",
      "0.000 vs 0.000\n",
      "0.000 vs 1.000\n",
      "0.000 vs 0.000\n",
      "0.000 vs 0.000\n",
      "0.000 vs 0.000\n",
      "0.000 vs 0.000\n",
      "0.000 vs 0.000\n",
      "0.000 vs 0.000\n",
      "0.000 vs 0.000\n",
      "\n",
      "Article 3\n",
      "0.240 vs 1.000\n",
      "0.068 vs 0.000\n",
      "0.593 vs 0.000\n",
      "0.006 vs 0.000\n",
      "0.008 vs 0.000\n",
      "0.085 vs 0.000\n",
      "\n",
      "Article 4\n",
      "0.011 vs 0.000\n",
      "0.043 vs 0.000\n",
      "0.004 vs 0.000\n",
      "0.931 vs 0.000\n",
      "0.004 vs 0.000\n",
      "0.005 vs 1.000\n",
      "0.002 vs 0.000\n",
      "\n",
      "Article 5\n",
      "0.000 vs 0.000\n",
      "1.000 vs 0.000\n",
      "0.000 vs 1.000\n",
      "0.000 vs 0.000\n",
      "0.000 vs 0.000\n",
      "0.000 vs 0.000\n",
      "0.000 vs 0.000\n",
      "\n",
      "Article 6\n",
      "0.000 vs 0.000\n",
      "0.000 vs 0.000\n",
      "0.000 vs 1.000\n",
      "0.000 vs 0.000\n",
      "0.000 vs 0.000\n",
      "0.000 vs 0.000\n",
      "0.000 vs 0.000\n",
      "0.000 vs 0.000\n",
      "0.000 vs 0.000\n",
      "0.972 vs 0.000\n",
      "0.000 vs 0.000\n",
      "0.000 vs 0.000\n",
      "0.000 vs 0.000\n",
      "0.004 vs 0.000\n",
      "0.000 vs 0.000\n",
      "0.000 vs 0.000\n",
      "0.000 vs 0.000\n",
      "0.020 vs 0.000\n",
      "0.000 vs 0.000\n",
      "0.000 vs 0.000\n",
      "0.000 vs 0.000\n",
      "0.000 vs 0.000\n",
      "0.003 vs 0.000\n",
      "0.000 vs 0.000\n",
      "0.000 vs 0.000\n",
      "0.000 vs 0.000\n",
      "0.000 vs 0.000\n",
      "0.000 vs 0.000\n",
      "\n",
      "Article 7\n",
      "0.000 vs 0.000\n",
      "0.992 vs 1.000\n",
      "0.000 vs 0.000\n",
      "0.002 vs 0.000\n",
      "0.000 vs 0.000\n",
      "0.000 vs 0.000\n",
      "0.002 vs 0.000\n",
      "0.002 vs 0.000\n",
      "0.001 vs 0.000\n",
      "0.000 vs 0.000\n",
      "0.000 vs 0.000\n",
      "\n",
      "Article 8\n",
      "0.004 vs 0.000\n",
      "0.000 vs 0.000\n",
      "0.006 vs 0.000\n",
      "0.631 vs 0.000\n",
      "0.016 vs 0.000\n",
      "0.334 vs 1.000\n",
      "0.008 vs 0.000\n",
      "\n",
      "Article 9\n",
      "0.001 vs 0.000\n",
      "0.978 vs 0.000\n",
      "0.002 vs 0.000\n",
      "0.001 vs 0.000\n",
      "0.001 vs 1.000\n",
      "0.001 vs 0.000\n",
      "0.016 vs 0.000\n",
      "\n",
      "Article 10\n",
      "0.000 vs 0.000\n",
      "0.000 vs 0.000\n",
      "0.002 vs 0.000\n",
      "0.000 vs 0.000\n",
      "0.000 vs 0.000\n",
      "0.000 vs 0.000\n",
      "0.000 vs 0.000\n",
      "0.000 vs 0.000\n",
      "0.163 vs 0.000\n",
      "0.001 vs 0.000\n",
      "0.034 vs 1.000\n",
      "0.000 vs 0.000\n",
      "0.000 vs 0.000\n",
      "0.000 vs 0.000\n",
      "0.000 vs 0.000\n",
      "0.000 vs 0.000\n",
      "0.000 vs 0.000\n",
      "0.000 vs 0.000\n",
      "0.000 vs 0.000\n",
      "0.000 vs 0.000\n",
      "0.000 vs 0.000\n",
      "0.000 vs 0.000\n",
      "0.000 vs 0.000\n",
      "0.000 vs 0.000\n",
      "0.000 vs 0.000\n",
      "0.000 vs 0.000\n",
      "0.000 vs 0.000\n",
      "0.000 vs 0.000\n",
      "0.791 vs 0.000\n",
      "0.000 vs 0.000\n",
      "0.000 vs 0.000\n",
      "0.000 vs 0.000\n",
      "0.000 vs 0.000\n",
      "0.008 vs 0.000\n",
      "\n",
      "Article 11\n",
      "0.009 vs 0.000\n",
      "0.038 vs 0.000\n",
      "0.217 vs 0.000\n",
      "0.001 vs 0.000\n",
      "0.150 vs 0.000\n",
      "0.018 vs 0.000\n",
      "0.008 vs 0.000\n",
      "0.007 vs 0.000\n",
      "0.005 vs 0.000\n",
      "0.022 vs 0.000\n",
      "0.091 vs 0.000\n",
      "0.005 vs 0.000\n",
      "0.007 vs 0.000\n",
      "0.288 vs 1.000\n",
      "0.009 vs 0.000\n",
      "0.125 vs 0.000\n",
      "\n",
      "Article 12\n",
      "0.000 vs 0.000\n",
      "0.000 vs 0.000\n",
      "0.000 vs 0.000\n",
      "0.000 vs 0.000\n",
      "0.000 vs 0.000\n",
      "0.000 vs 0.000\n",
      "0.000 vs 0.000\n",
      "0.000 vs 0.000\n",
      "0.000 vs 0.000\n",
      "0.000 vs 0.000\n",
      "0.000 vs 0.000\n",
      "0.000 vs 0.000\n",
      "0.000 vs 0.000\n",
      "0.000 vs 0.000\n",
      "0.000 vs 0.000\n",
      "0.000 vs 0.000\n",
      "0.000 vs 0.000\n",
      "0.000 vs 0.000\n",
      "0.000 vs 0.000\n",
      "0.000 vs 0.000\n",
      "0.003 vs 0.000\n",
      "0.000 vs 0.000\n",
      "0.031 vs 0.000\n",
      "0.000 vs 0.000\n",
      "0.965 vs 1.000\n",
      "0.000 vs 0.000\n",
      "0.000 vs 0.000\n",
      "0.000 vs 0.000\n",
      "0.000 vs 0.000\n",
      "0.000 vs 0.000\n",
      "0.000 vs 0.000\n",
      "\n",
      "Article 13\n",
      "0.000 vs 0.000\n",
      "0.000 vs 0.000\n",
      "0.000 vs 0.000\n",
      "0.000 vs 0.000\n",
      "0.000 vs 0.000\n",
      "0.000 vs 0.000\n",
      "0.000 vs 1.000\n",
      "0.000 vs 0.000\n",
      "0.000 vs 0.000\n",
      "0.991 vs 0.000\n",
      "0.000 vs 0.000\n",
      "0.009 vs 0.000\n",
      "\n",
      "Article 14\n",
      "0.000 vs 0.000\n",
      "0.000 vs 0.000\n",
      "0.000 vs 0.000\n",
      "0.000 vs 0.000\n",
      "0.000 vs 0.000\n",
      "0.000 vs 0.000\n",
      "0.000 vs 0.000\n",
      "0.000 vs 0.000\n",
      "1.000 vs 0.000\n",
      "0.000 vs 0.000\n",
      "0.000 vs 1.000\n",
      "0.000 vs 0.000\n",
      "0.000 vs 0.000\n",
      "0.000 vs 0.000\n",
      "0.000 vs 0.000\n",
      "0.000 vs 0.000\n",
      "0.000 vs 0.000\n",
      "0.000 vs 0.000\n",
      "0.000 vs 0.000\n",
      "0.000 vs 0.000\n",
      "0.000 vs 0.000\n",
      "0.000 vs 0.000\n",
      "\n",
      "Article 15\n",
      "0.030 vs 0.000\n",
      "0.000 vs 0.000\n",
      "0.001 vs 0.000\n",
      "0.022 vs 0.000\n",
      "0.022 vs 0.000\n",
      "0.031 vs 0.000\n",
      "0.005 vs 0.000\n",
      "0.018 vs 1.000\n",
      "0.105 vs 0.000\n",
      "0.695 vs 0.000\n",
      "0.039 vs 0.000\n",
      "0.031 vs 0.000\n",
      "0.002 vs 0.000\n",
      "\n",
      "Article 16\n",
      "0.167 vs 1.000\n",
      "0.284 vs 0.000\n",
      "0.180 vs 0.000\n",
      "0.256 vs 0.000\n",
      "0.113 vs 0.000\n",
      "\n",
      "Article 17\n",
      "0.861 vs 1.000\n",
      "0.001 vs 0.000\n",
      "0.017 vs 0.000\n",
      "0.002 vs 0.000\n",
      "0.120 vs 0.000\n",
      "0.000 vs 0.000\n",
      "\n",
      "Article 18\n",
      "0.002 vs 0.000\n",
      "0.003 vs 0.000\n",
      "0.247 vs 0.000\n",
      "0.001 vs 0.000\n",
      "0.000 vs 0.000\n",
      "0.000 vs 0.000\n",
      "0.000 vs 0.000\n",
      "0.055 vs 1.000\n",
      "0.008 vs 0.000\n",
      "0.648 vs 0.000\n",
      "0.003 vs 0.000\n",
      "0.001 vs 0.000\n",
      "0.003 vs 0.000\n",
      "0.001 vs 0.000\n",
      "0.000 vs 0.000\n",
      "0.001 vs 0.000\n",
      "0.011 vs 0.000\n",
      "0.004 vs 0.000\n",
      "0.005 vs 0.000\n",
      "0.000 vs 0.000\n",
      "0.001 vs 0.000\n",
      "0.000 vs 0.000\n",
      "0.005 vs 0.000\n",
      "0.000 vs 0.000\n",
      "\n",
      "Article 19\n",
      "0.005 vs 0.000\n",
      "0.023 vs 0.000\n",
      "0.584 vs 0.000\n",
      "0.002 vs 0.000\n",
      "0.196 vs 0.000\n",
      "0.083 vs 0.000\n",
      "0.087 vs 0.000\n",
      "0.011 vs 0.000\n",
      "0.009 vs 1.000\n",
      "\n"
     ]
    }
   ],
   "source": [
    "number_to_print = 20\n",
    "print(\"Top %d predictions vs labels:\" % number_to_print)\n",
    "labels = dataset.df_test[\"labels\"].to_list()\n",
    "for i in range(number_to_print):\n",
    "    print(f\"Article {i}\")\n",
    "    for j in range(len(pred_test[i])):\n",
    "        print(f\"{pred_test[i][j]:.3f} vs {labels[i][j]:.3f}\")\n",
    "    print(\"\")\n",
    "\n",
    "\n",
    "\n"
   ]
  },
  {
   "metadata": {
    "ExecuteTime": {
     "end_time": "2024-12-02T19:13:09.031047Z",
     "start_time": "2024-12-02T19:13:07.783393Z"
    }
   },
   "cell_type": "code",
   "source": [
    "from sklearn.metrics import confusion_matrix, roc_curve, auc\n",
    "import matplotlib.pyplot as plt\n",
    "\n",
    "# Example data\n",
    "pred_test = [\n",
    "    [0.0, 0.066, 0.0, 0.944],  # Predicted probabilities\n",
    "]\n",
    "labels = [\n",
    "    [0, 1, 0, 0],  # True labels\n",
    "]\n",
    "\n",
    "# Flatten the data for analysis\n",
    "predicted_probabilities = [prob for article in pred_test for prob in article]\n",
    "true_values = [val for article in labels[:len(pred_test)] for val in article]\n",
    "\n",
    "# Set a threshold (commonly 0.5) to classify probabilities as 0 or 1\n",
    "threshold = 0.5\n",
    "predicted_classes = [1 if p >= threshold else 0 for p in predicted_probabilities]\n",
    "\n",
    "# Calculate confusion matrix\n",
    "conf_matrix = confusion_matrix(true_values, predicted_classes)\n",
    "print(\"Confusion Matrix:\")\n",
    "print(conf_matrix)\n",
    "\n",
    "# Calculate AUC and ROC curve\n",
    "fpr, tpr, thresholds = roc_curve(true_values, predicted_probabilities)\n",
    "roc_auc = auc(fpr, tpr)\n",
    "\n",
    "# Plot ROC curve with AUC value explicitly highlighted\n",
    "plt.figure()\n",
    "plt.plot(fpr, tpr, color='darkorange', lw=2, label=f'ROC curve (AUC = {roc_auc:.2f})')\n",
    "plt.plot([0, 1], [0, 1], color='navy', lw=2, linestyle='--', label=\"Random Guess\")\n",
    "plt.xlabel('False Positive Rate')\n",
    "plt.ylabel('True Positive Rate')\n",
    "plt.title('Receiver Operating Characteristic (ROC) Curve')\n",
    "plt.legend(loc='lower right')\n",
    "plt.show()"
   ],
   "outputs": [
    {
     "name": "stdout",
     "output_type": "stream",
     "text": [
      "Confusion Matrix:\n",
      "[[2 1]\n",
      " [1 0]]\n"
     ]
    },
    {
     "data": {
      "text/plain": [
       "<Figure size 640x480 with 1 Axes>"
      ],
      "image/png": "[encoded data removed]"
     },
     "metadata": {},
     "output_type": "display_data"
    }
   ],
   "execution_count": 1
  }
 ],
 "metadata": {
  "kernelspec": {
   "display_name": "base",
   "language": "python",
   "name": "python3"
  },
  "language_info": {
   "codemirror_mode": {
    "name": "ipython",
    "version": 3
   },
   "file_extension": ".py",
   "mimetype": "text/x-python",
   "name": "python",
   "nbconvert_exporter": "python",
   "pygments_lexer": "ipython3",
   "version": "3.11.4"
  }
 },
 "nbformat": 4,
 "nbformat_minor": 2
}
