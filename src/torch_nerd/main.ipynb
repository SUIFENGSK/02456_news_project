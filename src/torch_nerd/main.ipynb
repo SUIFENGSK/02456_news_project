{
 "cells": [
  {
   "cell_type": "code",
   "execution_count": 1,
   "metadata": {
    "ExecuteTime": {
     "end_time": "2024-12-02T19:35:00.052795Z",
     "start_time": "2024-12-02T19:35:00.044836Z"
    }
   },
   "outputs": [],
   "source": [
    "BLACKHOLE = False\n",
    "\n",
    "\n",
    "import os\n",
    "import sys\n",
    "from pathlib import Path\n",
    "os.environ[\"KMP_DUPLICATE_LIB_OK\"]=\"TRUE\" # fixes problem with graph\n",
    "\n",
    "\n",
    "if BLACKHOLE:\n",
    "    workspace_path = os.path.expandvars('$BLACKHOLE')\n",
    "    sys.path.append(workspace_path+'/DeepLearning/02456_news_project/src')\n",
    "    DATAPATH = Path(workspace_path+\"/DeepLearning/ebnerd_data\").expanduser()\n",
    "else:\n",
    "    DATAPATH = Path(\"~/ebnerd_data\").expanduser()\n",
    "\n",
    "DATASET = \"ebnerd_demo\"\n",
    "#DATASET = \"ebnerd_small\"\n",
    "#DATASET = \"ebnerd_large\""
   ]
  },
  {
   "cell_type": "code",
   "execution_count": 2,
   "metadata": {
    "ExecuteTime": {
     "end_time": "2024-12-02T19:35:03.923111Z",
     "start_time": "2024-12-02T19:35:02.050814Z"
    }
   },
   "outputs": [
    {
     "name": "stdout",
     "output_type": "stream",
     "text": [
      "torch version: 2.5.1+cu124\n",
      "cuda\n"
     ]
    }
   ],
   "source": [
    "import torch\n",
    "\n",
    "print(\"torch version:\", torch.__version__)\n",
    "\n",
    "# Check gpu availability\n",
    "\n",
    "\n",
    "device = torch.device(\"cuda\" if torch.cuda.is_available() else \"cpu\")\n",
    "print(device)\n",
    "\n",
    "# Test:\n",
    "#print(torch.zeros(1).cuda())"
   ]
  },
  {
   "cell_type": "code",
   "execution_count": 3,
   "metadata": {
    "ExecuteTime": {
     "end_time": "2024-12-02T19:35:04.714345Z",
     "start_time": "2024-12-02T19:35:03.927607Z"
    }
   },
   "outputs": [],
   "source": [
    "from utils.data_handler import NewsDataset\n",
    "import from_ebrec._constants as cs\n",
    "\n",
    "SEED = 65\n",
    "HISTORY_SIZE = 50\n",
    "\n",
    "COLS = [\n",
    "    cs.DEFAULT_USER_COL,\n",
    "    cs.DEFAULT_IMPRESSION_ID_COL,\n",
    "    cs.DEFAULT_IMPRESSION_TIMESTAMP_COL,\n",
    "    cs.DEFAULT_HISTORY_ARTICLE_ID_COL,\n",
    "    cs.DEFAULT_CLICKED_ARTICLES_COL,\n",
    "    cs.DEFAULT_INVIEW_ARTICLES_COL,\n",
    "]\n",
    "\n",
    "#FRACTION = 0.001\n",
    "FRACTION = 0.01\n",
    "#FRACTION = 0.1\n",
    "#FRACTION = 1\n",
    "\n",
    "# test\n",
    "dataset = NewsDataset()\n",
    "\n",
    "dataset.setup_df(dataset_path = DATAPATH, datasplit = DATASET, history_size = HISTORY_SIZE, columns = COLS, fraction = FRACTION, seed = SEED)\n"
   ]
  },
  {
   "cell_type": "code",
   "execution_count": 4,
   "metadata": {
    "ExecuteTime": {
     "end_time": "2024-12-02T19:36:32.190522Z",
     "start_time": "2024-12-02T19:35:07.517602Z"
    }
   },
   "outputs": [],
   "source": [
    "import transformers as huggingface\n",
    "from from_ebrec._nlp import get_transformers_word_embeddings\n",
    "from from_ebrec._polars import concat_str_columns\n",
    "from from_ebrec._articles import convert_text2encoding_with_transformers\n",
    "from from_ebrec._articles import create_article_id_to_value_mapping\n",
    "\n",
    "dataset.setup_articles_data(dataset_path = DATAPATH.joinpath(DATASET))\n",
    "\n",
    "df_articles = dataset.df_articles\n",
    "\n",
    "TRANSFORMER_MODEL_NAME = \"FacebookAI/xlm-roberta-base\"\n",
    "TEXT_COLUMNS_TO_USE = [cs.DEFAULT_SUBTITLE_COL, cs.DEFAULT_TITLE_COL, cs.DEFAULT_ARTICLE_PUBLISHED_TIMESTAMP_COL]\n",
    "MAX_TITLE_LENGTH = 30\n",
    "\n",
    "# LOAD HUGGINGFACE:\n",
    "transformer_model = huggingface.AutoModel.from_pretrained(TRANSFORMER_MODEL_NAME)\n",
    "transformer_tokenizer = huggingface.AutoTokenizer.from_pretrained(TRANSFORMER_MODEL_NAME)\n",
    "\n",
    "word2vec_embedding = get_transformers_word_embeddings(transformer_model)\n",
    "df_articles, cat_cal = concat_str_columns(df_articles, columns=TEXT_COLUMNS_TO_USE)\n",
    "df_articles, token_col_title = convert_text2encoding_with_transformers(df_articles, transformer_tokenizer, cat_cal, max_length=MAX_TITLE_LENGTH)\n",
    "article_mapping = create_article_id_to_value_mapping(df=df_articles, value_col=token_col_title)\n",
    "\n"
   ]
  },
  {
   "cell_type": "code",
   "execution_count": 5,
   "metadata": {
    "ExecuteTime": {
     "end_time": "2024-12-02T19:36:35.040325Z",
     "start_time": "2024-12-02T19:36:34.075625Z"
    }
   },
   "outputs": [],
   "source": [
    "from dataloader import NRMSDataLoader\n",
    "\n",
    "BATCH_SIZE = 64\n",
    "\n",
    "train_dataloader = NRMSDataLoader(\n",
    "    behaviors= dataset.df_train,\n",
    "    article_dict=article_mapping,\n",
    "    unknown_representation=\"zeros\",\n",
    "    history_column= cs.DEFAULT_HISTORY_ARTICLE_ID_COL,\n",
    "    eval_mode=False,\n",
    "    batch_size=BATCH_SIZE,\n",
    ")\n",
    "val_dataloader = NRMSDataLoader(\n",
    "    behaviors= dataset.df_validation,\n",
    "    article_dict=article_mapping,\n",
    "    unknown_representation=\"zeros\",\n",
    "    history_column= cs.DEFAULT_HISTORY_ARTICLE_ID_COL,\n",
    "    eval_mode=False,\n",
    "    batch_size=BATCH_SIZE,\n",
    ")\n"
   ]
  },
  {
   "cell_type": "code",
   "execution_count": 6,
   "metadata": {
    "ExecuteTime": {
     "end_time": "2024-12-02T20:03:12.259220Z",
     "start_time": "2024-12-02T20:03:12.256573Z"
    }
   },
   "outputs": [],
   "source": [
    "#print(train_dataloader)\n",
    "#print(val_dataloader)"
   ]
  },
  {
   "cell_type": "code",
   "execution_count": 7,
   "metadata": {
    "ExecuteTime": {
     "end_time": "2024-12-02T19:37:07.203670Z",
     "start_time": "2024-12-02T19:37:07.189798Z"
    }
   },
   "outputs": [
    {
     "name": "stdout",
     "output_type": "stream",
     "text": [
      "NRMSModel(\n",
      "  (news_encoder): NewsEncoder(\n",
      "    (embedding): Embedding(250002, 768)\n",
      "    (dropout): Dropout(p=0.2, inplace=False)\n",
      "    (self_attention): SelfAttention(\n",
      "      (query_proj): Linear(in_features=768, out_features=256, bias=True)\n",
      "      (key_proj): Linear(in_features=768, out_features=256, bias=True)\n",
      "      (value_proj): Linear(in_features=768, out_features=256, bias=True)\n",
      "    )\n",
      "    (dense_layers): Sequential(\n",
      "      (0): Linear(in_features=256, out_features=200, bias=True)\n",
      "      (1): ReLU()\n",
      "      (2): LayerNorm((200,), eps=1e-05, elementwise_affine=True)\n",
      "      (3): Dropout(p=0.2, inplace=False)\n",
      "      (4): Linear(in_features=200, out_features=200, bias=True)\n",
      "      (5): ReLU()\n",
      "      (6): LayerNorm((200,), eps=1e-05, elementwise_affine=True)\n",
      "      (7): Dropout(p=0.2, inplace=False)\n",
      "      (8): Linear(in_features=200, out_features=256, bias=True)\n",
      "      (9): ReLU()\n",
      "      (10): LayerNorm((256,), eps=1e-05, elementwise_affine=True)\n",
      "      (11): Dropout(p=0.2, inplace=False)\n",
      "    )\n",
      "    (att_layer): AttLayer2(\n",
      "      (attention_projection): Linear(in_features=256, out_features=1000, bias=True)\n",
      "      (query_vector): Linear(in_features=1000, out_features=1, bias=False)\n",
      "    )\n",
      "  )\n",
      "  (user_encoder): UserEncoder(\n",
      "    (title_encoder): NewsEncoder(\n",
      "      (embedding): Embedding(250002, 768)\n",
      "      (dropout): Dropout(p=0.2, inplace=False)\n",
      "      (self_attention): SelfAttention(\n",
      "        (query_proj): Linear(in_features=768, out_features=256, bias=True)\n",
      "        (key_proj): Linear(in_features=768, out_features=256, bias=True)\n",
      "        (value_proj): Linear(in_features=768, out_features=256, bias=True)\n",
      "      )\n",
      "      (dense_layers): Sequential(\n",
      "        (0): Linear(in_features=256, out_features=200, bias=True)\n",
      "        (1): ReLU()\n",
      "        (2): LayerNorm((200,), eps=1e-05, elementwise_affine=True)\n",
      "        (3): Dropout(p=0.2, inplace=False)\n",
      "        (4): Linear(in_features=200, out_features=200, bias=True)\n",
      "        (5): ReLU()\n",
      "        (6): LayerNorm((200,), eps=1e-05, elementwise_affine=True)\n",
      "        (7): Dropout(p=0.2, inplace=False)\n",
      "        (8): Linear(in_features=200, out_features=256, bias=True)\n",
      "        (9): ReLU()\n",
      "        (10): LayerNorm((256,), eps=1e-05, elementwise_affine=True)\n",
      "        (11): Dropout(p=0.2, inplace=False)\n",
      "      )\n",
      "      (att_layer): AttLayer2(\n",
      "        (attention_projection): Linear(in_features=256, out_features=1000, bias=True)\n",
      "        (query_vector): Linear(in_features=1000, out_features=1, bias=False)\n",
      "      )\n",
      "    )\n",
      "    (self_attention): SelfAttention(\n",
      "      (query_proj): Linear(in_features=256, out_features=256, bias=True)\n",
      "      (key_proj): Linear(in_features=256, out_features=256, bias=True)\n",
      "      (value_proj): Linear(in_features=256, out_features=256, bias=True)\n",
      "    )\n",
      "    (att_layer): AttLayer2(\n",
      "      (attention_projection): Linear(in_features=256, out_features=1000, bias=True)\n",
      "      (query_vector): Linear(in_features=1000, out_features=1, bias=False)\n",
      "    )\n",
      "  )\n",
      "  (click_predictor): ClickPredictor()\n",
      ")\n"
     ]
    }
   ],
   "source": [
    "from nrms import NRMSModel\n",
    "from hyperparameters import hparams_nrms\n",
    "\n",
    "hparams = hparams_nrms()\n",
    "\n",
    "# PARAMETERS\n",
    "hparams.title_size = MAX_TITLE_LENGTH\n",
    "hparams.history_size = HISTORY_SIZE\n",
    "\n",
    "# MODEL ARCHITECTURE\n",
    "hparams.head_num = 16\n",
    "hparams.head_dim = 16\n",
    "hparams.attention_hidden_dim = 1000\n",
    "hparams.linear_hidden_dim = 200\n",
    "\n",
    "hparams.use_positional_encoding = False\n",
    "hparams.use_learned_positions = False\n",
    "\n",
    "# MODEL OPTIMIZER:\n",
    "hparams.optimizer = \"adam\"\n",
    "hparams.loss = \"mse_loss\"\n",
    "hparams.dropout = 0.2\n",
    "hparams.learning_rate = 1e-4\n",
    "\n",
    "model = NRMSModel(hparams=hparams, word2vec_embedding=word2vec_embedding, debug=False)\n",
    "\n",
    "print(model)\n"
   ]
  },
  {
   "cell_type": "code",
   "execution_count": 8,
   "metadata": {
    "ExecuteTime": {
     "end_time": "2024-12-02T19:37:12.471614Z",
     "start_time": "2024-12-02T19:37:12.005116Z"
    }
   },
   "outputs": [],
   "source": [
    "import torch.nn as nn\n",
    "import torch.optim as optim\n",
    "\n",
    "# Define the loss function and optimizer\n",
    "if hparams.loss == \"cross_entropy_loss\":\n",
    "    criterion = nn.CrossEntropyLoss() \n",
    "elif hparams.loss == \"mse_loss\":\n",
    "    criterion = nn.MSELoss()\n",
    "else:\n",
    "    raise ValueError(f\"Loss function {hparams.loss} not supported\")\n",
    "\n",
    "if hparams.optimizer == \"adam\":\n",
    "    optimizer = optim.Adam(model.parameters(), lr=hparams_nrms.learning_rate)\n",
    "else:\n",
    "    raise ValueError(f\"Optimizer {hparams.optimizer} not supported\")"
   ]
  },
  {
   "cell_type": "code",
   "execution_count": 9,
   "metadata": {
    "ExecuteTime": {
     "end_time": "2024-12-02T19:55:05.405907Z",
     "start_time": "2024-12-02T19:43:30.189951Z"
    }
   },
   "outputs": [
    {
     "name": "stdout",
     "output_type": "stream",
     "text": [
      "Epoch 1/10: Train Loss = 0.2055, Val Loss = 0.2282\n",
      "Epoch 2/10: Train Loss = 0.1967, Val Loss = 0.2067\n",
      "Epoch 3/10: Train Loss = 0.1843, Val Loss = 0.1952\n",
      "Epoch 4/10: Train Loss = 0.1691, Val Loss = 0.1932\n",
      "Epoch 5/10: Train Loss = 0.1681, Val Loss = 0.2022\n",
      "Epoch 6/10: Train Loss = 0.1609, Val Loss = 0.1975\n",
      "Epoch 7/10: Train Loss = 0.1563, Val Loss = 0.1954\n",
      "Epoch 8/10: Train Loss = 0.1499, Val Loss = 0.1954\n",
      "Epoch 9/10: Train Loss = 0.1382, Val Loss = 0.1900\n",
      "Epoch 10/10: Train Loss = 0.1313, Val Loss = 0.1909\n"
     ]
    }
   ],
   "source": [
    "# Train the model \n",
    "\n",
    "EPOCHS = 10\n",
    "\n",
    "# Move model to GPU if available\n",
    "model.to(device)\n",
    "\n",
    "# Training loop\n",
    "train_loss_history, val_loss_history = [], []\n",
    "\n",
    "for epoch in range(EPOCHS):\n",
    "    model.train()  # Set the model to training mode\n",
    "    train_loss = 0.0\n",
    "\n",
    "    for (inputs, labels) in train_dataloader:\n",
    "        # Unpacking of batch\n",
    "        his_input_title, pred_input_title = inputs\n",
    "\n",
    "        # Move data to device\n",
    "        his_input_title = his_input_title.to(device)\n",
    "        pred_input_title = pred_input_title.to(device)\n",
    "\n",
    "        labels = labels.to(device)\n",
    "\n",
    "        # Forward pass\n",
    "        outputs = model(pred_input_title, his_input_title)  \n",
    "        loss = criterion(outputs, labels)\n",
    "\n",
    "        # Backward pass\n",
    "        optimizer.zero_grad()\n",
    "        loss.backward()\n",
    "        optimizer.step()\n",
    "        train_loss += loss.item()\n",
    "\n",
    "    # Validation loop\n",
    "    model.eval()\n",
    "    val_loss = 0.0\n",
    "    with torch.no_grad():\n",
    "        for (inputs, labels) in val_dataloader:\n",
    "            his_input_title, pred_input_title = inputs\n",
    "\n",
    "            his_input_title = his_input_title.to(device)\n",
    "            pred_input_title = pred_input_title.to(device)\n",
    "            labels = labels.to(device)\n",
    "\n",
    "            outputs = model(pred_input_title, his_input_title)\n",
    "            loss = criterion(outputs, labels)\n",
    "            \n",
    "            val_loss += loss.item()\n",
    "\n",
    "    train_loss /= len(train_dataloader)\n",
    "    val_loss /= len(val_dataloader)\n",
    "    train_loss_history.append(train_loss)\n",
    "    val_loss_history.append(val_loss)\n",
    "\n",
    "    print(f\"Epoch {epoch + 1}/{EPOCHS}: Train Loss = {train_loss:.4f}, Val Loss = {val_loss:.4f}\")\n"
   ]
  },
  {
   "cell_type": "code",
   "execution_count": 10,
   "metadata": {
    "ExecuteTime": {
     "end_time": "2024-12-02T19:55:34.910285Z",
     "start_time": "2024-12-02T19:55:34.366285Z"
    }
   },
   "outputs": [
    {
     "data": {
      "image/png": "[encoded data removed]",
      "text/plain": [
       "<Figure size 640x480 with 1 Axes>"
      ]
     },
     "metadata": {},
     "output_type": "display_data"
    }
   ],
   "source": [
    "# Plot the loss history\n",
    "import matplotlib.pyplot as plt\n",
    "\n",
    "plt.plot(train_loss_history, label=\"Train Loss\")\n",
    "plt.plot(val_loss_history, label=\"Val Loss\")\n",
    "plt.xlabel(\"Epoch\")\n",
    "plt.ylabel(\"Loss\")\n",
    "plt.legend()\n",
    "plt.show()\n"
   ]
  },
  {
   "cell_type": "code",
   "execution_count": null,
   "metadata": {
    "ExecuteTime": {
     "end_time": "2024-12-02T19:57:36.521266Z",
     "start_time": "2024-12-02T19:57:23.446145Z"
    }
   },
   "outputs": [
    {
     "name": "stdout",
     "output_type": "stream",
     "text": [
      "torch.Size([2, 5])\n",
      "torch.Size([2, 5])\n",
      "torch.Size([2, 5])\n",
      "torch.Size([2, 5])\n",
      "torch.Size([2, 5])\n",
      "torch.Size([2, 5])\n",
      "torch.Size([2, 5])\n",
      "torch.Size([2, 5])\n",
      "torch.Size([2, 5])\n",
      "torch.Size([2, 5])\n",
      "torch.Size([2, 5])\n",
      "torch.Size([2, 5])\n",
      "torch.Size([2, 5])\n",
      "torch.Size([2, 5])\n",
      "torch.Size([2, 5])\n",
      "torch.Size([2, 5])\n",
      "torch.Size([2, 5])\n",
      "torch.Size([2, 5])\n",
      "torch.Size([2, 5])\n",
      "torch.Size([2, 5])\n",
      "torch.Size([2, 5])\n",
      "torch.Size([2, 5])\n",
      "torch.Size([2, 5])\n",
      "torch.Size([2, 5])\n",
      "torch.Size([2, 5])\n",
      "torch.Size([2, 5])\n",
      "torch.Size([2, 5])\n",
      "torch.Size([2, 5])\n",
      "torch.Size([2, 5])\n",
      "torch.Size([2, 5])\n",
      "torch.Size([2, 5])\n",
      "torch.Size([2, 5])\n",
      "torch.Size([2, 5])\n",
      "torch.Size([2, 5])\n",
      "torch.Size([2, 5])\n",
      "torch.Size([2, 5])\n",
      "torch.Size([2, 5])\n",
      "torch.Size([2, 5])\n",
      "torch.Size([2, 5])\n",
      "torch.Size([2, 5])\n",
      "torch.Size([2, 5])\n",
      "torch.Size([2, 5])\n",
      "torch.Size([2, 5])\n",
      "torch.Size([2, 5])\n",
      "torch.Size([2, 5])\n",
      "torch.Size([2, 5])\n",
      "torch.Size([2, 5])\n",
      "torch.Size([2, 5])\n",
      "torch.Size([2, 5])\n",
      "torch.Size([2, 5])\n",
      "torch.Size([2, 5])\n",
      "torch.Size([2, 5])\n",
      "torch.Size([2, 5])\n",
      "torch.Size([2, 5])\n",
      "torch.Size([2, 5])\n",
      "torch.Size([2, 5])\n",
      "torch.Size([2, 5])\n",
      "torch.Size([2, 5])\n",
      "torch.Size([2, 5])\n",
      "torch.Size([2, 5])\n",
      "torch.Size([2, 5])\n",
      "torch.Size([2, 5])\n",
      "torch.Size([2, 5])\n",
      "torch.Size([2, 5])\n",
      "torch.Size([2, 5])\n",
      "torch.Size([2, 5])\n",
      "torch.Size([2, 5])\n",
      "torch.Size([2, 5])\n",
      "torch.Size([2, 5])\n",
      "torch.Size([2, 5])\n",
      "torch.Size([2, 5])\n",
      "torch.Size([2, 5])\n",
      "torch.Size([2, 5])\n",
      "torch.Size([2, 5])\n",
      "torch.Size([2, 5])\n",
      "torch.Size([2, 5])\n",
      "torch.Size([2, 5])\n",
      "torch.Size([2, 5])\n",
      "torch.Size([2, 5])\n",
      "torch.Size([2, 5])\n",
      "torch.Size([2, 5])\n",
      "torch.Size([2, 5])\n",
      "torch.Size([2, 5])\n",
      "torch.Size([2, 5])\n",
      "torch.Size([2, 5])\n",
      "torch.Size([2, 5])\n",
      "torch.Size([2, 5])\n",
      "torch.Size([2, 5])\n",
      "torch.Size([2, 5])\n",
      "torch.Size([2, 5])\n",
      "torch.Size([2, 5])\n",
      "torch.Size([2, 5])\n",
      "torch.Size([2, 5])\n",
      "torch.Size([2, 5])\n",
      "torch.Size([2, 5])\n",
      "torch.Size([2, 5])\n",
      "torch.Size([2, 5])\n",
      "torch.Size([2, 5])\n",
      "torch.Size([2, 5])\n",
      "torch.Size([2, 5])\n",
      "torch.Size([2, 5])\n",
      "torch.Size([2, 5])\n",
      "torch.Size([2, 5])\n",
      "torch.Size([2, 5])\n",
      "torch.Size([2, 5])\n",
      "torch.Size([2, 5])\n",
      "torch.Size([2, 5])\n",
      "torch.Size([2, 5])\n",
      "torch.Size([2, 5])\n",
      "torch.Size([2, 5])\n",
      "torch.Size([2, 5])\n",
      "torch.Size([2, 5])\n",
      "torch.Size([2, 5])\n",
      "torch.Size([2, 5])\n",
      "torch.Size([2, 5])\n",
      "torch.Size([2, 5])\n",
      "torch.Size([2, 5])\n",
      "torch.Size([2, 5])\n",
      "torch.Size([2, 5])\n",
      "torch.Size([2, 5])\n",
      "torch.Size([2, 5])\n",
      "torch.Size([2, 5])\n",
      "torch.Size([2, 5])\n",
      "torch.Size([2, 5])\n",
      "torch.Size([2, 5])\n",
      "torch.Size([2, 5])\n",
      "torch.Size([2, 5])\n",
      "torch.Size([1, 5])\n",
      "[[[0.5460713505744934, 0.1957634687423706, 0.1957634687423706, 0.013352850452065468, 0.04904887080192566], [0.49278175830841064, 0.49278175830841064, 0.012888196855783463, 0.0007741041481494904, 0.0007741041481494904]], [[0.014479459263384342, 0.005159219726920128, 0.29653674364089966, 0.6686403155326843, 0.015184295363724232], [0.019048765301704407, 0.37318721413612366, 0.5579485297203064, 0.04455065354704857, 0.005264871753752232]], [[0.12701107561588287, 0.10712718218564987, 0.45439890027046204, 0.07163930684328079, 0.23982356488704681], [0.009964294731616974, 0.012434223666787148, 0.15175503492355347, 0.819658100605011, 0.006188348401337862]], [[0.05319514870643616, 0.008648752234876156, 0.44248050451278687, 0.05319514870643616, 0.44248050451278687], [0.02484154887497425, 0.11909034848213196, 0.08263316005468369, 0.5865036249160767, 0.18693134188652039]], [[0.003242344129830599, 0.08858466148376465, 0.003242344129830599, 0.6753689646720886, 0.2295617014169693], [0.0007869612891227007, 0.04879704862833023, 0.0033837473019957542, 0.0013127553975209594, 0.9457195401191711]], [[0.043216682970523834, 0.011977852322161198, 0.18090598285198212, 0.7206827998161316, 0.043216682970523834], [0.16842947900295258, 0.01041384506970644, 0.08740143477916718, 0.4315432906150818, 0.3022119402885437]], [[0.01986180990934372, 0.0077580600045621395, 0.012552413158118725, 0.012354264967143536, 0.9474733471870422], [0.8448085188865662, 0.002457031514495611, 0.0070663136430084705, 0.1258474737405777, 0.019820604473352432]], [[0.27257588505744934, 0.15520337224006653, 0.002858384745195508, 0.5665040016174316, 0.002858384745195508], [0.6705736517906189, 0.029123667627573013, 0.11552897095680237, 0.08285340666770935, 0.10192037373781204]], [[0.36398327350616455, 0.11653915047645569, 0.03116871416568756, 0.4673963487148285, 0.020912500098347664], [0.8188768625259399, 0.04748264327645302, 0.0551082044839859, 0.07131810486316681, 0.007214188575744629]], [[0.015815898776054382, 0.4456135928630829, 0.2902909815311432, 0.13426291942596436, 0.11401664465665817], [0.08651865273714066, 0.08651865273714066, 0.0650811418890953, 0.7540791630744934, 0.007802393287420273]], [[0.12940950691699982, 0.016491420567035675, 0.8406872153282166, 0.0032074826303869486, 0.010204379446804523], [0.059470463544130325, 0.3214762210845947, 0.33314111828804016, 0.015007637441158295, 0.2709046006202698]], [[0.0005212573450990021, 0.023563846945762634, 0.007063239812850952, 0.16915909945964813, 0.7996925115585327], [0.026464534923434258, 0.4481012225151062, 0.0386664979159832, 0.4481012225151062, 0.0386664979159832]], [[0.28456911444664, 0.08067933470010757, 0.3696554899215698, 0.18344879150390625, 0.08164732903242111], [0.23068559169769287, 0.21062976121902466, 0.017605513334274292, 0.44452032446861267, 0.09655878692865372]], [[0.030220063403248787, 0.0017342745559290051, 0.3442530035972595, 0.5175042748451233, 0.10628832131624222], [0.004889056086540222, 0.34112367033958435, 0.0990649089217186, 0.5484145283699036, 0.006507858168333769]], [[0.004436027258634567, 0.03739556670188904, 0.6763869524002075, 0.09571776539087296, 0.18606363236904144], [0.9839402437210083, 0.0008454998023808002, 0.002215163316577673, 0.011208736337721348, 0.0017903867410495877]], [[0.002947319531813264, 0.05390636995434761, 0.053396712988615036, 0.8894165754318237, 0.0003330723848193884], [0.5133776068687439, 0.44419196248054504, 0.017889542505145073, 0.0009471801458857954, 0.023593680933117867]], [[0.9519723653793335, 0.011089063249528408, 0.022239893674850464, 0.0008735247538425028, 0.013825196772813797], [0.0006895490805618465, 0.9583612680435181, 0.03235949948430061, 0.0053182379342615604, 0.0032714398112148046]], [[0.07213827222585678, 0.07213827222585678, 0.09196270257234573, 0.027123281732201576, 0.7366374731063843], [0.0031269919127225876, 0.455448716878891, 0.5161510705947876, 0.0031269919127225876, 0.022146230563521385]], [[0.016356483101844788, 0.06591421365737915, 0.0065936436876654625, 0.015050382353365421, 0.8960853219032288], [0.2774815261363983, 0.008555599488317966, 0.010914054699242115, 0.07189515978097916, 0.6311536431312561]], [[0.4657938480377197, 0.03690623119473457, 0.013771564699709415, 0.4657938480377197, 0.017734495922923088], [0.7208971977233887, 0.09590554982423782, 0.17056557536125183, 0.006315785925835371, 0.006315785925835371]], [[0.043750252574682236, 0.766325056552887, 0.1316910833120346, 0.043750252574682236, 0.01448330469429493], [0.06857188045978546, 0.09852790832519531, 0.48675572872161865, 0.24761655926704407, 0.09852790832519531]], [[0.3399738669395447, 0.11407341063022614, 0.04524342715740204, 0.4983804523944855, 0.0023288163356482983], [0.0006491824169643223, 0.004924985114485025, 0.002778105204924941, 0.6499446630477905, 0.34170302748680115]], [[0.07763885706663132, 0.004332140553742647, 0.8862764239311218, 0.025775428861379623, 0.005977150518447161], [0.24091556668281555, 0.04872581362724304, 0.515904426574707, 0.04872581362724304, 0.14572834968566895]], [[0.05132979899644852, 0.287793904542923, 0.5049868822097778, 0.10840114206075668, 0.047488242387771606], [0.014774095267057419, 0.8886019587516785, 0.0005459470557980239, 0.08732954412698746, 0.008748454041779041]], [[0.005030921660363674, 0.03262441232800484, 0.007268869783729315, 0.005529811605811119, 0.9495459794998169], [0.11158372461795807, 0.7843775153160095, 0.02356034889817238, 0.025674233213067055, 0.05480416864156723]], [[0.4996333420276642, 0.4996333420276642, 5.3083174861967564e-05, 7.453934085788205e-05, 0.0006057836581021547], [0.05808503180742264, 0.05808503180742264, 0.035555191338062286, 0.7705091834068298, 0.07776561379432678]], [[0.9943695664405823, 0.0023235043045133352, 0.0023235043045133352, 5.31423938809894e-05, 0.0009303182596340775], [0.3018399775028229, 0.0010979038197547197, 0.6616132855415344, 0.03436395153403282, 0.0010848334059119225]], [[0.16854329407215118, 0.04067634418606758, 0.27446216344833374, 0.11747706681489944, 0.39884114265441895], [0.00910393800586462, 0.052218154072761536, 0.052218154072761536, 0.8563507199287415, 0.030108945444226265]], [[0.11440447717905045, 0.03969361633062363, 0.11440447717905045, 0.36574867367744446, 0.36574867367744446], [0.017950603738427162, 0.013589821755886078, 0.02480798214673996, 0.9133159518241882, 0.030335545539855957]], [[0.007212214171886444, 0.007212214171886444, 0.7557997107505798, 0.015441841445863247, 0.21433405578136444], [0.04630763828754425, 0.22140704095363617, 0.1318943053483963, 0.5800659656524658, 0.02032504230737686]], [[0.0027287371922284365, 0.002985127968713641, 0.4956505000591278, 0.002985127968713641, 0.4956505000591278], [0.3978498578071594, 0.05400567874312401, 0.027114277705550194, 0.0045789373107254505, 0.5164512395858765]], [[0.13034853339195251, 0.6916390657424927, 0.009957260452210903, 0.13034853339195251, 0.03770662844181061], [0.045309826731681824, 0.13540968298912048, 0.026176216080784798, 0.362816721200943, 0.43028759956359863]], [[0.015807850286364555, 0.7550168037414551, 0.09045343101024628, 0.08894659578800201, 0.049775395542383194], [0.10825036466121674, 0.022119050845503807, 0.07560168206691742, 0.7184272408485413, 0.07560168206691742]], [[0.015527530573308468, 0.07711490988731384, 0.8891881108283997, 0.015527530573308468, 0.0026418862398713827], [0.42144638299942017, 0.0013944485690444708, 0.42144638299942017, 0.10401817411184311, 0.051694583147764206]], [[0.0029466866981238127, 0.18760716915130615, 0.6633163690567017, 0.011036932468414307, 0.1350928544998169], [0.3769589364528656, 0.3769589364528656, 0.008179986849427223, 0.15334060788154602, 0.0845615565776825]], [[0.033630967140197754, 0.006499847397208214, 0.0016354169929400086, 0.030361171811819077, 0.9278726577758789], [0.02471229061484337, 0.00864269956946373, 0.8734608292579651, 0.024153150618076324, 0.06903103739023209]], [[0.7759523391723633, 0.06912551820278168, 0.02750539779663086, 0.11148141324520111, 0.015935352072119713], [0.6557072401046753, 0.033270180225372314, 0.03155115246772766, 0.24792028963565826, 0.03155115246772766]], [[0.00425115879625082, 0.2452101856470108, 0.05385363847017288, 0.6660432815551758, 0.030641760677099228], [0.01629338040947914, 0.14536626636981964, 0.3558759391307831, 0.01629338040947914, 0.4661710262298584]], [[0.003460721578449011, 0.003460721578449011, 0.43026232719421387, 0.002142656594514847, 0.5606735944747925], [0.8912108540534973, 0.011443592607975006, 0.024383898824453354, 0.06151800602674484, 0.011443592607975006]], [[0.12024115025997162, 0.0049031260423362255, 0.865430474281311, 0.00850378256291151, 0.0009214953170157969], [0.13102582097053528, 0.1780359297990799, 0.00746037345379591, 0.13272623717784882, 0.5507516860961914]], [[0.11187354475259781, 0.006246728356927633, 0.03514832630753517, 0.7723264694213867, 0.07440488785505295], [0.15334932506084442, 0.06852409988641739, 0.06086455285549164, 0.6323907971382141, 0.08487123996019363]], [[0.017246559262275696, 0.1857348531484604, 0.03374592214822769, 0.649010419845581, 0.11426225304603577], [0.009860944002866745, 0.2641078531742096, 0.08346860110759735, 0.039595384150743484, 0.6029671430587769]], [[0.19333495199680328, 0.36594685912132263, 0.29058146476745605, 0.14509335160255432, 0.005043339915573597], [0.7082468867301941, 0.0021120805758982897, 0.27830520272254944, 0.009479112923145294, 0.001856670598499477]], [[0.020454861223697662, 0.4337932765483856, 0.001031907508149743, 0.5312653183937073, 0.01345458161085844], [0.0013057099422439933, 0.435093492269516, 0.00022534829622600228, 0.12828198075294495, 0.435093492269516]], [[0.002503884956240654, 0.03015117347240448, 0.7994384169578552, 0.15189430117607117, 0.016012251377105713], [0.9933369159698486, 0.0013152479659765959, 0.0027206609956920147, 0.0013152479659765959, 0.001311884494498372]], [[0.1737993359565735, 0.21486715972423553, 0.4985421597957611, 0.03614917770028114, 0.07664218544960022], [0.026234736666083336, 0.0001767118665156886, 0.7809302806854248, 0.09632911533117294, 0.09632911533117294]], [[0.006838506553322077, 0.006838506553322077, 0.012360276654362679, 0.6528903245925903, 0.32107239961624146], [0.16566093266010284, 0.1723155975341797, 0.1723155975341797, 0.2448539137840271, 0.2448539137840271]], [[0.944743812084198, 0.00898132473230362, 0.005671511869877577, 0.03777605667710304, 0.0028272231575101614], [0.0388665534555912, 0.008675932884216309, 0.0388665534555912, 0.9049150943756104, 0.008675932884216309]], [[0.5335836410522461, 0.002313945209607482, 0.024542832747101784, 0.16816364228725433, 0.27139589190483093], [0.06185948848724365, 0.5050199031829834, 0.07669071853160858, 0.040901247411966324, 0.31552866101264954]], [[0.13471072912216187, 0.13471072912216187, 0.40881526470184326, 0.04581427201628685, 0.27594900131225586], [0.0008414075127802789, 0.012894232757389545, 0.9767524600028992, 0.00023168782354332507, 0.009280187077820301]], [[0.013440247625112534, 0.24001088738441467, 0.00721814064309001, 0.49931982159614563, 0.24001088738441467], [0.07255542278289795, 0.05406352877616882, 0.014867265708744526, 0.701799213886261, 0.1567145586013794]], [[0.029160989448428154, 0.4948539733886719, 0.2970584034919739, 0.009421463124454021, 0.16950517892837524], [0.4525171220302582, 0.4591262638568878, 0.02706039883196354, 0.00870799645781517, 0.05258820950984955]], [[0.006928121205419302, 0.0001927926787175238, 0.00414193794131279, 0.001443785964511335, 0.9872934818267822], [0.1935252845287323, 0.11870897561311722, 0.08523225784301758, 0.39685454964637756, 0.20567896962165833]], [[0.1868058145046234, 0.1868058145046234, 0.6123882532119751, 0.002861524000763893, 0.01113856304436922], [0.01277418714016676, 0.24017775058746338, 0.05834733694791794, 0.11657359451055527, 0.572127103805542]], [[0.5890565514564514, 0.01945522241294384, 0.35870349407196045, 0.027921458706259727, 0.004863191395998001], [0.627229630947113, 0.26376092433929443, 0.0070947278290987015, 0.003515677060931921, 0.09839905053377151]], [[0.17284463346004486, 0.19797354936599731, 0.019711671397089958, 0.5395770072937012, 0.06989310681819916], [0.002829122357070446, 0.0011497532250359654, 0.0003324340796098113, 0.9802015423774719, 0.015487054362893105]], [[0.047127123922109604, 0.13428446650505066, 0.21073469519615173, 0.18448640406131744, 0.42336729168891907], [0.3241227865219116, 0.0607069730758667, 0.22718708217144012, 0.06377317756414413, 0.32420995831489563]], [[0.5330123901367188, 0.02598867379128933, 0.3461296558380127, 0.028252456337213516, 0.06661683320999146], [0.2947891652584076, 0.016476936638355255, 0.6473174095153809, 0.017825156450271606, 0.023591354489326477]], [[0.12618625164031982, 0.11256278306245804, 0.3206460773944855, 0.050763800740242004, 0.38984107971191406], [0.11488448828458786, 0.015867354348301888, 0.008335103280842304, 0.2311587929725647, 0.629754364490509]], [[0.12640151381492615, 0.0699777826666832, 0.39113420248031616, 0.021352369338274002, 0.39113420248031616], [0.8660457134246826, 0.00049854617100209, 0.023231662809848785, 0.10972552746534348, 0.00049854617100209]], [[0.009244725108146667, 0.03280768543481827, 0.10469154268503189, 0.05758485198020935, 0.7956712245941162], [0.9081283807754517, 0.04175713658332825, 0.0027316410560160875, 0.00562566053122282, 0.04175713658332825]], [[0.2311190664768219, 0.24328717589378357, 0.06458757072687149, 0.39009249210357666, 0.07091376185417175], [0.8325458765029907, 0.07010313868522644, 0.024305280297994614, 0.0029425767716020346, 0.07010313868522644]], [[0.18446694314479828, 0.8064280152320862, 0.00820946041494608, 0.00039339117938652635, 0.000502136826980859], [0.22237519919872284, 0.22237519919872284, 0.3599390983581543, 0.06135687977075577, 0.13395364582538605]], [[0.02739718183875084, 0.16292989253997803, 0.7919544577598572, 0.00299830106087029, 0.014720134437084198], [0.08247232437133789, 0.43295639753341675, 0.045986417680978775, 0.060192614793777466, 0.3783923089504242]], [[0.062132399529218674, 0.06232033669948578, 0.8018710017204285, 0.03683814778923988, 0.03683814778923988], [0.40055543184280396, 0.021949075162410736, 0.08847004920244217, 0.08847004920244217, 0.40055543184280396]], [[0.2549021244049072, 0.1327327936887741, 0.26182618737220764, 0.21780607104301453, 0.1327327936887741], [0.7621862292289734, 0.047707267105579376, 0.061799466609954834, 0.047707267105579376, 0.08059974014759064]], [[0.00362230627797544, 0.4890671670436859, 0.06246465444564819, 0.3880995810031891, 0.05674625188112259], [0.0009376642410643399, 0.8481531739234924, 0.04439685866236687, 0.08510258048772812, 0.02140970714390278]], [[0.008444822393357754, 0.0020356145687401295, 0.004159754607826471, 0.8119754195213318, 0.17338445782661438], [0.03520064800977707, 0.05980333313345909, 0.05291568487882614, 0.8467195630073547, 0.005360789597034454]], [[0.034413788467645645, 0.034413788467645645, 0.3488088548183441, 0.2335546910762787, 0.3488088548183441], [0.12459296733140945, 0.003841160563752055, 0.8392923474311829, 0.027733201161026955, 0.004540294408798218]], [[0.022271575406193733, 0.022271575406193733, 0.8972766399383545, 0.003289473010227084, 0.054890722036361694], [0.13753177225589752, 0.004224500153213739, 0.84747314453125, 0.0018541644094511867, 0.008916419930756092]], [[0.19091767072677612, 0.027689751237630844, 0.005573714151978493, 0.5849012136459351, 0.19091767072677612], [0.010276577435433865, 0.467670738697052, 0.02719094231724739, 0.02719094231724739, 0.467670738697052]], [[0.17667052149772644, 0.005231470335274935, 0.083052858710289, 0.6519922614097595, 0.083052858710289], [0.24620577692985535, 0.16591398417949677, 0.4059293270111084, 0.06329669058322906, 0.11865425854921341]], [[0.7200813293457031, 0.004204149823635817, 0.004654655233025551, 0.10391439497470856, 0.16714544594287872], [0.009126712568104267, 0.009126712568104267, 0.04324456676840782, 0.059745896607637405, 0.878756046295166]], [[0.04546147212386131, 0.44049811363220215, 0.08711250871419907, 0.3694117069244385, 0.05751616880297661], [0.016241993755102158, 0.06930931657552719, 0.6378612518310547, 0.2321750521659851, 0.04441230744123459]], [[0.07859262824058533, 0.4011610448360443, 0.35296446084976196, 0.004079305566847324, 0.16320252418518066], [0.08781712502241135, 0.13574974238872528, 0.15152586996555328, 0.0001493790332460776, 0.6247578859329224]], [[0.033239588141441345, 0.7620595693588257, 0.17534366250038147, 0.014678606763482094, 0.014678606763482094], [0.0025718274991959333, 0.0011038265656679869, 0.1004999652504921, 0.8869695663452148, 0.008854727260768414]], [[0.1218222826719284, 0.30557847023010254, 0.07411022484302521, 0.3782341778278351, 0.12025482952594757], [0.13268940150737762, 0.09869572520256042, 0.027290424332022667, 0.7050294876098633, 0.03629498928785324]], [[0.47557342052459717, 0.47557342052459717, 0.0009169810800813138, 0.012712719850242138, 0.03522345796227455], [0.030727896839380264, 0.5901070237159729, 0.24539056420326233, 0.04109252244234085, 0.09268195927143097]], [[0.3778044879436493, 0.0032467530108988285, 0.05104224383831024, 0.559112012386322, 0.008794502355158329], [0.928852379322052, 0.007883766666054726, 0.0072271376848220825, 0.052094925194978714, 0.003941813949495554]], [[0.5275185108184814, 0.02373465523123741, 0.4045816957950592, 0.03512317314743996, 0.009041967801749706], [0.9592095613479614, 0.00019897111633326858, 0.00015742520918138325, 0.03856723755598068, 0.0018667689291760325]], [[0.004235692322254181, 0.9710690379142761, 0.00962971430271864, 0.008831470273435116, 0.006234065163880587], [0.09668108820915222, 0.008446811698377132, 0.8138033747673035, 0.013915836811065674, 0.06715289503335953]], [[0.05401033163070679, 0.06865991652011871, 0.7253077030181885, 0.002852735575288534, 0.14916926622390747], [0.009064825251698494, 0.03316754102706909, 0.4623000919818878, 0.03316754102706909, 0.4623000919818878]], [[0.026925625279545784, 0.009534861892461777, 0.011272178031504154, 0.013923702761530876, 0.9383436441421509], [0.39628636837005615, 0.30024200677871704, 0.03010053187608719, 0.02512540854513645, 0.2482457011938095]], [[0.004649286158382893, 0.37098073959350586, 0.24873995780944824, 0.004649286158382893, 0.37098073959350586], [0.1622607260942459, 0.0941263809800148, 0.5506197214126587, 0.04495876654982567, 0.14803442358970642]], [[0.1594349890947342, 0.26394617557525635, 0.18134543299674988, 0.020481113344430923, 0.37479233741760254], [0.16565608978271484, 0.37284034490585327, 0.37284034490585327, 0.08778966218233109, 0.0008736041490919888]], [[0.28781598806381226, 0.29319584369659424, 0.08657336235046387, 0.28781598806381226, 0.04459879919886589], [0.2763917148113251, 0.18512368202209473, 0.07696927338838577, 0.18512368202209473, 0.2763917148113251]], [[0.4435197710990906, 0.03517557308077812, 0.04260927438735962, 0.03517557308077812, 0.4435197710990906], [0.007619897369295359, 0.04416479170322418, 0.0308389775454998, 0.04416479170322418, 0.8732116222381592]], [[0.13674604892730713, 0.007508852053433657, 0.542560338973999, 0.05423393473029137, 0.258950799703598], [0.2972366511821747, 0.40120330452919006, 0.0045646075159311295, 0.06624511629343033, 0.23075030744075775]], [[0.0019395728595554829, 0.009432974271476269, 0.01902899332344532, 0.01902899332344532, 0.9505694508552551], [0.2642040252685547, 0.003827041480690241, 0.19375933706760406, 0.2842544913291931, 0.2539551258087158]], [[0.03693952038884163, 0.6950206160545349, 0.08168923109769821, 0.049872636795043945, 0.13647806644439697], [0.27290448546409607, 0.11694186180830002, 0.4917941093444824, 0.0014176674885675311, 0.11694186180830002]], [[0.48898327350616455, 0.01042461208999157, 0.00715892156586051, 0.48898327350616455, 0.004449912812560797], [0.5417243242263794, 0.032088544219732285, 0.3532898724079132, 0.036448609083890915, 0.036448609083890915]], [[0.14596067368984222, 0.04354288429021835, 0.02587209641933441, 0.1634434312582016, 0.6211808919906616], [0.0399823933839798, 0.00724232429638505, 0.6469144225120544, 0.20536752045154572, 0.10049338638782501]], [[0.08382251113653183, 0.0039496649987995625, 0.0009433649247512221, 0.8921698927879333, 0.019114483147859573], [0.1298244744539261, 0.6993184089660645, 0.0017737625166773796, 0.1298244744539261, 0.03925896808505058]], [[0.03200772404670715, 0.4497182071208954, 0.4497182071208954, 0.0651463195681572, 0.0034095251467078924], [0.04972691088914871, 0.2704159915447235, 0.0768963098526001, 0.07787664234638214, 0.5250841379165649]], [[0.00954919122159481, 0.00954919122159481, 0.012721514329314232, 0.2444273680448532, 0.7237527966499329], [0.00013242231216281652, 0.4668848514556885, 0.0011897515505552292, 0.04113691672682762, 0.4906560480594635]], [[0.3350580334663391, 0.32393401861190796, 0.32393401861190796, 0.002736504189670086, 0.014337443746626377], [0.03462586924433708, 0.005172316450625658, 0.009718772023916245, 0.9286918640136719, 0.021791202947497368]], [[0.00056850491091609, 0.00056850491091609, 0.6647392511367798, 0.33255892992019653, 0.0015647674445062876], [0.020321233198046684, 0.13678838312625885, 0.08231788873672485, 0.010733729228377342, 0.7498387694358826]], [[0.28896239399909973, 0.14230892062187195, 0.1398831456899643, 0.1398831456899643, 0.28896239399909973], [0.06326872855424881, 0.7922899723052979, 0.03734166920185089, 0.03734166920185089, 0.06975796073675156]], [[0.012683561071753502, 0.5723598599433899, 0.011230439879000187, 0.04115298390388489, 0.36257320642471313], [0.007397699169814587, 0.8922571539878845, 0.0010496681788936257, 0.007397699169814587, 0.09189782291650772]], [[0.007865837775170803, 0.04448074474930763, 0.1627013236284256, 0.011832619085907936, 0.7731194496154785], [0.05428129807114601, 0.5143867135047913, 0.048499397933483124, 0.328551322221756, 0.05428129807114601]], [[0.18434059619903564, 0.10579017549753189, 0.5634682178497314, 0.0732005164027214, 0.0732005164027214], [0.0922238752245903, 0.0029684100300073624, 0.0922238752245903, 0.0029684100300073624, 0.8096154928207397]], [[0.05131091549992561, 0.32100868225097656, 0.10142909735441208, 0.0915447250008583, 0.43470659852027893], [0.12167317420244217, 0.030555017292499542, 0.42074859142303467, 0.006274575367569923, 0.42074859142303467]], [[0.3860880732536316, 0.0016052672872319818, 0.22461330890655518, 0.3860880732536316, 0.0016052672872319818], [0.3952838182449341, 0.004841262008994818, 0.42447879910469055, 0.16635341942310333, 0.009042680263519287]], [[0.011163563467562199, 0.1492413878440857, 0.3208777904510498, 0.19783946871757507, 0.3208777904510498], [0.001125841517932713, 0.06751332432031631, 0.6615802049636841, 0.2637310028076172, 0.0060495901852846146]], [[0.3669297397136688, 0.00585563201457262, 0.20277953147888184, 0.24568863213062286, 0.17874644696712494], [0.26411178708076477, 0.00515437638387084, 0.022919930517673492, 0.317548006772995, 0.3902658224105835]], [[0.37490957975387573, 0.3806370794773102, 0.07346837222576141, 0.038471195846796036, 0.13251379132270813], [0.041749075055122375, 0.0143024493008852, 0.14608155190944672, 0.78441321849823, 0.013453722931444645]], [[0.02667047269642353, 0.11918830126523972, 0.25401967763900757, 0.4883747398853302, 0.11174675822257996], [0.2669934928417206, 0.1402457058429718, 0.002759059891104698, 0.5740994215011597, 0.01590232364833355]], [[0.4794338345527649, 0.09600475430488586, 0.051844917237758636, 0.03281645104289055, 0.3398999571800232], [0.0403209924697876, 0.6934212446212769, 0.0038097689393907785, 0.08400949835777283, 0.17843849956989288]], [[0.06466202437877655, 0.8602101802825928, 0.03767286241054535, 0.025215307250618935, 0.012239601463079453], [0.25580886006355286, 0.25580886006355286, 0.006713903043419123, 0.020609939470887184, 0.46105843782424927]], [[0.0075547294691205025, 0.3599320352077484, 0.1252996325492859, 0.006561816204339266, 0.5006517767906189], [0.0030059684067964554, 0.17539379000663757, 0.0012046558549627662, 0.8164783716201782, 0.003917264752089977]], [[0.35898634791374207, 0.46131762862205505, 0.026960382238030434, 0.14050404727458954, 0.012231585569679737], [0.006304528564214706, 0.03882555663585663, 0.007112193387001753, 0.03665905073285103, 0.9110985994338989]], [[0.6324331164360046, 0.07783167064189911, 0.2601631283760071, 0.021690022200345993, 0.00788210704922676], [0.036897383630275726, 0.008267519064247608, 0.27534568309783936, 0.14544597268104553, 0.5340434908866882]], [[0.003581718076020479, 0.007176653947681189, 0.8065724968910217, 0.17549249529838562, 0.007176653947681189], [0.173405721783638, 0.11130967736244202, 0.03400095924735069, 0.09164347499608994, 0.5896401405334473]], [[0.15189743041992188, 0.8083257079124451, 0.033654775470495224, 0.0013556330231949687, 0.004766493570059538], [0.05910036340355873, 0.3491135835647583, 0.36048465967178345, 0.11475938558578491, 0.11654195189476013]], [[0.1486305594444275, 0.007357552647590637, 0.017635004594922066, 0.026986777782440186, 0.7993901968002319], [0.056717399507761, 0.0029652127996087074, 0.8098300695419312, 0.006661944091320038, 0.1238253191113472]], [[0.03864315152168274, 0.15675482153892517, 0.6158458590507507, 0.0320013053715229, 0.15675482153892517], [0.02310870587825775, 0.03382975980639458, 0.09364231675863266, 0.043364401906728745, 0.8060548305511475]], [[0.3274146318435669, 0.07877831906080246, 0.04662751406431198, 0.3274146318435669, 0.21976494789123535], [0.04909482225775719, 0.3742346167564392, 0.016733087599277496, 0.5108426213264465, 0.04909482225775719]], [[0.43879252672195435, 0.10002732276916504, 0.10641985386610031, 0.12524136900901794, 0.22951893508434296], [0.3807249963283539, 0.060126230120658875, 0.11829762905836105, 0.3807249963283539, 0.060126230120658875]], [[0.24053534865379333, 0.14149051904678345, 0.10135317593812943, 0.23233993351459503, 0.28428107500076294], [0.04791433364152908, 0.4027264714241028, 0.5420716404914856, 0.0034951590932905674, 0.00379236601293087]], [[0.41328859329223633, 0.3422607183456421, 0.02535133622586727, 0.20544712245464325, 0.013652217574417591], [0.004102298524230719, 0.008987878449261189, 0.9214178919792175, 0.06327204406261444, 0.002219848334789276]], [[0.4405479431152344, 0.03229289501905441, 0.00256832642480731, 0.0001788685331121087, 0.5244119763374329], [0.40324610471725464, 0.18688468635082245, 0.38758355379104614, 0.008518571965396404, 0.013767080381512642]], [[0.045397255569696426, 0.24963314831256866, 0.009753582999110222, 0.6933892965316772, 0.0018267066916450858], [0.0784481093287468, 0.06352700293064117, 0.35326385498046875, 0.15149718523025513, 0.35326385498046875]], [[0.459938108921051, 0.016383754089474678, 0.047356247901916504, 0.459938108921051, 0.016383754089474678], [0.2108127623796463, 0.0013443119823932648, 0.7695999145507812, 0.0017384059028699994, 0.016504621133208275]], [[0.0196237675845623, 0.36036667227745056, 0.1929549127817154, 0.12844984233379364, 0.2986047863960266], [0.0399150624871254, 0.022982634603977203, 0.06578706949949265, 0.007161904126405716, 0.8641533851623535]], [[0.0030781584791839123, 0.07079963386058807, 0.02803189866244793, 0.856461226940155, 0.04162902012467384], [0.08420200645923615, 0.8489297032356262, 0.019541040062904358, 0.04590213671326637, 0.0014251586981117725]], [[0.05634120851755142, 0.08144451677799225, 0.24991057813167572, 0.1944323182106018, 0.417871356010437], [0.027673564851284027, 0.893899142742157, 0.07494518160820007, 0.0011866012355312705, 0.0022955508902668953]], [[0.03572792559862137, 0.03572792559862137, 0.04516711086034775, 0.10963381826877594, 0.773743212223053], [0.35684671998023987, 0.35684671998023987, 0.10301768779754639, 0.0802711471915245, 0.10301768779754639]], [[0.8756544589996338, 0.045930348336696625, 0.006880100816488266, 0.00018563962657935917, 0.07134934514760971]]]\n",
      "[[[1.0, 0.0, 0.0, 0.0, 0.0], [0.0, 0.0, 1.0, 0.0, 0.0]], [[0.0, 1.0, 0.0, 0.0, 0.0], [0.0, 0.0, 0.0, 0.0, 1.0]], [[0.0, 0.0, 0.0, 1.0, 0.0], [0.0, 0.0, 0.0, 0.0, 1.0]], [[0.0, 1.0, 0.0, 0.0, 0.0], [0.0, 0.0, 0.0, 1.0, 0.0]], [[0.0, 0.0, 0.0, 1.0, 0.0], [1.0, 0.0, 0.0, 0.0, 0.0]], [[0.0, 0.0, 0.0, 1.0, 0.0], [0.0, 0.0, 0.0, 1.0, 0.0]], [[0.0, 0.0, 0.0, 1.0, 0.0], [1.0, 0.0, 0.0, 0.0, 0.0]], [[0.0, 0.0, 0.0, 1.0, 0.0], [1.0, 0.0, 0.0, 0.0, 0.0]], [[0.0, 0.0, 1.0, 0.0, 0.0], [0.0, 0.0, 0.0, 1.0, 0.0]], [[0.0, 0.0, 0.0, 1.0, 0.0], [0.0, 0.0, 0.0, 0.0, 1.0]], [[0.0, 1.0, 0.0, 0.0, 0.0], [1.0, 0.0, 0.0, 0.0, 0.0]], [[0.0, 0.0, 1.0, 0.0, 0.0], [1.0, 0.0, 0.0, 0.0, 0.0]], [[0.0, 0.0, 1.0, 0.0, 0.0], [0.0, 0.0, 0.0, 1.0, 0.0]], [[0.0, 1.0, 0.0, 0.0, 0.0], [0.0, 0.0, 0.0, 1.0, 0.0]], [[0.0, 0.0, 0.0, 0.0, 1.0], [0.0, 0.0, 0.0, 1.0, 0.0]], [[0.0, 0.0, 0.0, 1.0, 0.0], [0.0, 0.0, 1.0, 0.0, 0.0]], [[0.0, 0.0, 0.0, 0.0, 1.0], [0.0, 0.0, 0.0, 1.0, 0.0]], [[0.0, 0.0, 0.0, 1.0, 0.0], [0.0, 0.0, 1.0, 0.0, 0.0]], [[1.0, 0.0, 0.0, 0.0, 0.0], [1.0, 0.0, 0.0, 0.0, 0.0]], [[0.0, 1.0, 0.0, 0.0, 0.0], [1.0, 0.0, 0.0, 0.0, 0.0]], [[0.0, 0.0, 1.0, 0.0, 0.0], [0.0, 0.0, 1.0, 0.0, 0.0]], [[0.0, 0.0, 1.0, 0.0, 0.0], [0.0, 0.0, 0.0, 0.0, 1.0]], [[1.0, 0.0, 0.0, 0.0, 0.0], [0.0, 0.0, 0.0, 0.0, 1.0]], [[1.0, 0.0, 0.0, 0.0, 0.0], [1.0, 0.0, 0.0, 0.0, 0.0]], [[0.0, 1.0, 0.0, 0.0, 0.0], [0.0, 0.0, 0.0, 1.0, 0.0]], [[0.0, 0.0, 0.0, 0.0, 1.0], [0.0, 0.0, 0.0, 0.0, 1.0]], [[0.0, 0.0, 0.0, 0.0, 1.0], [0.0, 0.0, 0.0, 0.0, 1.0]], [[0.0, 0.0, 0.0, 1.0, 0.0], [1.0, 0.0, 0.0, 0.0, 0.0]], [[0.0, 1.0, 0.0, 0.0, 0.0], [0.0, 0.0, 0.0, 1.0, 0.0]], [[0.0, 0.0, 0.0, 1.0, 0.0], [1.0, 0.0, 0.0, 0.0, 0.0]], [[1.0, 0.0, 0.0, 0.0, 0.0], [0.0, 0.0, 0.0, 0.0, 1.0]], [[0.0, 0.0, 1.0, 0.0, 0.0], [1.0, 0.0, 0.0, 0.0, 0.0]], [[0.0, 1.0, 0.0, 0.0, 0.0], [0.0, 0.0, 0.0, 1.0, 0.0]], [[0.0, 0.0, 0.0, 0.0, 1.0], [0.0, 1.0, 0.0, 0.0, 0.0]], [[0.0, 1.0, 0.0, 0.0, 0.0], [0.0, 0.0, 0.0, 1.0, 0.0]], [[1.0, 0.0, 0.0, 0.0, 0.0], [0.0, 1.0, 0.0, 0.0, 0.0]], [[1.0, 0.0, 0.0, 0.0, 0.0], [0.0, 1.0, 0.0, 0.0, 0.0]], [[0.0, 0.0, 0.0, 0.0, 1.0], [0.0, 0.0, 1.0, 0.0, 0.0]], [[0.0, 0.0, 1.0, 0.0, 0.0], [0.0, 0.0, 0.0, 1.0, 0.0]], [[0.0, 0.0, 1.0, 0.0, 0.0], [0.0, 0.0, 0.0, 1.0, 0.0]], [[0.0, 0.0, 0.0, 1.0, 0.0], [0.0, 0.0, 0.0, 1.0, 0.0]], [[1.0, 0.0, 0.0, 0.0, 0.0], [0.0, 1.0, 0.0, 0.0, 0.0]], [[0.0, 0.0, 1.0, 0.0, 0.0], [0.0, 0.0, 0.0, 1.0, 0.0]], [[0.0, 0.0, 1.0, 0.0, 0.0], [1.0, 0.0, 0.0, 0.0, 0.0]], [[0.0, 0.0, 1.0, 0.0, 0.0], [1.0, 0.0, 0.0, 0.0, 0.0]], [[1.0, 0.0, 0.0, 0.0, 0.0], [1.0, 0.0, 0.0, 0.0, 0.0]], [[0.0, 0.0, 0.0, 0.0, 1.0], [1.0, 0.0, 0.0, 0.0, 0.0]], [[0.0, 0.0, 0.0, 1.0, 0.0], [0.0, 0.0, 0.0, 1.0, 0.0]], [[0.0, 0.0, 0.0, 1.0, 0.0], [0.0, 1.0, 0.0, 0.0, 0.0]], [[0.0, 0.0, 0.0, 1.0, 0.0], [0.0, 0.0, 0.0, 0.0, 1.0]], [[1.0, 0.0, 0.0, 0.0, 0.0], [1.0, 0.0, 0.0, 0.0, 0.0]], [[1.0, 0.0, 0.0, 0.0, 0.0], [0.0, 0.0, 1.0, 0.0, 0.0]], [[0.0, 1.0, 0.0, 0.0, 0.0], [0.0, 0.0, 0.0, 0.0, 1.0]], [[0.0, 0.0, 1.0, 0.0, 0.0], [1.0, 0.0, 0.0, 0.0, 0.0]], [[1.0, 0.0, 0.0, 0.0, 0.0], [0.0, 0.0, 0.0, 0.0, 1.0]], [[1.0, 0.0, 0.0, 0.0, 0.0], [0.0, 0.0, 0.0, 1.0, 0.0]], [[0.0, 0.0, 0.0, 0.0, 1.0], [0.0, 0.0, 0.0, 0.0, 1.0]], [[0.0, 1.0, 0.0, 0.0, 0.0], [0.0, 0.0, 1.0, 0.0, 0.0]], [[0.0, 1.0, 0.0, 0.0, 0.0], [0.0, 1.0, 0.0, 0.0, 0.0]], [[0.0, 1.0, 0.0, 0.0, 0.0], [1.0, 0.0, 0.0, 0.0, 0.0]], [[1.0, 0.0, 0.0, 0.0, 0.0], [0.0, 0.0, 1.0, 0.0, 0.0]], [[0.0, 0.0, 1.0, 0.0, 0.0], [0.0, 0.0, 0.0, 1.0, 0.0]], [[0.0, 0.0, 0.0, 0.0, 1.0], [0.0, 0.0, 0.0, 0.0, 1.0]], [[0.0, 0.0, 0.0, 1.0, 0.0], [0.0, 0.0, 0.0, 1.0, 0.0]], [[1.0, 0.0, 0.0, 0.0, 0.0], [0.0, 1.0, 0.0, 0.0, 0.0]], [[1.0, 0.0, 0.0, 0.0, 0.0], [0.0, 0.0, 0.0, 0.0, 1.0]], [[0.0, 1.0, 0.0, 0.0, 0.0], [0.0, 0.0, 0.0, 1.0, 0.0]], [[0.0, 1.0, 0.0, 0.0, 0.0], [1.0, 0.0, 0.0, 0.0, 0.0]], [[0.0, 0.0, 0.0, 1.0, 0.0], [0.0, 1.0, 0.0, 0.0, 0.0]], [[0.0, 0.0, 1.0, 0.0, 0.0], [0.0, 1.0, 0.0, 0.0, 0.0]], [[0.0, 1.0, 0.0, 0.0, 0.0], [1.0, 0.0, 0.0, 0.0, 0.0]], [[0.0, 0.0, 0.0, 1.0, 0.0], [1.0, 0.0, 0.0, 0.0, 0.0]], [[1.0, 0.0, 0.0, 0.0, 0.0], [0.0, 0.0, 0.0, 0.0, 1.0]], [[0.0, 0.0, 1.0, 0.0, 0.0], [0.0, 0.0, 0.0, 0.0, 1.0]], [[0.0, 0.0, 1.0, 0.0, 0.0], [0.0, 0.0, 0.0, 1.0, 0.0]], [[1.0, 0.0, 0.0, 0.0, 0.0], [0.0, 0.0, 0.0, 0.0, 1.0]], [[0.0, 0.0, 1.0, 0.0, 0.0], [1.0, 0.0, 0.0, 0.0, 0.0]], [[0.0, 0.0, 1.0, 0.0, 0.0], [0.0, 0.0, 0.0, 1.0, 0.0]], [[1.0, 0.0, 0.0, 0.0, 0.0], [1.0, 0.0, 0.0, 0.0, 0.0]], [[0.0, 0.0, 1.0, 0.0, 0.0], [0.0, 1.0, 0.0, 0.0, 0.0]], [[0.0, 1.0, 0.0, 0.0, 0.0], [1.0, 0.0, 0.0, 0.0, 0.0]], [[0.0, 0.0, 1.0, 0.0, 0.0], [1.0, 0.0, 0.0, 0.0, 0.0]], [[1.0, 0.0, 0.0, 0.0, 0.0], [0.0, 1.0, 0.0, 0.0, 0.0]], [[0.0, 0.0, 1.0, 0.0, 0.0], [0.0, 0.0, 1.0, 0.0, 0.0]], [[0.0, 0.0, 0.0, 1.0, 0.0], [0.0, 0.0, 0.0, 1.0, 0.0]], [[0.0, 0.0, 0.0, 0.0, 1.0], [0.0, 0.0, 1.0, 0.0, 0.0]], [[0.0, 0.0, 1.0, 0.0, 0.0], [0.0, 0.0, 0.0, 0.0, 1.0]], [[0.0, 1.0, 0.0, 0.0, 0.0], [1.0, 0.0, 0.0, 0.0, 0.0]], [[1.0, 0.0, 0.0, 0.0, 0.0], [0.0, 0.0, 0.0, 0.0, 1.0]], [[0.0, 0.0, 0.0, 0.0, 1.0], [0.0, 0.0, 0.0, 1.0, 0.0]], [[0.0, 0.0, 0.0, 0.0, 1.0], [0.0, 1.0, 0.0, 0.0, 0.0]], [[1.0, 0.0, 0.0, 0.0, 0.0], [0.0, 0.0, 0.0, 1.0, 0.0]], [[0.0, 1.0, 0.0, 0.0, 0.0], [0.0, 1.0, 0.0, 0.0, 0.0]], [[0.0, 0.0, 0.0, 1.0, 0.0], [1.0, 0.0, 0.0, 0.0, 0.0]], [[0.0, 0.0, 0.0, 0.0, 1.0], [0.0, 0.0, 0.0, 0.0, 1.0]], [[0.0, 0.0, 0.0, 1.0, 0.0], [0.0, 1.0, 0.0, 0.0, 0.0]], [[0.0, 0.0, 1.0, 0.0, 0.0], [0.0, 0.0, 0.0, 0.0, 1.0]], [[0.0, 1.0, 0.0, 0.0, 0.0], [1.0, 0.0, 0.0, 0.0, 0.0]], [[0.0, 0.0, 1.0, 0.0, 0.0], [0.0, 1.0, 0.0, 0.0, 0.0]], [[1.0, 0.0, 0.0, 0.0, 0.0], [0.0, 1.0, 0.0, 0.0, 0.0]], [[0.0, 1.0, 0.0, 0.0, 0.0], [0.0, 0.0, 0.0, 0.0, 1.0]], [[0.0, 0.0, 0.0, 0.0, 1.0], [0.0, 0.0, 0.0, 1.0, 0.0]], [[0.0, 0.0, 1.0, 0.0, 0.0], [1.0, 0.0, 0.0, 0.0, 0.0]], [[0.0, 1.0, 0.0, 0.0, 0.0], [1.0, 0.0, 0.0, 0.0, 0.0]], [[0.0, 0.0, 1.0, 0.0, 0.0], [0.0, 0.0, 0.0, 1.0, 0.0]], [[0.0, 0.0, 0.0, 0.0, 1.0], [0.0, 0.0, 0.0, 1.0, 0.0]], [[0.0, 0.0, 1.0, 0.0, 0.0], [0.0, 0.0, 0.0, 0.0, 1.0]], [[1.0, 0.0, 0.0, 0.0, 0.0], [1.0, 0.0, 0.0, 0.0, 0.0]], [[0.0, 0.0, 0.0, 0.0, 1.0], [0.0, 0.0, 1.0, 0.0, 0.0]], [[0.0, 0.0, 1.0, 0.0, 0.0], [0.0, 0.0, 1.0, 0.0, 0.0]], [[0.0, 1.0, 0.0, 0.0, 0.0], [0.0, 0.0, 0.0, 1.0, 0.0]], [[0.0, 1.0, 0.0, 0.0, 0.0], [0.0, 1.0, 0.0, 0.0, 0.0]], [[0.0, 0.0, 0.0, 1.0, 0.0], [0.0, 0.0, 0.0, 0.0, 1.0]], [[0.0, 0.0, 0.0, 0.0, 1.0], [0.0, 0.0, 1.0, 0.0, 0.0]], [[0.0, 0.0, 0.0, 1.0, 0.0], [0.0, 1.0, 0.0, 0.0, 0.0]], [[0.0, 0.0, 1.0, 0.0, 0.0], [0.0, 1.0, 0.0, 0.0, 0.0]], [[0.0, 0.0, 1.0, 0.0, 0.0], [0.0, 1.0, 0.0, 0.0, 0.0]], [[0.0, 0.0, 1.0, 0.0, 0.0], [0.0, 0.0, 1.0, 0.0, 0.0]], [[0.0, 0.0, 0.0, 1.0, 0.0], [0.0, 1.0, 0.0, 0.0, 0.0]], [[0.0, 0.0, 1.0, 0.0, 0.0], [0.0, 0.0, 0.0, 0.0, 1.0]], [[0.0, 1.0, 0.0, 0.0, 0.0], [0.0, 0.0, 0.0, 0.0, 1.0]], [[0.0, 0.0, 1.0, 0.0, 0.0], [0.0, 0.0, 0.0, 1.0, 0.0]], [[0.0, 0.0, 1.0, 0.0, 0.0], [0.0, 0.0, 1.0, 0.0, 0.0]], [[0.0, 1.0, 0.0, 0.0, 0.0], [1.0, 0.0, 0.0, 0.0, 0.0]], [[0.0, 0.0, 0.0, 1.0, 0.0], [0.0, 1.0, 0.0, 0.0, 0.0]], [[0.0, 1.0, 0.0, 0.0, 0.0], [0.0, 1.0, 0.0, 0.0, 0.0]], [[0.0, 0.0, 0.0, 1.0, 0.0], [0.0, 0.0, 0.0, 1.0, 0.0]], [[0.0, 0.0, 1.0, 0.0, 0.0]]]\n"
     ]
    },
    {
     "name": "stderr",
     "output_type": "stream",
     "text": [
      "AUC:   0%|                                              | 0/128 [00:00<?, ?it/s]\n"
     ]
    },
    {
     "ename": "ValueError",
     "evalue": "Only one class present in y_true. ROC AUC score is not defined in that case.",
     "output_type": "error",
     "traceback": [
      "\u001b[1;31m---------------------------------------------------------------------------\u001b[0m",
      "\u001b[1;31mValueError\u001b[0m                                Traceback (most recent call last)",
      "Cell \u001b[1;32mIn[34], line 52\u001b[0m\n\u001b[0;32m     46\u001b[0m \u001b[38;5;28;01mfrom\u001b[39;00m \u001b[38;5;21;01mfrom_ebrec\u001b[39;00m\u001b[38;5;21;01m.\u001b[39;00m\u001b[38;5;21;01mevaluation\u001b[39;00m \u001b[38;5;28;01mimport\u001b[39;00m AucScore, MrrScore, NdcgScore\n\u001b[0;32m     47\u001b[0m metrics \u001b[38;5;241m=\u001b[39m MetricEvaluator(\n\u001b[0;32m     48\u001b[0m     labels \u001b[38;5;241m=\u001b[39m labels_test,\n\u001b[0;32m     49\u001b[0m     predictions\u001b[38;5;241m=\u001b[39m pred_test,\n\u001b[0;32m     50\u001b[0m     metric_functions\u001b[38;5;241m=\u001b[39m[AucScore(), MrrScore(), NdcgScore(k\u001b[38;5;241m=\u001b[39m\u001b[38;5;241m5\u001b[39m), NdcgScore(k\u001b[38;5;241m=\u001b[39m\u001b[38;5;241m10\u001b[39m)],\n\u001b[0;32m     51\u001b[0m )\n\u001b[1;32m---> 52\u001b[0m metrics\u001b[38;5;241m.\u001b[39mevaluate()\n\u001b[0;32m     53\u001b[0m \u001b[38;5;28mprint\u001b[39m(metrics)\n\u001b[0;32m     55\u001b[0m test_loss \u001b[38;5;241m/\u001b[39m\u001b[38;5;241m=\u001b[39m \u001b[38;5;28mlen\u001b[39m(test_dataloader)\n",
      "File \u001b[1;32mc:\\Users\\andre\\Documents\\Dev\\deep_learning\\02456_news_project\\src\\torch_nerd\\from_ebrec\\evaluation\\metrics_protocols.py:186\u001b[0m, in \u001b[0;36mMetricEvaluator.evaluate\u001b[1;34m(self)\u001b[0m\n\u001b[0;32m    184\u001b[0m \u001b[38;5;28;01mdef\u001b[39;00m \u001b[38;5;21mevaluate\u001b[39m(\u001b[38;5;28mself\u001b[39m) \u001b[38;5;241m-\u001b[39m\u001b[38;5;241m>\u001b[39m \u001b[38;5;28mdict\u001b[39m:\n\u001b[0;32m    185\u001b[0m     \u001b[38;5;28mself\u001b[39m\u001b[38;5;241m.\u001b[39mevaluations \u001b[38;5;241m=\u001b[39m {\n\u001b[1;32m--> 186\u001b[0m         metric_function\u001b[38;5;241m.\u001b[39mname: metric_function(\u001b[38;5;28mself\u001b[39m\u001b[38;5;241m.\u001b[39mlabels, \u001b[38;5;28mself\u001b[39m\u001b[38;5;241m.\u001b[39mpredictions)\n\u001b[0;32m    187\u001b[0m         \u001b[38;5;28;01mfor\u001b[39;00m metric_function \u001b[38;5;129;01min\u001b[39;00m \u001b[38;5;28mself\u001b[39m\u001b[38;5;241m.\u001b[39mmetric_functions\n\u001b[0;32m    188\u001b[0m     }\n\u001b[0;32m    189\u001b[0m     \u001b[38;5;28;01mreturn\u001b[39;00m \u001b[38;5;28mself\u001b[39m\n",
      "File \u001b[1;32mc:\\Users\\andre\\Documents\\Dev\\deep_learning\\02456_news_project\\src\\torch_nerd\\from_ebrec\\evaluation\\protocols.py:17\u001b[0m, in \u001b[0;36mMetric.__call__\u001b[1;34m(self, y_true, y_score)\u001b[0m\n\u001b[0;32m     16\u001b[0m \u001b[38;5;28;01mdef\u001b[39;00m \u001b[38;5;21m__call__\u001b[39m(\u001b[38;5;28mself\u001b[39m, y_true: np\u001b[38;5;241m.\u001b[39mndarray, y_score: np\u001b[38;5;241m.\u001b[39mndarray) \u001b[38;5;241m-\u001b[39m\u001b[38;5;241m>\u001b[39m \u001b[38;5;28mfloat\u001b[39m:\n\u001b[1;32m---> 17\u001b[0m     \u001b[38;5;28;01mreturn\u001b[39;00m \u001b[38;5;28mself\u001b[39m\u001b[38;5;241m.\u001b[39mcalculate(y_true, y_score)\n",
      "File \u001b[1;32mc:\\Users\\andre\\Documents\\Dev\\deep_learning\\02456_news_project\\src\\torch_nerd\\from_ebrec\\evaluation\\metrics_protocols.py:80\u001b[0m, in \u001b[0;36mAucScore.calculate\u001b[1;34m(self, y_true, y_pred)\u001b[0m\n\u001b[0;32m     77\u001b[0m \u001b[38;5;28;01mdef\u001b[39;00m \u001b[38;5;21mcalculate\u001b[39m(\u001b[38;5;28mself\u001b[39m, y_true: \u001b[38;5;28mlist\u001b[39m[np\u001b[38;5;241m.\u001b[39mndarray], y_pred: \u001b[38;5;28mlist\u001b[39m[np\u001b[38;5;241m.\u001b[39mndarray]) \u001b[38;5;241m-\u001b[39m\u001b[38;5;241m>\u001b[39m \u001b[38;5;28mfloat\u001b[39m:\n\u001b[0;32m     78\u001b[0m     res \u001b[38;5;241m=\u001b[39m np\u001b[38;5;241m.\u001b[39mmean(\n\u001b[0;32m     79\u001b[0m         [\n\u001b[1;32m---> 80\u001b[0m             roc_auc_score(each_labels, each_preds)\n\u001b[0;32m     81\u001b[0m             \u001b[38;5;28;01mfor\u001b[39;00m each_labels, each_preds \u001b[38;5;129;01min\u001b[39;00m tqdm(\n\u001b[0;32m     82\u001b[0m                 \u001b[38;5;28mzip\u001b[39m(y_true, y_pred), ncols\u001b[38;5;241m=\u001b[39m\u001b[38;5;241m80\u001b[39m, total\u001b[38;5;241m=\u001b[39m\u001b[38;5;28mlen\u001b[39m(y_true), desc\u001b[38;5;241m=\u001b[39m\u001b[38;5;124m\"\u001b[39m\u001b[38;5;124mAUC\u001b[39m\u001b[38;5;124m\"\u001b[39m\n\u001b[0;32m     83\u001b[0m             )\n\u001b[0;32m     84\u001b[0m         ]\n\u001b[0;32m     85\u001b[0m     )\n\u001b[0;32m     86\u001b[0m     \u001b[38;5;28;01mreturn\u001b[39;00m \u001b[38;5;28mfloat\u001b[39m(res)\n",
      "File \u001b[1;32mc:\\Users\\andre\\anaconda3\\Lib\\site-packages\\sklearn\\utils\\_param_validation.py:213\u001b[0m, in \u001b[0;36mvalidate_params.<locals>.decorator.<locals>.wrapper\u001b[1;34m(*args, **kwargs)\u001b[0m\n\u001b[0;32m    207\u001b[0m \u001b[38;5;28;01mtry\u001b[39;00m:\n\u001b[0;32m    208\u001b[0m     \u001b[38;5;28;01mwith\u001b[39;00m config_context(\n\u001b[0;32m    209\u001b[0m         skip_parameter_validation\u001b[38;5;241m=\u001b[39m(\n\u001b[0;32m    210\u001b[0m             prefer_skip_nested_validation \u001b[38;5;129;01mor\u001b[39;00m global_skip_validation\n\u001b[0;32m    211\u001b[0m         )\n\u001b[0;32m    212\u001b[0m     ):\n\u001b[1;32m--> 213\u001b[0m         \u001b[38;5;28;01mreturn\u001b[39;00m func(\u001b[38;5;241m*\u001b[39margs, \u001b[38;5;241m*\u001b[39m\u001b[38;5;241m*\u001b[39mkwargs)\n\u001b[0;32m    214\u001b[0m \u001b[38;5;28;01mexcept\u001b[39;00m InvalidParameterError \u001b[38;5;28;01mas\u001b[39;00m e:\n\u001b[0;32m    215\u001b[0m     \u001b[38;5;66;03m# When the function is just a wrapper around an estimator, we allow\u001b[39;00m\n\u001b[0;32m    216\u001b[0m     \u001b[38;5;66;03m# the function to delegate validation to the estimator, but we replace\u001b[39;00m\n\u001b[0;32m    217\u001b[0m     \u001b[38;5;66;03m# the name of the estimator by the name of the function in the error\u001b[39;00m\n\u001b[0;32m    218\u001b[0m     \u001b[38;5;66;03m# message to avoid confusion.\u001b[39;00m\n\u001b[0;32m    219\u001b[0m     msg \u001b[38;5;241m=\u001b[39m re\u001b[38;5;241m.\u001b[39msub(\n\u001b[0;32m    220\u001b[0m         \u001b[38;5;124mr\u001b[39m\u001b[38;5;124m\"\u001b[39m\u001b[38;5;124mparameter of \u001b[39m\u001b[38;5;124m\\\u001b[39m\u001b[38;5;124mw+ must be\u001b[39m\u001b[38;5;124m\"\u001b[39m,\n\u001b[0;32m    221\u001b[0m         \u001b[38;5;124mf\u001b[39m\u001b[38;5;124m\"\u001b[39m\u001b[38;5;124mparameter of \u001b[39m\u001b[38;5;132;01m{\u001b[39;00mfunc\u001b[38;5;241m.\u001b[39m\u001b[38;5;18m__qualname__\u001b[39m\u001b[38;5;132;01m}\u001b[39;00m\u001b[38;5;124m must be\u001b[39m\u001b[38;5;124m\"\u001b[39m,\n\u001b[0;32m    222\u001b[0m         \u001b[38;5;28mstr\u001b[39m(e),\n\u001b[0;32m    223\u001b[0m     )\n",
      "File \u001b[1;32mc:\\Users\\andre\\anaconda3\\Lib\\site-packages\\sklearn\\metrics\\_ranking.py:648\u001b[0m, in \u001b[0;36mroc_auc_score\u001b[1;34m(y_true, y_score, average, sample_weight, max_fpr, multi_class, labels)\u001b[0m\n\u001b[0;32m    640\u001b[0m     \u001b[38;5;28;01mreturn\u001b[39;00m _average_binary_score(\n\u001b[0;32m    641\u001b[0m         partial(_binary_roc_auc_score, max_fpr\u001b[38;5;241m=\u001b[39mmax_fpr),\n\u001b[0;32m    642\u001b[0m         y_true,\n\u001b[1;32m   (...)\u001b[0m\n\u001b[0;32m    645\u001b[0m         sample_weight\u001b[38;5;241m=\u001b[39msample_weight,\n\u001b[0;32m    646\u001b[0m     )\n\u001b[0;32m    647\u001b[0m \u001b[38;5;28;01melse\u001b[39;00m:  \u001b[38;5;66;03m# multilabel-indicator\u001b[39;00m\n\u001b[1;32m--> 648\u001b[0m     \u001b[38;5;28;01mreturn\u001b[39;00m _average_binary_score(\n\u001b[0;32m    649\u001b[0m         partial(_binary_roc_auc_score, max_fpr\u001b[38;5;241m=\u001b[39mmax_fpr),\n\u001b[0;32m    650\u001b[0m         y_true,\n\u001b[0;32m    651\u001b[0m         y_score,\n\u001b[0;32m    652\u001b[0m         average,\n\u001b[0;32m    653\u001b[0m         sample_weight\u001b[38;5;241m=\u001b[39msample_weight,\n\u001b[0;32m    654\u001b[0m     )\n",
      "File \u001b[1;32mc:\\Users\\andre\\anaconda3\\Lib\\site-packages\\sklearn\\metrics\\_base.py:119\u001b[0m, in \u001b[0;36m_average_binary_score\u001b[1;34m(binary_metric, y_true, y_score, average, sample_weight)\u001b[0m\n\u001b[0;32m    117\u001b[0m     y_true_c \u001b[38;5;241m=\u001b[39m y_true\u001b[38;5;241m.\u001b[39mtake([c], axis\u001b[38;5;241m=\u001b[39mnot_average_axis)\u001b[38;5;241m.\u001b[39mravel()\n\u001b[0;32m    118\u001b[0m     y_score_c \u001b[38;5;241m=\u001b[39m y_score\u001b[38;5;241m.\u001b[39mtake([c], axis\u001b[38;5;241m=\u001b[39mnot_average_axis)\u001b[38;5;241m.\u001b[39mravel()\n\u001b[1;32m--> 119\u001b[0m     score[c] \u001b[38;5;241m=\u001b[39m binary_metric(y_true_c, y_score_c, sample_weight\u001b[38;5;241m=\u001b[39mscore_weight)\n\u001b[0;32m    121\u001b[0m \u001b[38;5;66;03m# Average the results\u001b[39;00m\n\u001b[0;32m    122\u001b[0m \u001b[38;5;28;01mif\u001b[39;00m average \u001b[38;5;129;01mis\u001b[39;00m \u001b[38;5;129;01mnot\u001b[39;00m \u001b[38;5;28;01mNone\u001b[39;00m:\n",
      "File \u001b[1;32mc:\\Users\\andre\\anaconda3\\Lib\\site-packages\\sklearn\\metrics\\_ranking.py:382\u001b[0m, in \u001b[0;36m_binary_roc_auc_score\u001b[1;34m(y_true, y_score, sample_weight, max_fpr)\u001b[0m\n\u001b[0;32m    380\u001b[0m \u001b[38;5;250m\u001b[39m\u001b[38;5;124;03m\"\"\"Binary roc auc score.\"\"\"\u001b[39;00m\n\u001b[0;32m    381\u001b[0m \u001b[38;5;28;01mif\u001b[39;00m \u001b[38;5;28mlen\u001b[39m(np\u001b[38;5;241m.\u001b[39munique(y_true)) \u001b[38;5;241m!=\u001b[39m \u001b[38;5;241m2\u001b[39m:\n\u001b[1;32m--> 382\u001b[0m     \u001b[38;5;28;01mraise\u001b[39;00m \u001b[38;5;167;01mValueError\u001b[39;00m(\n\u001b[0;32m    383\u001b[0m         \u001b[38;5;124m\"\u001b[39m\u001b[38;5;124mOnly one class present in y_true. ROC AUC score \u001b[39m\u001b[38;5;124m\"\u001b[39m\n\u001b[0;32m    384\u001b[0m         \u001b[38;5;124m\"\u001b[39m\u001b[38;5;124mis not defined in that case.\u001b[39m\u001b[38;5;124m\"\u001b[39m\n\u001b[0;32m    385\u001b[0m     )\n\u001b[0;32m    387\u001b[0m fpr, tpr, _ \u001b[38;5;241m=\u001b[39m roc_curve(y_true, y_score, sample_weight\u001b[38;5;241m=\u001b[39msample_weight)\n\u001b[0;32m    388\u001b[0m \u001b[38;5;28;01mif\u001b[39;00m max_fpr \u001b[38;5;129;01mis\u001b[39;00m \u001b[38;5;28;01mNone\u001b[39;00m \u001b[38;5;129;01mor\u001b[39;00m max_fpr \u001b[38;5;241m==\u001b[39m \u001b[38;5;241m1\u001b[39m:\n",
      "\u001b[1;31mValueError\u001b[0m: Only one class present in y_true. ROC AUC score is not defined in that case."
     ]
    }
   ],
   "source": [
    "# Evaluate the model\n",
    "BATCH_SIZE_TEST = 2 # Currently onoy supports batch size 1\n",
    "\n",
    "dataset.setup_test_data(dataset_path = DATAPATH, datasplit = DATASET, history_size = HISTORY_SIZE, columns = COLS, fraction = FRACTION, seed = SEED)\n",
    "\n",
    "test_dataloader = NRMSDataLoader(\n",
    "    behaviors=dataset.df_test,\n",
    "    article_dict=article_mapping,\n",
    "    unknown_representation=\"zeros\",\n",
    "    history_column=cs.DEFAULT_HISTORY_ARTICLE_ID_COL,\n",
    "    eval_mode=False, # Is true in EBREC, but then it does not work\n",
    "    batch_size=BATCH_SIZE_TEST,\n",
    ")\n",
    "\n",
    "    \n",
    "    \n",
    "model.eval()\n",
    "\n",
    "test_loss = 0.0\n",
    "pred_test = []\n",
    "labels_test = []\n",
    "with torch.no_grad():\n",
    "    for (inputs, labels) in test_dataloader:\n",
    "        his_input_title, pred_input_title = inputs\n",
    "\n",
    "        his_input_title = his_input_title.to(device)\n",
    "        pred_input_title = pred_input_title.to(device)\n",
    "        labels = labels.to(device)\n",
    "\n",
    "        outputs = model(pred_input_title, his_input_title) # in shape (1, candidate_size)\n",
    "        loss = criterion(outputs, labels)                  # in shape (1, candidate_size)\n",
    "        test_loss += loss.item()\n",
    "\n",
    "        print(outputs.shape)\n",
    "\n",
    "\n",
    "\n",
    "        for i in range(outputs.size(0)):\n",
    "            pred_test.append(outputs[i].tolist())\n",
    "            labels_test.append(labels[i].tolist())\n",
    "\n",
    "        \n",
    "print(pred_test)\n",
    "print(labels_test)\n",
    "\n",
    "from from_ebrec.evaluation import MetricEvaluator\n",
    "from from_ebrec.evaluation import AucScore, MrrScore, NdcgScore\n",
    "metrics = MetricEvaluator(\n",
    "    labels = labels_test,\n",
    "    predictions= pred_test,\n",
    "    metric_functions=[AucScore(), MrrScore(), NdcgScore(k=5), NdcgScore(k=10)],\n",
    ")\n",
    "metrics.evaluate()\n",
    "print(metrics)\n",
    "\n",
    "test_loss /= len(test_dataloader)\n",
    "print(\"Test loss:\", test_loss)"
   ]
  },
  {
   "cell_type": "code",
   "execution_count": 18,
   "metadata": {
    "ExecuteTime": {
     "end_time": "2024-12-02T19:57:39.522290Z",
     "start_time": "2024-12-02T19:57:39.515921Z"
    }
   },
   "outputs": [
    {
     "name": "stdout",
     "output_type": "stream",
     "text": [
      "Top 20 predictions vs labels:\n",
      "Article 0\n",
      "0.102 vs 0.000\n",
      "0.122 vs 0.000\n",
      "0.427 vs 0.000\n",
      "0.284 vs 0.000\n",
      "0.064 vs 1.000\n"
     ]
    },
    {
     "ename": "IndexError",
     "evalue": "list index out of range",
     "output_type": "error",
     "traceback": [
      "\u001b[1;31m---------------------------------------------------------------------------\u001b[0m",
      "\u001b[1;31mIndexError\u001b[0m                                Traceback (most recent call last)",
      "Cell \u001b[1;32mIn[18], line 7\u001b[0m\n\u001b[0;32m      5\u001b[0m \u001b[38;5;28mprint\u001b[39m(\u001b[38;5;124mf\u001b[39m\u001b[38;5;124m\"\u001b[39m\u001b[38;5;124mArticle \u001b[39m\u001b[38;5;132;01m{\u001b[39;00mi\u001b[38;5;132;01m}\u001b[39;00m\u001b[38;5;124m\"\u001b[39m)\n\u001b[0;32m      6\u001b[0m \u001b[38;5;28;01mfor\u001b[39;00m j \u001b[38;5;129;01min\u001b[39;00m \u001b[38;5;28mrange\u001b[39m(\u001b[38;5;28mlen\u001b[39m(pred_test[i])):\n\u001b[1;32m----> 7\u001b[0m     \u001b[38;5;28mprint\u001b[39m(\u001b[38;5;124mf\u001b[39m\u001b[38;5;124m\"\u001b[39m\u001b[38;5;132;01m{\u001b[39;00mpred_test[i][j]\u001b[38;5;132;01m:\u001b[39;00m\u001b[38;5;124m.3f\u001b[39m\u001b[38;5;132;01m}\u001b[39;00m\u001b[38;5;124m vs \u001b[39m\u001b[38;5;132;01m{\u001b[39;00mlabels[i][j]\u001b[38;5;132;01m:\u001b[39;00m\u001b[38;5;124m.3f\u001b[39m\u001b[38;5;132;01m}\u001b[39;00m\u001b[38;5;124m\"\u001b[39m)\n\u001b[0;32m      8\u001b[0m \u001b[38;5;28mprint\u001b[39m(\u001b[38;5;124m\"\u001b[39m\u001b[38;5;124m\"\u001b[39m)\n",
      "\u001b[1;31mIndexError\u001b[0m: list index out of range"
     ]
    }
   ],
   "source": [
    "number_to_print = 20\n",
    "print(\"Top %d predictions vs labels:\" % number_to_print)\n",
    "labels = dataset.df_test[\"labels\"].to_list()\n",
    "for i in range(number_to_print):\n",
    "    print(f\"Article {i}\")\n",
    "    for j in range(len(pred_test[i])):\n",
    "        print(f\"{pred_test[i][j]:.3f} vs {labels[i][j]:.3f}\")\n",
    "    print(\"\")\n",
    "\n",
    "\n",
    "\n"
   ]
  },
  {
   "cell_type": "code",
   "execution_count": 90,
   "metadata": {
    "ExecuteTime": {
     "end_time": "2024-12-02T20:00:03.253083Z",
     "start_time": "2024-12-02T20:00:03.080295Z"
    }
   },
   "outputs": [
    {
     "name": "stdout",
     "output_type": "stream",
     "text": [
      "Confusion Matrix:\n",
      "[[2776   99]\n",
      " [ 233   24]]\n"
     ]
    },
    {
     "data": {
      "image/png": "[encoded data removed]",
      "text/plain": [
       "<Figure size 640x480 with 1 Axes>"
      ]
     },
     "metadata": {},
     "output_type": "display_data"
    }
   ],
   "source": [
    "from sklearn.metrics import confusion_matrix, roc_curve, auc\n",
    "import matplotlib.pyplot as plt\n",
    "\n",
    "\n",
    "# Flatten the data for analysis\n",
    "predicted_probabilities = [prob for article in pred_test for prob in article]\n",
    "true_values = [val for article in labels[:len(pred_test)] for val in article]\n",
    "\n",
    "\n",
    "# Set a threshold (commonly 0.5) to classify probabilities as 0 or 1\n",
    "threshold = 0.5\n",
    "predicted_classes = [1 if p >= threshold else 0 for p in predicted_probabilities]\n",
    "\n",
    "# Calculate confusion matrix\n",
    "conf_matrix = confusion_matrix(true_values, predicted_classes)\n",
    "print(\"Confusion Matrix:\")\n",
    "print(conf_matrix)\n",
    "\n",
    "# Calculate AUC and ROC curve\n",
    "fpr, tpr, thresholds = roc_curve(true_values, predicted_classes)\n",
    "roc_auc = auc(fpr, tpr)\n",
    "\n",
    "# Plot ROC curve with AUC value explicitly highlighted\n",
    "plt.figure()\n",
    "plt.plot(fpr, tpr, color='darkorange', lw=2, label=f'ROC curve (AUC = {roc_auc:.3f})')\n",
    "plt.plot([0, 1], [0, 1], color='navy', lw=2, linestyle='--', label=\"Random Guess\")\n",
    "plt.xlabel('False Positive Rate')\n",
    "plt.ylabel('True Positive Rate')\n",
    "plt.title('Receiver Operating Characteristic (ROC) Curve')\n",
    "plt.legend(loc='lower right')\n",
    "plt.show()"
   ]
  }
 ],
 "metadata": {
  "kernelspec": {
   "display_name": "base",
   "language": "python",
   "name": "python3"
  },
  "language_info": {
   "codemirror_mode": {
    "name": "ipython",
    "version": 3
   },
   "file_extension": ".py",
   "mimetype": "text/x-python",
   "name": "python",
   "nbconvert_exporter": "python",
   "pygments_lexer": "ipython3",
   "version": "3.11.4"
  }
 },
 "nbformat": 4,
 "nbformat_minor": 2
}
