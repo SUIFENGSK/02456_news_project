{
 "cells": [
  {
   "cell_type": "code",
   "metadata": {
    "ExecuteTime": {
     "end_time": "2024-12-02T19:35:00.052795Z",
     "start_time": "2024-12-02T19:35:00.044836Z"
    }
   },
   "source": [
    "BLACKHOLE = True\n",
    "\n",
    "\n",
    "import os\n",
    "import sys\n",
    "from pathlib import Path\n",
    "\n",
    "\n",
    "if BLACKHOLE:\n",
    "    workspace_path = os.path.expandvars('$BLACKHOLE')\n",
    "    sys.path.append(workspace_path+'/DeepLearning/02456_news_project/src')\n",
    "    DATAPATH = Path(workspace_path+\"/DeepLearning/ebnerd_data\").expanduser()\n",
    "else:\n",
    "    DATAPATH = Path(\"~/ebnerd_data\").expanduser()\n",
    "\n",
    "DATASET = \"ebnerd_demo\"\n",
    "#DATASET = \"ebnerd_small\""
   ],
   "outputs": [],
   "execution_count": 1
  },
  {
   "cell_type": "markdown",
   "metadata": {},
   "source": [
    "Packages:\n",
    "- torch (PyTorch)\n",
    "- transformers (Huggingface)"
   ]
  },
  {
   "cell_type": "code",
   "metadata": {
    "ExecuteTime": {
     "end_time": "2024-12-02T19:35:03.923111Z",
     "start_time": "2024-12-02T19:35:02.050814Z"
    }
   },
   "source": [
    "import torch\n",
    "\n",
    "print(\"torch version:\", torch.__version__)\n",
    "\n",
    "# Check gpu availability\n",
    "\n",
    "\n",
    "device = torch.device(\"cuda\" if torch.cuda.is_available() else \"cpu\")\n",
    "print(device)\n",
    "\n",
    "# Test:\n",
    "#print(torch.zeros(1).cuda())"
   ],
   "outputs": [
    {
     "name": "stdout",
     "output_type": "stream",
     "text": [
      "torch version: 2.1.2+cu121\n",
      "cpu\n"
     ]
    }
   ],
   "execution_count": 2
  },
  {
   "cell_type": "markdown",
   "metadata": {},
   "source": [
    "TODO HERFRA OG NED"
   ]
  },
  {
   "cell_type": "code",
   "metadata": {
    "ExecuteTime": {
     "end_time": "2024-12-02T19:35:04.714345Z",
     "start_time": "2024-12-02T19:35:03.927607Z"
    }
   },
   "source": [
    "from utils.data_handler import NewsDataset\n",
    "import from_ebrec._constants as cs\n",
    "\n",
    "SEED = 42\n",
    "HISTORY_SIZE = 50\n",
    "\n",
    "COLS = [\n",
    "    cs.DEFAULT_USER_COL,\n",
    "    cs.DEFAULT_IMPRESSION_ID_COL,\n",
    "    cs.DEFAULT_IMPRESSION_TIMESTAMP_COL,\n",
    "    cs.DEFAULT_HISTORY_ARTICLE_ID_COL,\n",
    "    cs.DEFAULT_CLICKED_ARTICLES_COL,\n",
    "    cs.DEFAULT_INVIEW_ARTICLES_COL,\n",
    "\n",
    "    cs.DEFAULT_ARTICLE_ID_COL,\n",
    "    cs.DEFAULT_AGE_COL,\n",
    "    cs.DEFAULT_READ_TIME_COL\n",
    "]\n",
    "\n",
    "FRACTION = 0.01\n",
    "#FRACTION = 0.1\n",
    "#FRACTION = 1\n",
    "\n",
    "# test\n",
    "dataset = NewsDataset()\n",
    "\n",
    "dataset.setup_df(dataset_path = DATAPATH, datasplit = DATASET, history_size = HISTORY_SIZE, columns = COLS, fraction = FRACTION, seed = SEED)\n"
   ],
   "outputs": [],
   "execution_count": 3
  },
  {
   "cell_type": "code",
   "metadata": {
    "ExecuteTime": {
     "end_time": "2024-12-02T19:36:32.190522Z",
     "start_time": "2024-12-02T19:35:07.517602Z"
    }
   },
   "source": [
    "import transformers as huggingface\n",
    "from from_ebrec._nlp import get_transformers_word_embeddings\n",
    "from from_ebrec._polars import concat_str_columns\n",
    "from from_ebrec._articles import convert_text2encoding_with_transformers\n",
    "from from_ebrec._articles import create_article_id_to_value_mapping\n",
    "\n",
    "dataset.setup_articles_data(dataset_path = DATAPATH.joinpath(DATASET))\n",
    "\n",
    "df_articles = dataset.df_articles\n",
    "\n",
    "TRANSFORMER_MODEL_NAME = \"FacebookAI/xlm-roberta-base\"\n",
    "TEXT_COLUMNS_TO_USE = [cs.DEFAULT_SUBTITLE_COL, cs.DEFAULT_TITLE_COL]\n",
    "MAX_TITLE_LENGTH = 30\n",
    "\n",
    "# LOAD HUGGINGFACE:\n",
    "transformer_model = huggingface.AutoModel.from_pretrained(TRANSFORMER_MODEL_NAME)\n",
    "transformer_tokenizer = huggingface.AutoTokenizer.from_pretrained(TRANSFORMER_MODEL_NAME)\n",
    "\n",
    "word2vec_embedding = get_transformers_word_embeddings(transformer_model)\n",
    "df_articles, cat_cal = concat_str_columns(df_articles, columns=TEXT_COLUMNS_TO_USE)\n",
    "df_articles, token_col_title = convert_text2encoding_with_transformers(df_articles, transformer_tokenizer, cat_cal, max_length=MAX_TITLE_LENGTH)\n",
    "article_mapping = create_article_id_to_value_mapping(df=df_articles, value_col=token_col_title)\n",
    "\n"
   ],
   "outputs": [
    {
     "name": "stderr",
     "output_type": "stream",
     "text": [
      "/dtu/blackhole/0f/168015/DeepLearning/.venv/lib/python3.10/site-packages/tqdm/auto.py:21: TqdmWarning: IProgress not found. Please update jupyter and ipywidgets. See https://ipywidgets.readthedocs.io/en/stable/user_install.html\n",
      "  from .autonotebook import tqdm as notebook_tqdm\n",
      "/dtu/blackhole/0f/168015/DeepLearning/.venv/lib/python3.10/site-packages/huggingface_hub/file_download.py:797: FutureWarning: `resume_download` is deprecated and will be removed in version 1.0.0. Downloads always resume when possible. If you want to force a new download, use `force_download=True`.\n",
      "  warnings.warn(\n"
     ]
    }
   ],
   "execution_count": 4
  },
  {
   "cell_type": "code",
   "metadata": {
    "ExecuteTime": {
     "end_time": "2024-12-02T19:36:35.040325Z",
     "start_time": "2024-12-02T19:36:34.075625Z"
    }
   },
   "source": [
    "from dataloader import NRMSDataLoader\n",
    "\n",
    "BATCH_SIZE = 64\n",
    "\n",
    "train_dataloader = NRMSDataLoader(\n",
    "    behaviors= dataset.df_train,\n",
    "    article_dict=article_mapping,\n",
    "    unknown_representation=\"zeros\",\n",
    "    history_column= cs.DEFAULT_HISTORY_ARTICLE_ID_COL,\n",
    "    eval_mode=False,\n",
    "    batch_size=BATCH_SIZE,\n",
    ")\n",
    "val_dataloader = NRMSDataLoader(\n",
    "    behaviors= dataset.df_validation,\n",
    "    article_dict=article_mapping,\n",
    "    unknown_representation=\"zeros\",\n",
    "    history_column= cs.DEFAULT_HISTORY_ARTICLE_ID_COL,\n",
    "    eval_mode=False,\n",
    "    batch_size=BATCH_SIZE,\n",
    ")\n"
   ],
   "outputs": [],
   "execution_count": 5
  },
  {
   "metadata": {
    "ExecuteTime": {
     "end_time": "2024-12-02T20:03:12.259220Z",
     "start_time": "2024-12-02T20:03:12.256573Z"
    }
   },
   "cell_type": "code",
   "source": [
    "#print(train_dataloader)\n",
    "#print(val_dataloader)"
   ],
   "outputs": [],
   "execution_count": 26
  },
  {
   "cell_type": "code",
   "metadata": {
    "ExecuteTime": {
     "end_time": "2024-12-02T19:37:07.203670Z",
     "start_time": "2024-12-02T19:37:07.189798Z"
    }
   },
   "source": [
    "from nrms import NRMSModel\n",
    "from hyperparameters import hparams_nrms\n",
    "\n",
    "hparams = hparams_nrms()\n",
    "\n",
    "# PARAMETERS\n",
    "hparams.title_size = MAX_TITLE_LENGTH\n",
    "hparams.history_size = HISTORY_SIZE\n",
    "\n",
    "# MODEL ARCHITECTURE\n",
    "hparams.head_num = 20\n",
    "hparams.head_dim = 20\n",
    "hparams.attention_hidden_dim = 200\n",
    "hparams.linear_hidden_dim = 400\n",
    "\n",
    "hparams.use_positional_encoding = True\n",
    "hparams.use_learned_positions = True\n",
    "\n",
    "# MODEL OPTIMIZER:\n",
    "hparams.optimizer = \"adam\"\n",
    "hparams.loss = \"cross_entropy_loss\"\n",
    "hparams.dropout = 0.2\n",
    "hparams.learning_rate = 1e-4\n",
    "\n",
    "model = NRMSModel(hparams=hparams, word2vec_embedding=word2vec_embedding, debug=False)\n",
    "\n",
    "print(model)\n"
   ],
   "outputs": [
    {
     "name": "stdout",
     "output_type": "stream",
     "text": [
      "NRMSModel(\n",
      "  (news_encoder): NewsEncoder(\n",
      "    (embedding): Embedding(250002, 768)\n",
      "    (dropout): Dropout(p=0.2, inplace=False)\n",
      "    (positional_encoder): PositionEncoder(\n",
      "      (position_embeddings): Embedding(30, 768)\n",
      "    )\n",
      "    (self_attention): SelfAttention()\n",
      "    (dense_layers): Sequential(\n",
      "      (0): Linear(in_features=400, out_features=400, bias=True)\n",
      "      (1): ReLU()\n",
      "      (2): LayerNorm((400,), eps=1e-05, elementwise_affine=True)\n",
      "      (3): Dropout(p=0.2, inplace=False)\n",
      "      (4): Linear(in_features=400, out_features=400, bias=True)\n",
      "      (5): ReLU()\n",
      "      (6): LayerNorm((400,), eps=1e-05, elementwise_affine=True)\n",
      "      (7): Dropout(p=0.2, inplace=False)\n",
      "      (8): Linear(in_features=400, out_features=400, bias=True)\n",
      "      (9): ReLU()\n",
      "      (10): LayerNorm((400,), eps=1e-05, elementwise_affine=True)\n",
      "      (11): Dropout(p=0.2, inplace=False)\n",
      "    )\n",
      "    (att_layer): AttLayer2()\n",
      "  )\n",
      "  (user_encoder): UserEncoder(\n",
      "    (title_encoder): NewsEncoder(\n",
      "      (embedding): Embedding(250002, 768)\n",
      "      (dropout): Dropout(p=0.2, inplace=False)\n",
      "      (positional_encoder): PositionEncoder(\n",
      "        (position_embeddings): Embedding(30, 768)\n",
      "      )\n",
      "      (self_attention): SelfAttention()\n",
      "      (dense_layers): Sequential(\n",
      "        (0): Linear(in_features=400, out_features=400, bias=True)\n",
      "        (1): ReLU()\n",
      "        (2): LayerNorm((400,), eps=1e-05, elementwise_affine=True)\n",
      "        (3): Dropout(p=0.2, inplace=False)\n",
      "        (4): Linear(in_features=400, out_features=400, bias=True)\n",
      "        (5): ReLU()\n",
      "        (6): LayerNorm((400,), eps=1e-05, elementwise_affine=True)\n",
      "        (7): Dropout(p=0.2, inplace=False)\n",
      "        (8): Linear(in_features=400, out_features=400, bias=True)\n",
      "        (9): ReLU()\n",
      "        (10): LayerNorm((400,), eps=1e-05, elementwise_affine=True)\n",
      "        (11): Dropout(p=0.2, inplace=False)\n",
      "      )\n",
      "      (att_layer): AttLayer2()\n",
      "    )\n",
      "    (self_attention): SelfAttention()\n",
      "    (att_layer): AttLayer2()\n",
      "  )\n",
      "  (click_predictor): ClickPredictor()\n",
      ")\n"
     ]
    }
   ],
   "execution_count": 8
  },
  {
   "cell_type": "code",
   "metadata": {
    "ExecuteTime": {
     "end_time": "2024-12-02T19:37:12.471614Z",
     "start_time": "2024-12-02T19:37:12.005116Z"
    }
   },
   "source": [
    "import torch.nn as nn\n",
    "import torch.optim as optim\n",
    "\n",
    "# Define the loss function and optimizer\n",
    "if hparams.loss == \"cross_entropy_loss\":\n",
    "    criterion = nn.CrossEntropyLoss() \n",
    "elif hparams.loss == \"mse_loss\":\n",
    "    criterion = nn.MSELoss()\n",
    "else:\n",
    "    raise ValueError(f\"Loss function {hparams.loss} not supported\")\n",
    "\n",
    "if hparams.optimizer == \"adam\":\n",
    "    optimizer = optim.Adam(model.parameters(), lr=hparams_nrms.learning_rate)\n",
    "else:\n",
    "    raise ValueError(f\"Optimizer {hparams.optimizer} not supported\")"
   ],
   "outputs": [],
   "execution_count": 9
  },
  {
   "cell_type": "code",
   "metadata": {
    "ExecuteTime": {
     "end_time": "2024-12-02T19:55:05.405907Z",
     "start_time": "2024-12-02T19:43:30.189951Z"
    }
   },
   "source": [
    "from tqdm import tqdm  # for progress bars\n",
    "# Train the model \n",
    "\n",
    "EPOCHS = 10\n",
    "\n",
    "# Move model to GPU if available\n",
    "model.to(device)\n",
    "\n",
    "# Training loop\n",
    "train_loss_history, val_loss_history = [], []\n",
    "\n",
    "for epoch in range(EPOCHS):\n",
    "    model.train()  # Set the model to training mode\n",
    "    train_loss = 0.0\n",
    "\n",
    "    for batch in tqdm(train_dataloader, desc=f\"Training Epoch {epoch + 1}/{EPOCHS}\"):\n",
    "        # Unpacking of batch\n",
    "        (inputs, labels) = batch\n",
    "        his_input_title, pred_input_title = inputs\n",
    "\n",
    "        # Move data to device\n",
    "        his_input_title = his_input_title.to(device)\n",
    "        pred_input_title = pred_input_title.to(device)\n",
    "\n",
    "        labels = labels.to(device)\n",
    "\n",
    "        # Forward pass\n",
    "        outputs = model(pred_input_title, his_input_title)  \n",
    "        loss = criterion(outputs, labels)\n",
    "\n",
    "        # Backward pass\n",
    "        optimizer.zero_grad()\n",
    "        loss.backward()\n",
    "        optimizer.step()\n",
    "        train_loss += loss.item()\n",
    "\n",
    "    # Validation loop\n",
    "    model.eval()\n",
    "    val_loss = 0.0\n",
    "    with torch.no_grad():\n",
    "        for batch in tqdm(val_dataloader, desc=f\"Validation Epoch {epoch + 1}/{EPOCHS}\"):\n",
    "            (inputs, labels) = batch\n",
    "            his_input_title, pred_input_title = inputs\n",
    "\n",
    "            his_input_title = his_input_title.to(device)\n",
    "            pred_input_title = pred_input_title.to(device)\n",
    "            labels = labels.to(device)\n",
    "\n",
    "            outputs = model(pred_input_title, his_input_title)\n",
    "            loss = criterion(outputs, labels)\n",
    "\n",
    "            #print(\"Output\")\n",
    "            #print(outputs.tolist())\n",
    "            #print(\"Labels\")\n",
    "            #print(labels.tolist())\n",
    "            #print(\"\")   \n",
    "            \n",
    "            val_loss += loss.item()\n",
    "\n",
    "    train_loss /= len(train_dataloader)\n",
    "    val_loss /= len(val_dataloader)\n",
    "    train_loss_history.append(train_loss)\n",
    "    val_loss_history.append(val_loss)\n",
    "\n",
    "    print(f\"Epoch {epoch + 1}/{EPOCHS}: Train Loss = {train_loss:.4f}, Val Loss = {val_loss:.4f}\")\n"
   ],
   "outputs": [
    {
     "name": "stderr",
     "output_type": "stream",
     "text": [
      "Training Epoch 1/10: 100%|██████████| 4/4 [01:46<00:00, 26.65s/it]\n",
      "Validation Epoch 1/10: 100%|██████████| 1/1 [00:00<00:00,  1.21it/s]\n"
     ]
    },
    {
     "name": "stdout",
     "output_type": "stream",
     "text": [
      "Epoch 1/10: Train Loss = 1.6069, Val Loss = 1.6249\n"
     ]
    },
    {
     "name": "stderr",
     "output_type": "stream",
     "text": [
      "Training Epoch 2/10: 100%|██████████| 4/4 [01:08<00:00, 17.17s/it]\n",
      "Validation Epoch 2/10: 100%|██████████| 1/1 [00:00<00:00,  1.21it/s]\n"
     ]
    },
    {
     "name": "stdout",
     "output_type": "stream",
     "text": [
      "Epoch 2/10: Train Loss = 1.5924, Val Loss = 1.6323\n"
     ]
    },
    {
     "name": "stderr",
     "output_type": "stream",
     "text": [
      "Training Epoch 3/10: 100%|██████████| 4/4 [01:05<00:00, 16.29s/it]\n",
      "Validation Epoch 3/10: 100%|██████████| 1/1 [00:00<00:00,  1.21it/s]\n"
     ]
    },
    {
     "name": "stdout",
     "output_type": "stream",
     "text": [
      "Epoch 3/10: Train Loss = 1.5806, Val Loss = 1.6124\n"
     ]
    },
    {
     "name": "stderr",
     "output_type": "stream",
     "text": [
      "Training Epoch 4/10: 100%|██████████| 4/4 [01:04<00:00, 16.13s/it]\n",
      "Validation Epoch 4/10: 100%|██████████| 1/1 [00:00<00:00,  1.26it/s]\n"
     ]
    },
    {
     "name": "stdout",
     "output_type": "stream",
     "text": [
      "Epoch 4/10: Train Loss = 1.5617, Val Loss = 1.5946\n"
     ]
    },
    {
     "name": "stderr",
     "output_type": "stream",
     "text": [
      "Training Epoch 5/10: 100%|██████████| 4/4 [01:04<00:00, 16.06s/it]\n",
      "Validation Epoch 5/10: 100%|██████████| 1/1 [00:00<00:00,  1.23it/s]\n"
     ]
    },
    {
     "name": "stdout",
     "output_type": "stream",
     "text": [
      "Epoch 5/10: Train Loss = 1.5372, Val Loss = 1.5892\n"
     ]
    },
    {
     "name": "stderr",
     "output_type": "stream",
     "text": [
      "Training Epoch 6/10: 100%|██████████| 4/4 [01:03<00:00, 15.95s/it]\n",
      "Validation Epoch 6/10: 100%|██████████| 1/1 [00:00<00:00,  1.26it/s]\n"
     ]
    },
    {
     "name": "stdout",
     "output_type": "stream",
     "text": [
      "Epoch 6/10: Train Loss = 1.5006, Val Loss = 1.5926\n"
     ]
    },
    {
     "name": "stderr",
     "output_type": "stream",
     "text": [
      "Training Epoch 7/10: 100%|██████████| 4/4 [01:03<00:00, 15.89s/it]\n",
      "Validation Epoch 7/10: 100%|██████████| 1/1 [00:00<00:00,  1.25it/s]\n"
     ]
    },
    {
     "name": "stdout",
     "output_type": "stream",
     "text": [
      "Epoch 7/10: Train Loss = 1.5006, Val Loss = 1.5667\n"
     ]
    },
    {
     "name": "stderr",
     "output_type": "stream",
     "text": [
      "Training Epoch 8/10: 100%|██████████| 4/4 [01:03<00:00, 15.92s/it]\n",
      "Validation Epoch 8/10: 100%|██████████| 1/1 [00:00<00:00,  1.23it/s]\n"
     ]
    },
    {
     "name": "stdout",
     "output_type": "stream",
     "text": [
      "Epoch 8/10: Train Loss = 1.4917, Val Loss = 1.5281\n"
     ]
    },
    {
     "name": "stderr",
     "output_type": "stream",
     "text": [
      "Training Epoch 9/10: 100%|██████████| 4/4 [01:03<00:00, 15.87s/it]\n",
      "Validation Epoch 9/10: 100%|██████████| 1/1 [00:00<00:00,  1.24it/s]\n"
     ]
    },
    {
     "name": "stdout",
     "output_type": "stream",
     "text": [
      "Epoch 9/10: Train Loss = 1.4687, Val Loss = 1.5746\n"
     ]
    },
    {
     "name": "stderr",
     "output_type": "stream",
     "text": [
      "Training Epoch 10/10: 100%|██████████| 4/4 [01:03<00:00, 15.83s/it]\n",
      "Validation Epoch 10/10: 100%|██████████| 1/1 [00:00<00:00,  1.24it/s]"
     ]
    },
    {
     "name": "stdout",
     "output_type": "stream",
     "text": [
      "Epoch 10/10: Train Loss = 1.4844, Val Loss = 1.6156\n"
     ]
    },
    {
     "name": "stderr",
     "output_type": "stream",
     "text": [
      "\n"
     ]
    }
   ],
   "execution_count": 13
  },
  {
   "cell_type": "code",
   "metadata": {
    "ExecuteTime": {
     "end_time": "2024-12-02T19:55:34.910285Z",
     "start_time": "2024-12-02T19:55:34.366285Z"
    }
   },
   "source": [
    "# Plot the loss history\n",
    "import matplotlib.pyplot as plt\n",
    "\n",
    "plt.plot(train_loss_history, label=\"Train Loss\")\n",
    "plt.plot(val_loss_history, label=\"Val Loss\")\n",
    "plt.xlabel(\"Epoch\")\n",
    "plt.ylabel(\"Loss\")\n",
    "plt.legend()\n",
    "plt.show()\n"
   ],
   "outputs": [
    {
     "data": {
      "text/plain": [
       "<Figure size 640x480 with 1 Axes>"
      ],
      "image/png": "[encoded data removed]"
     },
     "metadata": {},
     "output_type": "display_data"
    }
   ],
   "execution_count": 14
  },
  {
   "cell_type": "code",
   "metadata": {
    "ExecuteTime": {
     "end_time": "2024-12-02T19:57:36.521266Z",
     "start_time": "2024-12-02T19:57:23.446145Z"
    }
   },
   "source": [
    "# Evaluate the model\n",
    "BATCH_SIZE_TEST = 1 # Currently onoy supports batch size 1\n",
    "\n",
    "dataset.setup_test_data(dataset_path = DATAPATH, datasplit = DATASET, history_size = HISTORY_SIZE, columns = COLS, fraction = FRACTION, seed = SEED)\n",
    "\n",
    "test_dataloader = NRMSDataLoader(\n",
    "    behaviors=dataset.df_test,\n",
    "    article_dict=article_mapping,\n",
    "    unknown_representation=\"zeros\",\n",
    "    history_column=cs.DEFAULT_HISTORY_ARTICLE_ID_COL,\n",
    "    eval_mode=False, # Is true in EBREC, but then it does not work\n",
    "    batch_size=BATCH_SIZE_TEST,\n",
    ")\n",
    "\n",
    "# go from [[a], [b], [c]] to [a, b, c]\n",
    "def convert_to_list(l):\n",
    "    return [(item) for sublist in l for item in sublist]\n",
    "model.eval()\n",
    "\n",
    "pred_test = []\n",
    "with torch.no_grad():\n",
    "    for batch in tqdm(test_dataloader, desc=\"Test\"):\n",
    "        (inputs, labels) = batch\n",
    "        his_input_title, pred_input_title = inputs\n",
    "\n",
    "\n",
    "        his_input_title = his_input_title.to(device)\n",
    "        pred_input_title = pred_input_title.to(device)\n",
    "        labels = labels.to(device)\n",
    "\n",
    "        outputs = model(pred_input_title, his_input_title)\n",
    "\n",
    "        #print(\"Output\")\n",
    "        #print(outputs.tolist())\n",
    "        #print(\"Labels\")\n",
    "        #print(labels.tolist())\n",
    "        bob = convert_to_list(outputs.tolist())\n",
    "        #print(bob)\n",
    "        #print(convert_to_int_list(labels.tolist()))\n",
    "        #print(\"\")\n",
    "\n",
    "\n",
    "        pred_test.append(bob)\n",
    "\n",
    "from from_ebrec.evaluation import MetricEvaluator\n",
    "from from_ebrec.evaluation import AucScore, MrrScore, NdcgScore\n",
    "metrics = MetricEvaluator(\n",
    "    labels= dataset.df_test[\"labels\"].to_list(),\n",
    "    predictions= pred_test,\n",
    "    metric_functions=[AucScore(), MrrScore(), NdcgScore(k=5), NdcgScore(k=10)],\n",
    ")\n",
    "metrics.evaluate()"
   ],
   "outputs": [
    {
     "name": "stderr",
     "output_type": "stream",
     "text": [
      "Test: 100%|██████████| 253/253 [00:12<00:00, 20.61it/s]\n",
      "AUC: 100%|███████████████████████████████████| 253/253 [00:00<00:00, 837.74it/s]\n",
      "AUC: 100%|█████████████████████████████████| 253/253 [00:00<00:00, 38071.21it/s]\n",
      "AUC: 100%|█████████████████████████████████| 253/253 [00:00<00:00, 17883.29it/s]\n",
      "AUC: 100%|█████████████████████████████████| 253/253 [00:00<00:00, 17770.09it/s]\n"
     ]
    },
    {
     "data": {
      "text/plain": [
       "<MetricEvaluator class>: \n",
       " {\n",
       "    \"auc\": 0.5210856883031735,\n",
       "    \"mrr\": 0.31295745322421925,\n",
       "    \"ndcg@5\": 0.35249752866881456,\n",
       "    \"ndcg@10\": 0.42783494394049787\n",
       "}"
      ]
     },
     "execution_count": 21,
     "metadata": {},
     "output_type": "execute_result"
    }
   ],
   "execution_count": 21
  },
  {
   "cell_type": "code",
   "metadata": {
    "ExecuteTime": {
     "end_time": "2024-12-02T19:57:39.522290Z",
     "start_time": "2024-12-02T19:57:39.515921Z"
    }
   },
   "source": [
    "number_to_print = 20\n",
    "print(\"Top %d predictions vs labels:\" % number_to_print)\n",
    "labels = dataset.df_test[\"labels\"].to_list()\n",
    "for i in range(number_to_print):\n",
    "    print(f\"Article {i}\")\n",
    "    for j in range(len(pred_test[i])):\n",
    "        print(f\"{pred_test[i][j]:.3f} vs {labels[i][j]:.3f}\")\n",
    "    print(\"\")\n",
    "\n",
    "\n",
    "\n"
   ],
   "outputs": [
    {
     "name": "stdout",
     "output_type": "stream",
     "text": [
      "Top 20 predictions vs labels:\n",
      "Article 0\n",
      "0.002 vs 0.000\n",
      "0.054 vs 0.000\n",
      "0.071 vs 0.000\n",
      "0.014 vs 0.000\n",
      "0.007 vs 1.000\n",
      "0.024 vs 0.000\n",
      "0.005 vs 0.000\n",
      "0.443 vs 0.000\n",
      "0.186 vs 0.000\n",
      "0.057 vs 0.000\n",
      "0.015 vs 0.000\n",
      "0.083 vs 0.000\n",
      "0.005 vs 0.000\n",
      "0.013 vs 0.000\n",
      "0.001 vs 0.000\n",
      "0.019 vs 0.000\n",
      "0.001 vs 0.000\n",
      "\n",
      "Article 1\n",
      "0.077 vs 0.000\n",
      "0.336 vs 1.000\n",
      "0.326 vs 0.000\n",
      "0.213 vs 0.000\n",
      "0.048 vs 0.000\n",
      "\n",
      "Article 2\n",
      "0.006 vs 1.000\n",
      "0.004 vs 0.000\n",
      "0.451 vs 0.000\n",
      "0.011 vs 0.000\n",
      "0.000 vs 0.000\n",
      "0.529 vs 0.000\n",
      "\n",
      "Article 3\n",
      "0.100 vs 1.000\n",
      "0.218 vs 0.000\n",
      "0.000 vs 0.000\n",
      "0.001 vs 0.000\n",
      "0.000 vs 0.000\n",
      "0.343 vs 0.000\n",
      "0.000 vs 0.000\n",
      "0.001 vs 0.000\n",
      "0.332 vs 0.000\n",
      "0.005 vs 0.000\n",
      "\n",
      "Article 4\n",
      "0.000 vs 0.000\n",
      "0.001 vs 0.000\n",
      "0.225 vs 0.000\n",
      "0.001 vs 0.000\n",
      "0.183 vs 0.000\n",
      "0.154 vs 0.000\n",
      "0.049 vs 0.000\n",
      "0.001 vs 0.000\n",
      "0.021 vs 0.000\n",
      "0.003 vs 0.000\n",
      "0.097 vs 0.000\n",
      "0.002 vs 0.000\n",
      "0.041 vs 0.000\n",
      "0.000 vs 0.000\n",
      "0.005 vs 0.000\n",
      "0.009 vs 0.000\n",
      "0.086 vs 0.000\n",
      "0.060 vs 1.000\n",
      "0.062 vs 0.000\n",
      "0.000 vs 0.000\n",
      "\n",
      "Article 5\n",
      "0.000 vs 0.000\n",
      "0.000 vs 0.000\n",
      "0.059 vs 0.000\n",
      "0.741 vs 0.000\n",
      "0.000 vs 0.000\n",
      "0.000 vs 0.000\n",
      "0.188 vs 1.000\n",
      "0.011 vs 0.000\n",
      "\n",
      "Article 6\n",
      "0.011 vs 0.000\n",
      "0.031 vs 1.000\n",
      "0.001 vs 0.000\n",
      "0.000 vs 0.000\n",
      "0.011 vs 0.000\n",
      "0.239 vs 0.000\n",
      "0.022 vs 0.000\n",
      "0.001 vs 0.000\n",
      "0.021 vs 0.000\n",
      "0.000 vs 0.000\n",
      "0.003 vs 0.000\n",
      "0.002 vs 0.000\n",
      "0.003 vs 0.000\n",
      "0.000 vs 0.000\n",
      "0.000 vs 0.000\n",
      "0.008 vs 0.000\n",
      "0.000 vs 0.000\n",
      "0.011 vs 0.000\n",
      "0.000 vs 0.000\n",
      "0.000 vs 0.000\n",
      "0.005 vs 0.000\n",
      "0.000 vs 0.000\n",
      "0.001 vs 0.000\n",
      "0.018 vs 0.000\n",
      "0.009 vs 0.000\n",
      "0.002 vs 0.000\n",
      "0.034 vs 0.000\n",
      "0.006 vs 0.000\n",
      "0.193 vs 0.000\n",
      "0.001 vs 0.000\n",
      "0.001 vs 0.000\n",
      "0.003 vs 0.000\n",
      "0.029 vs 0.000\n",
      "0.008 vs 0.000\n",
      "0.089 vs 0.000\n",
      "0.005 vs 0.000\n",
      "0.004 vs 0.000\n",
      "0.001 vs 0.000\n",
      "0.021 vs 0.000\n",
      "0.000 vs 0.000\n",
      "0.000 vs 0.000\n",
      "0.039 vs 0.000\n",
      "0.018 vs 0.000\n",
      "0.002 vs 0.000\n",
      "0.002 vs 0.000\n",
      "0.026 vs 0.000\n",
      "0.001 vs 0.000\n",
      "0.002 vs 0.000\n",
      "0.001 vs 0.000\n",
      "0.108 vs 0.000\n",
      "0.002 vs 0.000\n",
      "0.002 vs 0.000\n",
      "0.000 vs 0.000\n",
      "0.002 vs 0.000\n",
      "\n",
      "Article 7\n",
      "0.445 vs 0.000\n",
      "0.089 vs 0.000\n",
      "0.006 vs 0.000\n",
      "0.419 vs 0.000\n",
      "0.000 vs 0.000\n",
      "0.007 vs 1.000\n",
      "0.033 vs 0.000\n",
      "0.001 vs 0.000\n",
      "\n",
      "Article 8\n",
      "0.015 vs 0.000\n",
      "0.161 vs 0.000\n",
      "0.002 vs 0.000\n",
      "0.370 vs 0.000\n",
      "0.001 vs 1.000\n",
      "0.001 vs 0.000\n",
      "0.450 vs 0.000\n",
      "\n",
      "Article 9\n",
      "0.010 vs 0.000\n",
      "0.086 vs 0.000\n",
      "0.005 vs 0.000\n",
      "0.685 vs 0.000\n",
      "0.002 vs 0.000\n",
      "0.022 vs 0.000\n",
      "0.017 vs 0.000\n",
      "0.014 vs 0.000\n",
      "0.014 vs 0.000\n",
      "0.038 vs 0.000\n",
      "0.005 vs 0.000\n",
      "0.037 vs 0.000\n",
      "0.060 vs 1.000\n",
      "0.006 vs 0.000\n",
      "0.000 vs 0.000\n",
      "\n",
      "Article 10\n",
      "0.018 vs 0.000\n",
      "0.200 vs 0.000\n",
      "0.012 vs 0.000\n",
      "0.082 vs 0.000\n",
      "0.168 vs 0.000\n",
      "0.051 vs 0.000\n",
      "0.173 vs 0.000\n",
      "0.000 vs 0.000\n",
      "0.005 vs 0.000\n",
      "0.000 vs 0.000\n",
      "0.290 vs 1.000\n",
      "0.002 vs 0.000\n",
      "\n",
      "Article 11\n",
      "0.002 vs 0.000\n",
      "0.038 vs 0.000\n",
      "0.010 vs 0.000\n",
      "0.034 vs 1.000\n",
      "0.916 vs 0.000\n",
      "\n",
      "Article 12\n",
      "0.056 vs 0.000\n",
      "0.054 vs 0.000\n",
      "0.862 vs 0.000\n",
      "0.014 vs 0.000\n",
      "0.012 vs 1.000\n",
      "0.002 vs 0.000\n",
      "\n",
      "Article 13\n",
      "0.000 vs 0.000\n",
      "0.002 vs 0.000\n",
      "0.000 vs 0.000\n",
      "0.001 vs 0.000\n",
      "0.000 vs 0.000\n",
      "0.001 vs 0.000\n",
      "0.002 vs 0.000\n",
      "0.000 vs 0.000\n",
      "0.169 vs 0.000\n",
      "0.023 vs 0.000\n",
      "0.019 vs 0.000\n",
      "0.003 vs 0.000\n",
      "0.005 vs 0.000\n",
      "0.002 vs 1.000\n",
      "0.001 vs 0.000\n",
      "0.061 vs 0.000\n",
      "0.026 vs 0.000\n",
      "0.014 vs 0.000\n",
      "0.011 vs 0.000\n",
      "0.004 vs 0.000\n",
      "0.018 vs 0.000\n",
      "0.002 vs 0.000\n",
      "0.000 vs 0.000\n",
      "0.305 vs 0.000\n",
      "0.002 vs 0.000\n",
      "0.040 vs 0.000\n",
      "0.000 vs 0.000\n",
      "0.000 vs 0.000\n",
      "0.021 vs 0.000\n",
      "0.008 vs 0.000\n",
      "0.039 vs 0.000\n",
      "0.003 vs 0.000\n",
      "0.000 vs 0.000\n",
      "0.088 vs 0.000\n",
      "0.000 vs 0.000\n",
      "0.003 vs 0.000\n",
      "0.021 vs 0.000\n",
      "0.001 vs 0.000\n",
      "0.009 vs 0.000\n",
      "0.028 vs 0.000\n",
      "0.049 vs 0.000\n",
      "0.008 vs 0.000\n",
      "0.008 vs 0.000\n",
      "0.001 vs 0.000\n",
      "0.000 vs 0.000\n",
      "\n",
      "Article 14\n",
      "0.028 vs 0.000\n",
      "0.009 vs 0.000\n",
      "0.000 vs 0.000\n",
      "0.305 vs 0.000\n",
      "0.057 vs 0.000\n",
      "0.016 vs 0.000\n",
      "0.036 vs 1.000\n",
      "0.117 vs 0.000\n",
      "0.022 vs 0.000\n",
      "0.000 vs 0.000\n",
      "0.001 vs 0.000\n",
      "0.116 vs 0.000\n",
      "0.096 vs 0.000\n",
      "0.197 vs 0.000\n",
      "\n",
      "Article 15\n",
      "0.225 vs 0.000\n",
      "0.119 vs 1.000\n",
      "0.114 vs 0.000\n",
      "0.540 vs 0.000\n",
      "0.002 vs 0.000\n",
      "\n",
      "Article 16\n",
      "0.030 vs 1.000\n",
      "0.000 vs 0.000\n",
      "0.037 vs 0.000\n",
      "0.000 vs 0.000\n",
      "0.029 vs 0.000\n",
      "0.040 vs 0.000\n",
      "0.014 vs 0.000\n",
      "0.005 vs 0.000\n",
      "0.674 vs 0.000\n",
      "0.170 vs 0.000\n",
      "0.001 vs 0.000\n",
      "\n",
      "Article 17\n",
      "0.156 vs 0.000\n",
      "0.481 vs 0.000\n",
      "0.013 vs 0.000\n",
      "0.000 vs 0.000\n",
      "0.295 vs 1.000\n",
      "0.055 vs 0.000\n",
      "\n",
      "Article 18\n",
      "0.003 vs 0.000\n",
      "0.124 vs 0.000\n",
      "0.024 vs 0.000\n",
      "0.206 vs 0.000\n",
      "0.006 vs 0.000\n",
      "0.044 vs 1.000\n",
      "0.593 vs 0.000\n",
      "\n",
      "Article 19\n",
      "0.256 vs 0.000\n",
      "0.152 vs 0.000\n",
      "0.218 vs 0.000\n",
      "0.203 vs 1.000\n",
      "0.169 vs 0.000\n",
      "0.003 vs 0.000\n",
      "\n"
     ]
    }
   ],
   "execution_count": 22
  },
  {
   "metadata": {
    "ExecuteTime": {
     "end_time": "2024-12-02T20:00:03.253083Z",
     "start_time": "2024-12-02T20:00:03.080295Z"
    }
   },
   "cell_type": "code",
   "source": [
    "from sklearn.metrics import confusion_matrix, roc_curve, auc\n",
    "import matplotlib.pyplot as plt\n",
    "\n",
    "\n",
    "# Flatten the data for analysis\n",
    "predicted_probabilities = [prob for article in pred_test for prob in article]\n",
    "true_values = [val for article in labels[:len(pred_test)] for val in article]\n",
    "\n",
    "# Set a threshold (commonly 0.5) to classify probabilities as 0 or 1\n",
    "threshold = 0.5\n",
    "predicted_classes = [1 if p >= threshold else 0 for p in predicted_probabilities]\n",
    "\n",
    "# Calculate confusion matrix\n",
    "conf_matrix = confusion_matrix(true_values, predicted_classes)\n",
    "print(\"Confusion Matrix:\")\n",
    "print(conf_matrix)\n",
    "\n",
    "# Calculate AUC and ROC curve\n",
    "fpr, tpr, thresholds = roc_curve(true_values, predicted_probabilities)\n",
    "roc_auc = auc(fpr, tpr)\n",
    "\n",
    "# Plot ROC curve with AUC value explicitly highlighted\n",
    "plt.figure()\n",
    "plt.plot(fpr, tpr, color='darkorange', lw=2, label=f'ROC curve (AUC = {roc_auc:.3f})')\n",
    "plt.plot([0, 1], [0, 1], color='navy', lw=2, linestyle='--', label=\"Random Guess\")\n",
    "plt.xlabel('False Positive Rate')\n",
    "plt.ylabel('True Positive Rate')\n",
    "plt.title('Receiver Operating Characteristic (ROC) Curve')\n",
    "plt.legend(loc='lower right')\n",
    "plt.show()"
   ],
   "outputs": [
    {
     "name": "stdout",
     "output_type": "stream",
     "text": [
      "Confusion Matrix:\n",
      "[[2956  102]\n",
      " [ 235   18]]\n"
     ]
    },
    {
     "data": {
      "text/plain": [
       "<Figure size 640x480 with 1 Axes>"
      ],
      "image/png": "[encoded data removed]"
     },
     "metadata": {},
     "output_type": "display_data"
    }
   ],
   "execution_count": 25
  }
 ],
 "metadata": {
  "kernelspec": {
   "display_name": "base",
   "language": "python",
   "name": "python3"
  },
  "language_info": {
   "codemirror_mode": {
    "name": "ipython",
    "version": 3
   },
   "file_extension": ".py",
   "mimetype": "text/x-python",
   "name": "python",
   "nbconvert_exporter": "python",
   "pygments_lexer": "ipython3",
   "version": "3.11.4"
  }
 },
 "nbformat": 4,
 "nbformat_minor": 2
}
