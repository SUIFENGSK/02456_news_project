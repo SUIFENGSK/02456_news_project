{
 "cells": [
  {
   "cell_type": "code",
   "execution_count": 1,
   "metadata": {},
   "outputs": [
    {
     "name": "stdout",
     "output_type": "stream",
     "text": [
      "torch version: 2.5.1+cu124\n",
      "cuda\n",
      "tensor([0.], device='cuda:0')\n"
     ]
    }
   ],
   "source": [
    "import torch\n",
    "\n",
    "print(\"torch version:\", torch.__version__)\n",
    "\n",
    "# Check gpu availability\n",
    "\n",
    "\n",
    "device = torch.device(\"cuda\" if torch.cuda.is_available() else \"cpu\")\n",
    "print(device)\n",
    "print(torch.zeros(1).cuda())\n"
   ]
  },
  {
   "cell_type": "code",
   "execution_count": 2,
   "metadata": {},
   "outputs": [
    {
     "name": "stdout",
     "output_type": "stream",
     "text": [
      "NRMSModel(\n",
      "  (word2vec_embedding): Embedding(100, 300)\n",
      "  (dropout): Dropout(p=0.1, inplace=False)\n",
      "  (news_encoder): Sequential(\n",
      "    (0): Embedding(100, 300)\n",
      "    (1): Dropout(p=0.1, inplace=False)\n",
      "    (2): SelfAttention(\n",
      "      (query_layer): Linear(in_features=64, out_features=512, bias=True)\n",
      "      (key_layer): Linear(in_features=64, out_features=512, bias=True)\n",
      "      (value_layer): Linear(in_features=64, out_features=512, bias=True)\n",
      "    )\n",
      "    (3): Dropout(p=0.1, inplace=False)\n",
      "    (4): AttentionLayer2(\n",
      "      (attention_weight): Linear(in_features=512, out_features=1, bias=True)\n",
      "    )\n",
      "  )\n",
      "  (user_encoder): Sequential(\n",
      "    (0): Linear(in_features=20, out_features=512, bias=True)\n",
      "    (1): SelfAttention(\n",
      "      (query_layer): Linear(in_features=64, out_features=512, bias=True)\n",
      "      (key_layer): Linear(in_features=64, out_features=512, bias=True)\n",
      "      (value_layer): Linear(in_features=64, out_features=512, bias=True)\n",
      "    )\n",
      "    (2): AttentionLayer2(\n",
      "      (attention_weight): Linear(in_features=512, out_features=1, bias=True)\n",
      "    )\n",
      "  )\n",
      ")\n"
     ]
    }
   ],
   "source": [
    "# Check if the model can be loaded\n",
    "from nrms import NRMSModel\n",
    "from hyperparameters import HyperParameters\n",
    "\n",
    "# hparams contains the hyperparameters of the model:\n",
    "# They are:\n",
    "# vocab_size: int\n",
    "# word_embedding_dim: int\n",
    "# dropout: float\n",
    "\n",
    "\n",
    "hparams = HyperParameters(\n",
    "    vocab_size=100, \n",
    "    word_embedding_dim=300, \n",
    "    dropout=0.1, \n",
    "    head_num=8,\n",
    "    head_dim=64,\n",
    "    attention_hidden_dim=512,\n",
    "    title_size=20\n",
    ")\n",
    "\n",
    "word2vec_embedding = torch.randn(hparams.vocab_size, hparams.word_embedding_dim)\n",
    "\n",
    "model = NRMSModel(hparams=hparams, word2vec_embedding=word2vec_embedding)\n",
    "\n",
    "print(model)\n",
    "\n",
    "\n"
   ]
  },
  {
   "cell_type": "markdown",
   "metadata": {},
   "source": [
    "TODO HERFRA OG NED"
   ]
  },
  {
   "cell_type": "code",
   "execution_count": null,
   "metadata": {},
   "outputs": [],
   "source": [
    "# Import the dataset\n",
    "from dataset import NewsDataset\n",
    "\n",
    "dataset = NewsDataset(\n",
    "    data_path=\"data/train_data.csv\",\n",
    "    hparams=hparams\n",
    ")\n",
    "\n",
    "print(dataset[0])"
   ]
  },
  {
   "cell_type": "code",
   "execution_count": null,
   "metadata": {},
   "outputs": [],
   "source": [
    "# Use the dataloader to separate the data into batches / validation / test sets\n",
    "from torch.utils.data import DataLoader\n",
    "\n",
    "dataloader = DataLoader(dataset, batch_size=2, shuffle=True)\n",
    "\n",
    "for batch in dataloader:\n",
    "    print(batch)\n",
    "    break\n"
   ]
  },
  {
   "cell_type": "code",
   "execution_count": null,
   "metadata": {},
   "outputs": [],
   "source": [
    "# Train the model\n",
    "\n",
    "from train import train\n",
    "\n",
    "train(\n",
    "    model=model,\n",
    "    dataloader=dataloader,\n",
    "    hparams=hparams,\n",
    "    device=device\n",
    ")\n",
    "\n",
    "# Save the model\n",
    "torch.save(model.state_dict(), \"model.pth\")"
   ]
  }
 ],
 "metadata": {
  "kernelspec": {
   "display_name": "base",
   "language": "python",
   "name": "python3"
  },
  "language_info": {
   "codemirror_mode": {
    "name": "ipython",
    "version": 3
   },
   "file_extension": ".py",
   "mimetype": "text/x-python",
   "name": "python",
   "nbconvert_exporter": "python",
   "pygments_lexer": "ipython3",
   "version": "3.12.7"
  }
 },
 "nbformat": 4,
 "nbformat_minor": 2
}
