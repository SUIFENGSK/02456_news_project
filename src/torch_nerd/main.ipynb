{
 "cells": [
  {
   "cell_type": "code",
   "metadata": {
    "ExecuteTime": {
     "end_time": "2024-11-25T13:26:01.679641Z",
     "start_time": "2024-11-25T13:26:01.671293Z"
    }
   },
   "source": [
    "BLACKHOLE = True\n",
    "\n",
    "\n",
    "import os\n",
    "import sys\n",
    "from pathlib import Path\n",
    "\n",
    "\n",
    "if BLACKHOLE:\n",
    "    workspace_path = os.path.expandvars('$BLACKHOLE')\n",
    "    sys.path.append(workspace_path+'/DeepLearning/02456_news_project/src')\n",
    "    DATAPATH = Path(workspace_path+\"/DeepLearning/ebnerd_data\").expanduser()\n",
    "else:\n",
    "    DATAPATH = Path(\"~/ebnerd_data\").expanduser()\n",
    "\n",
    "DATASET = \"ebnerd_demo\"\n",
    "# DATASET = \"ebnerd_small\""
   ],
   "outputs": [],
   "execution_count": 1
  },
  {
   "cell_type": "code",
   "execution_count": 2,
   "metadata": {},
   "outputs": [
    {
     "name": "stdout",
     "output_type": "stream",
     "text": [
      "torch version: 2.5.1+cu124\n",
      "cuda\n",
      "tensor([0.], device='cuda:0')\n"
     ]
    }
   ],
   "source": [
    "import torch\n",
    "\n",
    "print(\"torch version:\", torch.__version__)\n",
    "\n",
    "# Check gpu availability\n",
    "\n",
    "\n",
    "device = torch.device(\"cuda\" if torch.cuda.is_available() else \"cpu\")\n",
    "print(device)\n",
    "print(torch.zeros(1).cuda())"
   ]
  },
  {
   "cell_type": "code",
   "metadata": {
    "ExecuteTime": {
     "end_time": "2024-11-25T13:22:52.152248Z",
     "start_time": "2024-11-25T13:22:47.443267Z"
    }
   },
   "source": [
    "# Check if the model can be loaded\n",
    "from nrms import NRMSModel\n",
    "from hyperparameters import HyperParameters\n",
    "\n",
    "# hparams contains the hyperparameters of the model:\n",
    "# They are:\n",
    "# vocab_size: int\n",
    "# word_embedding_dim: int\n",
    "# dropout: float\n",
    "\n",
    "\n",
    "hparams = HyperParameters(\n",
    "    vocab_size=100, \n",
    "    word_embedding_dim=300, \n",
    "    dropout=0.1, \n",
    "    head_num=8,\n",
    "    head_dim=64,\n",
    "    attention_hidden_dim=512,\n",
    "    title_size=20\n",
    ")\n",
    "\n",
    "word2vec_embedding = torch.randn(hparams.vocab_size, hparams.word_embedding_dim)\n",
    "\n",
    "model = NRMSModel(hparams=hparams, word2vec_embedding=word2vec_embedding)\n",
    "\n",
    "print(model)\n",
    "\n",
    "\n"
   ],
   "outputs": [
    {
     "name": "stderr",
     "output_type": "stream",
     "text": [
      "\n",
      "KeyboardInterrupt\n",
      "\n"
     ]
    }
   ],
   "execution_count": 8
  },
  {
   "cell_type": "markdown",
   "metadata": {},
   "source": [
    "TODO HERFRA OG NED"
   ]
  },
  {
   "cell_type": "code",
   "metadata": {
    "ExecuteTime": {
     "end_time": "2024-11-25T13:48:59.936309Z",
     "start_time": "2024-11-25T13:48:58.640561Z"
    }
   },
   "source": [
    "\n",
    "from utils.data_handler import NewsDataset\n",
    "from utils.constants import (\n",
    "    DEFAULT_HISTORY_ARTICLE_ID_COL,\n",
    "    DEFAULT_SUBTITLE_COL,\n",
    "    DEFAULT_TITLE_COL,\n",
    "    DEFAULT_USER_COL,\n",
    "    DEFAULT_ARTICLE_ID_COL\n",
    ")\n",
    "\n",
    "# test\n",
    "dataset = NewsDataset(dataset_path=DATAPATH.joinpath(DATASET))\n",
    "\n",
    "#print(dataset.df_history_train.head())\n",
    "\n",
    "#print(dataset.df_behaviors_train.head())\n",
    "\n",
    "#print(dataset.extract_history_train_data([DEFAULT_USER_COL, DEFAULT_HISTORY_ARTICLE_ID_COL]))\n",
    "#print(dataset.extract_articles_data([DEFAULT_ARTICLE_ID_COL,DEFAULT_TITLE_COL,DEFAULT_SUBTITLE_COL]))\n",
    "print(dataset.get_article_info_by_id(\"9742305\"))"
   ],
   "outputs": [
    {
     "name": "stdout",
     "output_type": "stream",
     "text": [
      "[{'article_id': 9742305, 'title': 'Danmark smadrer Sverige 37-31', 'subtitle': 'Angrebsspillet flød i første halvleg, da Danmarks håndboldlandshold lørdag besejrede Sverige i en testkamp', 'last_modified_time': Timestamp('2023-06-29 06:48:26'), 'premium': False, 'body': 'De danske håndboldverdensmestre blæste Sverige af banen og viste storform i første halvleg af lørdagens testkamp, men et svensk comeback efter pausen truede med at vende det hele på hovedet.\\nPå hjemmebane i Herning vandt Danmark dog i sidste ende testkampen sikkert med 37-31 og sluttede dermed som etter i træningsturneringen EHF Euro Cup.\\nDanskerne har indimellem haft problemer med det svenske forsvar, men det var langtfra tilfældet i første halvdel af lørdagens kamp.\\nRasmus Lauge styrede den danske offensiv, som uden problemer spillede sig til den ene store chance efter den anden.\\nVeszprém-spilleren var skarp, når han selv tog chancen, og hans høje niveau skabte også plads til holdkammeraterne, som han elegant fandt.\\nFørste halvleg foregik i et hæsblæsende tempo, og de i alt 40 mål vidnede om en halv time, hvor spillerne sjældent fik en pause til at trække vejret.\\nDet hjalp også på måltotalen, at Emil Nielsen og hans svenske kollega Tobias Thulin ikke fik fat i det store i de to bure.\\nDet spektakulære højdepunkt kom, da Mathias Gidsel brød igennem i venstre side og med venstre hånd skruede bolden uden om målmanden.\\nPauseføringen lød på 23-17, og måske havde festfyrværkeriet tæret lidt for meget på de danske kræfter.\\nI hvert fald havde de danske skytter langt sværere ved at få bolden forbi Thulin i anden halvleg, og de første ti minutter bød kun på to danske scoringer.\\nSvenskerne kom nærmere og åndede Danmark i nakken, da Aalborg-spilleren Felix Claar reducerede til 24-25.\\nFlere gange lugtede det af en udligning, men så begyndte indskiftede Niklas Landin at tage fat. En stribe redninger var igen med til at opbygge føringen.\\nMed otte minutter igen var forspringet på fire mål, og denne gang havde svenskerne ikke energien til at stable et comeback på benene.\\nTværtimod begyndte det igen at hagle ind med danske mål, og før kampen var forbi, var føringen tilbage på pauseniveau.', 'published_time': Timestamp('2023-04-29 15:42:41'), 'image_ids': array([9742315]), 'article_type': 'article_default', 'url': 'https://ekstrabladet.dk/sport/haandbold/danmark-smadrer-sverige-37-31/9742305', 'ner_clusters': array(['Aalborg', 'Danskerne', 'EHF Euro Cup', 'Emil Nielsen',\n",
      "       'Felix Claar', 'Herning', 'Mathias Gidsel', 'Niklas Landin',\n",
      "       'Rasmus Lauge', 'svenskerne', 'Svenskerne', 'Tobias Thulin'],\n",
      "      dtype=object), 'entity_groups': array(['LOC', 'MISC', 'EVENT', 'PER', 'PER', 'LOC', 'PER', 'PER', 'PER',\n",
      "       'MISC', 'MISC', 'PER'], dtype=object), 'topics': array(['Begivenhed', 'Sport', 'Sportsbegivenhed', 'Håndbold'],\n",
      "      dtype=object), 'category': 142, 'subcategory': array([316], dtype=int16), 'category_str': 'sport', 'total_inviews': 220272, 'total_pageviews': 27959, 'total_read_time': 1922504.0, 'sentiment_score': 0.8252000212669373, 'sentiment_label': 'Positive'}]\n"
     ]
    }
   ],
   "execution_count": 3
  },
  {
   "cell_type": "code",
   "execution_count": 11,
   "metadata": {},
   "outputs": [
    {
     "ename": "TypeError",
     "evalue": "object of type 'NewsDataset' has no len()",
     "output_type": "error",
     "traceback": [
      "\u001B[1;31m---------------------------------------------------------------------------\u001B[0m",
      "\u001B[1;31mTypeError\u001B[0m                                 Traceback (most recent call last)",
      "Cell \u001B[1;32mIn[11], line 4\u001B[0m\n\u001B[0;32m      1\u001B[0m \u001B[38;5;66;03m# Use the dataloader to separate the data into batches / validation / test sets\u001B[39;00m\n\u001B[0;32m      2\u001B[0m \u001B[38;5;28;01mfrom\u001B[39;00m \u001B[38;5;21;01mtorch\u001B[39;00m\u001B[38;5;21;01m.\u001B[39;00m\u001B[38;5;21;01mutils\u001B[39;00m\u001B[38;5;21;01m.\u001B[39;00m\u001B[38;5;21;01mdata\u001B[39;00m \u001B[38;5;28;01mimport\u001B[39;00m DataLoader\n\u001B[1;32m----> 4\u001B[0m dataloader \u001B[38;5;241m=\u001B[39m DataLoader(dataset, batch_size\u001B[38;5;241m=\u001B[39m\u001B[38;5;241m2\u001B[39m, shuffle\u001B[38;5;241m=\u001B[39m\u001B[38;5;28;01mTrue\u001B[39;00m)\n\u001B[0;32m      6\u001B[0m \u001B[38;5;28;01mfor\u001B[39;00m batch \u001B[38;5;129;01min\u001B[39;00m dataloader:\n\u001B[0;32m      7\u001B[0m     \u001B[38;5;28mprint\u001B[39m(batch)\n",
      "File \u001B[1;32mc:\\Users\\andre\\anaconda3\\Lib\\site-packages\\torch\\utils\\data\\dataloader.py:376\u001B[0m, in \u001B[0;36mDataLoader.__init__\u001B[1;34m(self, dataset, batch_size, shuffle, sampler, batch_sampler, num_workers, collate_fn, pin_memory, drop_last, timeout, worker_init_fn, multiprocessing_context, generator, prefetch_factor, persistent_workers, pin_memory_device)\u001B[0m\n\u001B[0;32m    374\u001B[0m \u001B[38;5;28;01melse\u001B[39;00m:  \u001B[38;5;66;03m# map-style\u001B[39;00m\n\u001B[0;32m    375\u001B[0m     \u001B[38;5;28;01mif\u001B[39;00m shuffle:\n\u001B[1;32m--> 376\u001B[0m         sampler \u001B[38;5;241m=\u001B[39m RandomSampler(dataset, generator\u001B[38;5;241m=\u001B[39mgenerator)  \u001B[38;5;66;03m# type: ignore[arg-type]\u001B[39;00m\n\u001B[0;32m    377\u001B[0m     \u001B[38;5;28;01melse\u001B[39;00m:\n\u001B[0;32m    378\u001B[0m         sampler \u001B[38;5;241m=\u001B[39m SequentialSampler(dataset)  \u001B[38;5;66;03m# type: ignore[arg-type]\u001B[39;00m\n",
      "File \u001B[1;32mc:\\Users\\andre\\anaconda3\\Lib\\site-packages\\torch\\utils\\data\\sampler.py:163\u001B[0m, in \u001B[0;36mRandomSampler.__init__\u001B[1;34m(self, data_source, replacement, num_samples, generator)\u001B[0m\n\u001B[0;32m    158\u001B[0m \u001B[38;5;28;01mif\u001B[39;00m \u001B[38;5;129;01mnot\u001B[39;00m \u001B[38;5;28misinstance\u001B[39m(\u001B[38;5;28mself\u001B[39m\u001B[38;5;241m.\u001B[39mreplacement, \u001B[38;5;28mbool\u001B[39m):\n\u001B[0;32m    159\u001B[0m     \u001B[38;5;28;01mraise\u001B[39;00m \u001B[38;5;167;01mTypeError\u001B[39;00m(\n\u001B[0;32m    160\u001B[0m         \u001B[38;5;124mf\u001B[39m\u001B[38;5;124m\"\u001B[39m\u001B[38;5;124mreplacement should be a boolean value, but got replacement=\u001B[39m\u001B[38;5;132;01m{\u001B[39;00m\u001B[38;5;28mself\u001B[39m\u001B[38;5;241m.\u001B[39mreplacement\u001B[38;5;132;01m}\u001B[39;00m\u001B[38;5;124m\"\u001B[39m\n\u001B[0;32m    161\u001B[0m     )\n\u001B[1;32m--> 163\u001B[0m \u001B[38;5;28;01mif\u001B[39;00m \u001B[38;5;129;01mnot\u001B[39;00m \u001B[38;5;28misinstance\u001B[39m(\u001B[38;5;28mself\u001B[39m\u001B[38;5;241m.\u001B[39mnum_samples, \u001B[38;5;28mint\u001B[39m) \u001B[38;5;129;01mor\u001B[39;00m \u001B[38;5;28mself\u001B[39m\u001B[38;5;241m.\u001B[39mnum_samples \u001B[38;5;241m<\u001B[39m\u001B[38;5;241m=\u001B[39m \u001B[38;5;241m0\u001B[39m:\n\u001B[0;32m    164\u001B[0m     \u001B[38;5;28;01mraise\u001B[39;00m \u001B[38;5;167;01mValueError\u001B[39;00m(\n\u001B[0;32m    165\u001B[0m         \u001B[38;5;124mf\u001B[39m\u001B[38;5;124m\"\u001B[39m\u001B[38;5;124mnum_samples should be a positive integer value, but got num_samples=\u001B[39m\u001B[38;5;132;01m{\u001B[39;00m\u001B[38;5;28mself\u001B[39m\u001B[38;5;241m.\u001B[39mnum_samples\u001B[38;5;132;01m}\u001B[39;00m\u001B[38;5;124m\"\u001B[39m\n\u001B[0;32m    166\u001B[0m     )\n",
      "File \u001B[1;32mc:\\Users\\andre\\anaconda3\\Lib\\site-packages\\torch\\utils\\data\\sampler.py:172\u001B[0m, in \u001B[0;36mRandomSampler.num_samples\u001B[1;34m(self)\u001B[0m\n\u001B[0;32m    168\u001B[0m \u001B[38;5;129m@property\u001B[39m\n\u001B[0;32m    169\u001B[0m \u001B[38;5;28;01mdef\u001B[39;00m \u001B[38;5;21mnum_samples\u001B[39m(\u001B[38;5;28mself\u001B[39m) \u001B[38;5;241m-\u001B[39m\u001B[38;5;241m>\u001B[39m \u001B[38;5;28mint\u001B[39m:\n\u001B[0;32m    170\u001B[0m     \u001B[38;5;66;03m# dataset size might change at runtime\u001B[39;00m\n\u001B[0;32m    171\u001B[0m     \u001B[38;5;28;01mif\u001B[39;00m \u001B[38;5;28mself\u001B[39m\u001B[38;5;241m.\u001B[39m_num_samples \u001B[38;5;129;01mis\u001B[39;00m \u001B[38;5;28;01mNone\u001B[39;00m:\n\u001B[1;32m--> 172\u001B[0m         \u001B[38;5;28;01mreturn\u001B[39;00m \u001B[38;5;28mlen\u001B[39m(\u001B[38;5;28mself\u001B[39m\u001B[38;5;241m.\u001B[39mdata_source)\n\u001B[0;32m    173\u001B[0m     \u001B[38;5;28;01mreturn\u001B[39;00m \u001B[38;5;28mself\u001B[39m\u001B[38;5;241m.\u001B[39m_num_samples\n",
      "\u001B[1;31mTypeError\u001B[0m: object of type 'NewsDataset' has no len()"
     ]
    }
   ],
   "source": [
    "# Use the dataloader to separate the data into batches / validation / test sets\n",
    "from torch.utils.data import DataLoader\n",
    "\n",
    "dataloader = DataLoader(dataset, batch_size=2, shuffle=True)\n",
    "\n",
    "for batch in dataloader:\n",
    "    print(batch)\n",
    "    break\n"
   ]
  },
  {
   "cell_type": "code",
   "execution_count": null,
   "metadata": {},
   "outputs": [],
   "source": [
    "# Train the model\n",
    "\n",
    "from train import train\n",
    "\n",
    "train(\n",
    "    model=model,\n",
    "    dataloader=dataloader,\n",
    "    hparams=hparams,\n",
    "    device=device\n",
    ")\n",
    "\n",
    "# Save the model\n",
    "torch.save(model.state_dict(), \"model.pth\")"
   ]
  }
 ],
 "metadata": {
  "kernelspec": {
   "display_name": "base",
   "language": "python",
   "name": "python3"
  },
  "language_info": {
   "codemirror_mode": {
    "name": "ipython",
    "version": 3
   },
   "file_extension": ".py",
   "mimetype": "text/x-python",
   "name": "python",
   "nbconvert_exporter": "python",
   "pygments_lexer": "ipython3",
   "version": "3.12.7"
  }
 },
 "nbformat": 4,
 "nbformat_minor": 2
}
