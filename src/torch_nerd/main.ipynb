{
 "cells": [
  {
   "cell_type": "code",
   "execution_count": 73,
   "metadata": {
    "ExecuteTime": {
     "end_time": "2024-11-26T15:44:55.163271Z",
     "start_time": "2024-11-26T15:44:55.156612Z"
    }
   },
   "outputs": [],
   "source": [
    "BLACKHOLE = False\n",
    "\n",
    "\n",
    "import os\n",
    "import sys\n",
    "from pathlib import Path\n",
    "\n",
    "\n",
    "if BLACKHOLE:\n",
    "    workspace_path = os.path.expandvars('$BLACKHOLE')\n",
    "    sys.path.append(workspace_path+'/DeepLearning/02456_news_project/src')\n",
    "    DATAPATH = Path(workspace_path+\"/DeepLearning/ebnerd_data\").expanduser()\n",
    "else:\n",
    "    DATAPATH = Path(\"~/ebnerd_data\").expanduser()\n",
    "\n",
    "DATASET = \"ebnerd_demo\"\n",
    "#DATASET = \"ebnerd_small\""
   ]
  },
  {
   "cell_type": "markdown",
   "metadata": {},
   "source": [
    "Packages:\n",
    "- torch (PyTorch)\n",
    "- transformers (Huggingface)"
   ]
  },
  {
   "cell_type": "code",
   "execution_count": 74,
   "metadata": {
    "ExecuteTime": {
     "end_time": "2024-11-26T15:44:57.023989Z",
     "start_time": "2024-11-26T15:44:55.199937Z"
    }
   },
   "outputs": [
    {
     "name": "stdout",
     "output_type": "stream",
     "text": [
      "torch version: 2.5.1+cu124\n",
      "cuda\n"
     ]
    }
   ],
   "source": [
    "import torch\n",
    "\n",
    "print(\"torch version:\", torch.__version__)\n",
    "\n",
    "# Check gpu availability\n",
    "\n",
    "\n",
    "device = torch.device(\"cuda\" if torch.cuda.is_available() else \"cpu\")\n",
    "print(device)\n",
    "\n",
    "# Test:\n",
    "#print(torch.zeros(1).cuda())"
   ]
  },
  {
   "cell_type": "markdown",
   "metadata": {},
   "source": [
    "TODO HERFRA OG NED"
   ]
  },
  {
   "cell_type": "code",
   "execution_count": null,
   "metadata": {
    "ExecuteTime": {
     "end_time": "2024-11-26T15:44:58.872251Z",
     "start_time": "2024-11-26T15:44:57.320707Z"
    }
   },
   "outputs": [],
   "source": [
    "from utils.data_handler import NewsDataset\n",
    "import from_ebrec._constants as cs\n",
    "\n",
    "SEED = 42\n",
    "HISTORY_SIZE = 50\n",
    "\n",
    "COLS = [\n",
    "    cs.DEFAULT_USER_COL,\n",
    "    cs.DEFAULT_IMPRESSION_ID_COL,\n",
    "    cs.DEFAULT_IMPRESSION_TIMESTAMP_COL,\n",
    "    cs.DEFAULT_HISTORY_ARTICLE_ID_COL,\n",
    "    cs.DEFAULT_CLICKED_ARTICLES_COL,\n",
    "    cs.DEFAULT_INVIEW_ARTICLES_COL,\n",
    "\n",
    "    cs.DEFAULT_ARTICLE_ID_COL,\n",
    "    cs.DEFAULT_AGE_COL,\n",
    "    cs.DEFAULT_READ_TIME_COL\n",
    "]\n",
    "\n",
    "FRACTION = 0.01\n",
    "#FRACTION = 0.1\n",
    "#FRACTION = 1\n",
    "\n",
    "# test\n",
    "dataset = NewsDataset()\n",
    "\n",
    "dataset.setup_df(dataset_path = DATAPATH, datasplit = DATASET, history_size = HISTORY_SIZE, columns = COLS, fraction = FRACTION, seed = SEED)\n"
   ]
  },
  {
   "cell_type": "code",
   "execution_count": 76,
   "metadata": {
    "ExecuteTime": {
     "end_time": "2024-11-26T15:46:22.041682Z",
     "start_time": "2024-11-26T15:44:58.879540Z"
    }
   },
   "outputs": [],
   "source": [
    "import transformers as huggingface\n",
    "from from_ebrec._nlp import get_transformers_word_embeddings\n",
    "from from_ebrec._polars import concat_str_columns\n",
    "from from_ebrec._articles import convert_text2encoding_with_transformers\n",
    "from from_ebrec._articles import create_article_id_to_value_mapping\n",
    "\n",
    "dataset.setup_articles_data(dataset_path = DATAPATH.joinpath(DATASET))\n",
    "\n",
    "df_articles = dataset.df_articles\n",
    "\n",
    "TRANSFORMER_MODEL_NAME = \"FacebookAI/xlm-roberta-base\"\n",
    "TEXT_COLUMNS_TO_USE = [cs.DEFAULT_SUBTITLE_COL, cs.DEFAULT_TITLE_COL]\n",
    "MAX_TITLE_LENGTH = 30\n",
    "\n",
    "# LOAD HUGGINGFACE:\n",
    "transformer_model = huggingface.AutoModel.from_pretrained(TRANSFORMER_MODEL_NAME)\n",
    "transformer_tokenizer = huggingface.AutoTokenizer.from_pretrained(TRANSFORMER_MODEL_NAME)\n",
    "\n",
    "word2vec_embedding = get_transformers_word_embeddings(transformer_model)\n",
    "df_articles, cat_cal = concat_str_columns(df_articles, columns=TEXT_COLUMNS_TO_USE)\n",
    "df_articles, token_col_title = convert_text2encoding_with_transformers(df_articles, transformer_tokenizer, cat_cal, max_length=MAX_TITLE_LENGTH)\n",
    "article_mapping = create_article_id_to_value_mapping(df=df_articles, value_col=token_col_title)\n",
    "\n"
   ]
  },
  {
   "cell_type": "code",
   "execution_count": 77,
   "metadata": {
    "ExecuteTime": {
     "end_time": "2024-11-26T15:46:23.199672Z",
     "start_time": "2024-11-26T15:46:22.157420Z"
    }
   },
   "outputs": [],
   "source": [
    "from dataloader import NRMSDataLoader\n",
    "\n",
    "BATCH_SIZE = 64\n",
    "\n",
    "train_dataloader = NRMSDataLoader(\n",
    "    behaviors= dataset.df_train,\n",
    "    article_dict=article_mapping,\n",
    "    unknown_representation=\"zeros\",\n",
    "    history_column= cs.DEFAULT_HISTORY_ARTICLE_ID_COL,\n",
    "    eval_mode=False,\n",
    "    batch_size=BATCH_SIZE,\n",
    ")\n",
    "val_dataloader = NRMSDataLoader(\n",
    "    behaviors= dataset.df_validation,\n",
    "    article_dict=article_mapping,\n",
    "    unknown_representation=\"zeros\",\n",
    "    history_column= cs.DEFAULT_HISTORY_ARTICLE_ID_COL,\n",
    "    eval_mode=False,\n",
    "    batch_size=BATCH_SIZE,\n",
    ")\n"
   ]
  },
  {
   "cell_type": "code",
   "execution_count": null,
   "metadata": {
    "ExecuteTime": {
     "end_time": "2024-11-26T15:46:23.213734Z",
     "start_time": "2024-11-26T15:46:23.204321Z"
    }
   },
   "outputs": [
    {
     "name": "stdout",
     "output_type": "stream",
     "text": [
      "NRMSModel(\n",
      "  (news_encoder): NewsEncoder(\n",
      "    (embedding): Embedding(250002, 768)\n",
      "    (dropout): Dropout(p=0.2, inplace=False)\n",
      "    (positional_encoder): NewsEncoderWithPosition(\n",
      "      (position_embeddings): Embedding(30, 768)\n",
      "    )\n",
      "    (self_attention): SelfAttention()\n",
      "    (dense_layers): Sequential(\n",
      "      (0): Linear(in_features=400, out_features=400, bias=True)\n",
      "      (1): ReLU()\n",
      "      (2): LayerNorm((400,), eps=1e-05, elementwise_affine=True)\n",
      "      (3): Dropout(p=0.2, inplace=False)\n",
      "      (4): Linear(in_features=400, out_features=400, bias=True)\n",
      "      (5): ReLU()\n",
      "      (6): LayerNorm((400,), eps=1e-05, elementwise_affine=True)\n",
      "      (7): Dropout(p=0.2, inplace=False)\n",
      "      (8): Linear(in_features=400, out_features=400, bias=True)\n",
      "      (9): ReLU()\n",
      "      (10): LayerNorm((400,), eps=1e-05, elementwise_affine=True)\n",
      "      (11): Dropout(p=0.2, inplace=False)\n",
      "    )\n",
      "    (att_layer): AttLayer2()\n",
      "  )\n",
      "  (user_encoder): UserEncoder(\n",
      "    (title_encoder): NewsEncoder(\n",
      "      (embedding): Embedding(250002, 768)\n",
      "      (dropout): Dropout(p=0.2, inplace=False)\n",
      "      (positional_encoder): NewsEncoderWithPosition(\n",
      "        (position_embeddings): Embedding(30, 768)\n",
      "      )\n",
      "      (self_attention): SelfAttention()\n",
      "      (dense_layers): Sequential(\n",
      "        (0): Linear(in_features=400, out_features=400, bias=True)\n",
      "        (1): ReLU()\n",
      "        (2): LayerNorm((400,), eps=1e-05, elementwise_affine=True)\n",
      "        (3): Dropout(p=0.2, inplace=False)\n",
      "        (4): Linear(in_features=400, out_features=400, bias=True)\n",
      "        (5): ReLU()\n",
      "        (6): LayerNorm((400,), eps=1e-05, elementwise_affine=True)\n",
      "        (7): Dropout(p=0.2, inplace=False)\n",
      "        (8): Linear(in_features=400, out_features=400, bias=True)\n",
      "        (9): ReLU()\n",
      "        (10): LayerNorm((400,), eps=1e-05, elementwise_affine=True)\n",
      "        (11): Dropout(p=0.2, inplace=False)\n",
      "      )\n",
      "      (att_layer): AttLayer2()\n",
      "    )\n",
      "    (self_attention): SelfAttention()\n",
      "    (att_layer): AttLayer2()\n",
      "  )\n",
      "  (click_predictor): ClickPredictor()\n",
      ")\n"
     ]
    }
   ],
   "source": [
    "from nrms import NRMSModel\n",
    "from hyperparameters import hparams_nrms\n",
    "\n",
    "hparams = hparams_nrms()\n",
    "\n",
    "# PARAMETERS\n",
    "hparams.title_size = MAX_TITLE_LENGTH\n",
    "hparams.history_size = HISTORY_SIZE\n",
    "\n",
    "# MODEL ARCHITECTURE\n",
    "hparams.head_num = 20\n",
    "hparams.head_dim = 20\n",
    "hparams.attention_hidden_dim = 200\n",
    "hparams.linear_hidden_dim = 400\n",
    "\n",
    "hparams.use_positional_encoding = True\n",
    "hparams.use_learned_positions = True\n",
    "\n",
    "# MODEL OPTIMIZER:\n",
    "hparams.optimizer = \"adam\"\n",
    "hparams.loss = \"cross_entropy_loss\"\n",
    "hparams.dropout = 0.2\n",
    "hparams.learning_rate = 1e-4\n",
    "\n",
    "model = NRMSModel(hparams=hparams, word2vec_embedding=word2vec_embedding, debug=False)\n",
    "\n",
    "print(model)\n"
   ]
  },
  {
   "cell_type": "code",
   "execution_count": 79,
   "metadata": {},
   "outputs": [],
   "source": [
    "import torch.nn as nn\n",
    "import torch.optim as optim\n",
    "\n",
    "# Define the loss function and optimizer\n",
    "if hparams.loss == \"cross_entropy_loss\":\n",
    "    criterion = nn.CrossEntropyLoss() \n",
    "elif hparams.loss == \"mse_loss\":\n",
    "    criterion = nn.MSELoss()\n",
    "else:\n",
    "    raise ValueError(f\"Loss function {hparams.loss} not supported\")\n",
    "\n",
    "if hparams.optimizer == \"adam\":\n",
    "    optimizer = optim.Adam(model.parameters(), lr=hparams_nrms.learning_rate)\n",
    "else:\n",
    "    raise ValueError(f\"Optimizer {hparams.optimizer} not supported\")"
   ]
  },
  {
   "cell_type": "code",
   "execution_count": 80,
   "metadata": {
    "ExecuteTime": {
     "end_time": "2024-11-26T15:46:46.847661Z",
     "start_time": "2024-11-26T15:46:46.725881Z"
    }
   },
   "outputs": [
    {
     "name": "stderr",
     "output_type": "stream",
     "text": [
      "Training Epoch 1/10: 100%|██████████| 34/34 [00:13<00:00,  2.52it/s]\n",
      "Validation Epoch 1/10: 100%|██████████| 6/6 [00:00<00:00, 17.76it/s]\n"
     ]
    },
    {
     "name": "stdout",
     "output_type": "stream",
     "text": [
      "Epoch 1/10: Train Loss = 1.6569, Val Loss = 1.5950\n"
     ]
    },
    {
     "name": "stderr",
     "output_type": "stream",
     "text": [
      "Training Epoch 2/10: 100%|██████████| 34/34 [00:13<00:00,  2.59it/s]\n",
      "Validation Epoch 2/10: 100%|██████████| 6/6 [00:00<00:00, 16.04it/s]\n"
     ]
    },
    {
     "name": "stdout",
     "output_type": "stream",
     "text": [
      "Epoch 2/10: Train Loss = 1.6500, Val Loss = 1.5950\n"
     ]
    },
    {
     "name": "stderr",
     "output_type": "stream",
     "text": [
      "Training Epoch 3/10: 100%|██████████| 34/34 [00:13<00:00,  2.55it/s]\n",
      "Validation Epoch 3/10: 100%|██████████| 6/6 [00:00<00:00, 16.04it/s]\n"
     ]
    },
    {
     "name": "stdout",
     "output_type": "stream",
     "text": [
      "Epoch 3/10: Train Loss = 1.6503, Val Loss = 1.6088\n"
     ]
    },
    {
     "name": "stderr",
     "output_type": "stream",
     "text": [
      "Training Epoch 4/10: 100%|██████████| 34/34 [00:13<00:00,  2.53it/s]\n",
      "Validation Epoch 4/10: 100%|██████████| 6/6 [00:00<00:00, 18.75it/s]\n"
     ]
    },
    {
     "name": "stdout",
     "output_type": "stream",
     "text": [
      "Epoch 4/10: Train Loss = 1.6509, Val Loss = 1.6270\n"
     ]
    },
    {
     "name": "stderr",
     "output_type": "stream",
     "text": [
      "Training Epoch 5/10: 100%|██████████| 34/34 [00:13<00:00,  2.55it/s]\n",
      "Validation Epoch 5/10: 100%|██████████| 6/6 [00:00<00:00, 18.84it/s]\n"
     ]
    },
    {
     "name": "stdout",
     "output_type": "stream",
     "text": [
      "Epoch 5/10: Train Loss = 1.6494, Val Loss = 1.6259\n"
     ]
    },
    {
     "name": "stderr",
     "output_type": "stream",
     "text": [
      "Training Epoch 6/10: 100%|██████████| 34/34 [00:12<00:00,  2.64it/s]\n",
      "Validation Epoch 6/10: 100%|██████████| 6/6 [00:00<00:00, 19.11it/s]\n"
     ]
    },
    {
     "name": "stdout",
     "output_type": "stream",
     "text": [
      "Epoch 6/10: Train Loss = 1.6448, Val Loss = 1.6201\n"
     ]
    },
    {
     "name": "stderr",
     "output_type": "stream",
     "text": [
      "Training Epoch 7/10: 100%|██████████| 34/34 [00:12<00:00,  2.64it/s]\n",
      "Validation Epoch 7/10: 100%|██████████| 6/6 [00:00<00:00, 17.72it/s]\n"
     ]
    },
    {
     "name": "stdout",
     "output_type": "stream",
     "text": [
      "Epoch 7/10: Train Loss = 1.6403, Val Loss = 1.6247\n"
     ]
    },
    {
     "name": "stderr",
     "output_type": "stream",
     "text": [
      "Training Epoch 8/10: 100%|██████████| 34/34 [00:12<00:00,  2.63it/s]\n",
      "Validation Epoch 8/10: 100%|██████████| 6/6 [00:00<00:00, 18.62it/s]\n"
     ]
    },
    {
     "name": "stdout",
     "output_type": "stream",
     "text": [
      "Epoch 8/10: Train Loss = 1.6384, Val Loss = 1.6175\n"
     ]
    },
    {
     "name": "stderr",
     "output_type": "stream",
     "text": [
      "Training Epoch 9/10: 100%|██████████| 34/34 [00:12<00:00,  2.62it/s]\n",
      "Validation Epoch 9/10: 100%|██████████| 6/6 [00:00<00:00, 17.54it/s]\n"
     ]
    },
    {
     "name": "stdout",
     "output_type": "stream",
     "text": [
      "Epoch 9/10: Train Loss = 1.6344, Val Loss = 1.6268\n"
     ]
    },
    {
     "name": "stderr",
     "output_type": "stream",
     "text": [
      "Training Epoch 10/10: 100%|██████████| 34/34 [00:12<00:00,  2.62it/s]\n",
      "Validation Epoch 10/10: 100%|██████████| 6/6 [00:00<00:00, 18.52it/s]\n"
     ]
    },
    {
     "name": "stdout",
     "output_type": "stream",
     "text": [
      "Epoch 10/10: Train Loss = 1.6377, Val Loss = 1.6177\n"
     ]
    }
   ],
   "source": [
    "from tqdm import tqdm  # for progress bars\n",
    "# Train the model \n",
    "\n",
    "EPOCHS = 10\n",
    "\n",
    "# Move model to GPU if available\n",
    "model.to(device)\n",
    "\n",
    "# Training loop\n",
    "train_loss_history, val_loss_history = [], []\n",
    "\n",
    "for epoch in range(EPOCHS):\n",
    "    model.train()  # Set the model to training mode\n",
    "    train_loss = 0.0\n",
    "\n",
    "    for batch in tqdm(train_dataloader, desc=f\"Training Epoch {epoch + 1}/{EPOCHS}\"):\n",
    "        # Unpacking of batch\n",
    "        (inputs, labels) = batch\n",
    "        his_input_title, pred_input_title = inputs\n",
    "\n",
    "        # Move data to device\n",
    "        his_input_title = his_input_title.to(device)\n",
    "        pred_input_title = pred_input_title.to(device)\n",
    "\n",
    "        labels = labels.to(device)\n",
    "\n",
    "        # Forward pass\n",
    "        outputs = model(pred_input_title, his_input_title)  \n",
    "        loss = criterion(outputs, labels)\n",
    "\n",
    "        # Backward pass\n",
    "        optimizer.zero_grad()\n",
    "        loss.backward()\n",
    "        optimizer.step()\n",
    "\n",
    "        train_loss += loss.item()\n",
    "\n",
    "    # Validation loop\n",
    "    model.eval()\n",
    "    val_loss = 0.0\n",
    "    with torch.no_grad():\n",
    "        for batch in tqdm(val_dataloader, desc=f\"Validation Epoch {epoch + 1}/{EPOCHS}\"):\n",
    "            (inputs, labels) = batch\n",
    "            his_input_title, pred_input_title = inputs\n",
    "\n",
    "            his_input_title = his_input_title.to(device)\n",
    "            pred_input_title = pred_input_title.to(device)\n",
    "            labels = labels.to(device)\n",
    "\n",
    "            outputs = model(pred_input_title, his_input_title)\n",
    "            loss = criterion(outputs, labels)\n",
    "\n",
    "            #print(\"Output\")\n",
    "            #print(outputs.tolist())\n",
    "            #print(\"Labels\")\n",
    "            #print(labels.tolist())\n",
    "            #print(\"\")   \n",
    "            \n",
    "            val_loss += loss.item()\n",
    "\n",
    "    train_loss /= len(train_dataloader)\n",
    "    val_loss /= len(val_dataloader)\n",
    "    train_loss_history.append(train_loss)\n",
    "    val_loss_history.append(val_loss)\n",
    "\n",
    "    print(f\"Epoch {epoch + 1}/{EPOCHS}: Train Loss = {train_loss:.4f}, Val Loss = {val_loss:.4f}\")\n"
   ]
  },
  {
   "cell_type": "code",
   "execution_count": 82,
   "metadata": {},
   "outputs": [
    {
     "data": {
      "image/png": "[encoded data removed]",
      "text/plain": [
       "<Figure size 640x480 with 1 Axes>"
      ]
     },
     "metadata": {},
     "output_type": "display_data"
    }
   ],
   "source": [
    "# Plot the loss history\n",
    "import matplotlib.pyplot as plt\n",
    "\n",
    "plt.plot(train_loss_history, label=\"Train Loss\")\n",
    "plt.plot(val_loss_history, label=\"Val Loss\")\n",
    "plt.xlabel(\"Epoch\")\n",
    "plt.ylabel(\"Loss\")\n",
    "plt.legend()\n",
    "plt.show()\n"
   ]
  },
  {
   "cell_type": "code",
   "execution_count": 83,
   "metadata": {},
   "outputs": [
    {
     "name": "stderr",
     "output_type": "stream",
     "text": [
      "Test: 100%|██████████| 2535/2535 [00:27<00:00, 92.29it/s]\n",
      "AUC: 100%|████████████████████████████████| 2535/2535 [00:01<00:00, 1918.26it/s]\n",
      "AUC: 100%|███████████████████████████████| 2535/2535 [00:00<00:00, 84500.75it/s]\n",
      "AUC: 100%|███████████████████████████████| 2535/2535 [00:00<00:00, 40888.02it/s]\n",
      "AUC: 100%|███████████████████████████████| 2535/2535 [00:00<00:00, 40237.51it/s]\n"
     ]
    },
    {
     "data": {
      "text/plain": [
       "<MetricEvaluator class>: \n",
       " {\n",
       "    \"auc\": 0.5308416556288937,\n",
       "    \"mrr\": 0.3187014500085601,\n",
       "    \"ndcg@5\": 0.35978880576975486,\n",
       "    \"ndcg@10\": 0.439471882636638\n",
       "}"
      ]
     },
     "execution_count": 83,
     "metadata": {},
     "output_type": "execute_result"
    }
   ],
   "source": [
    "# Evaluate the model\n",
    "BATCH_SIZE_TEST = 1 # Currently onoy supports batch size 1\n",
    "\n",
    "dataset.setup_test_data(dataset_path = DATAPATH, datasplit = DATASET, history_size = HISTORY_SIZE, columns = COLS, fraction = FRACTION, seed = SEED)\n",
    "\n",
    "test_dataloader = NRMSDataLoader(\n",
    "    behaviors=dataset.df_test,\n",
    "    article_dict=article_mapping,\n",
    "    unknown_representation=\"zeros\",\n",
    "    history_column=cs.DEFAULT_HISTORY_ARTICLE_ID_COL,\n",
    "    eval_mode=False, # Is true in EBREC, but then it does not work\n",
    "    batch_size=BATCH_SIZE_TEST,\n",
    ")\n",
    "\n",
    "# go from [[a], [b], [c]] to [a, b, c]\n",
    "def convert_to_list(l):\n",
    "    return [(item) for sublist in l for item in sublist]\n",
    "model.eval()\n",
    "\n",
    "pred_test = []\n",
    "with torch.no_grad():\n",
    "    for batch in tqdm(test_dataloader, desc=\"Test\"):\n",
    "        (inputs, labels) = batch\n",
    "        his_input_title, pred_input_title = inputs\n",
    "\n",
    "\n",
    "        his_input_title = his_input_title.to(device)\n",
    "        pred_input_title = pred_input_title.to(device)\n",
    "        labels = labels.to(device)\n",
    "\n",
    "        outputs = model(pred_input_title, his_input_title)\n",
    "\n",
    "        #print(\"Output\")\n",
    "        #print(outputs.tolist())\n",
    "        #print(\"Labels\")\n",
    "        #print(labels.tolist())\n",
    "        bob = convert_to_list(outputs.tolist())\n",
    "        #print(bob)\n",
    "        #print(convert_to_int_list(labels.tolist()))\n",
    "        #print(\"\")\n",
    "\n",
    "\n",
    "        pred_test.append(bob)\n",
    "\n",
    "from from_ebrec.evaluation import MetricEvaluator\n",
    "from from_ebrec.evaluation import AucScore, MrrScore, NdcgScore\n",
    "metrics = MetricEvaluator(\n",
    "    labels= dataset.df_test[\"labels\"].to_list(),\n",
    "    predictions= pred_test,\n",
    "    metric_functions=[AucScore(), MrrScore(), NdcgScore(k=5), NdcgScore(k=10)],\n",
    ")\n",
    "metrics.evaluate()"
   ]
  },
  {
   "cell_type": "code",
   "execution_count": 84,
   "metadata": {},
   "outputs": [
    {
     "name": "stdout",
     "output_type": "stream",
     "text": [
      "Top 20 predictions vs labels:\n",
      "Article 0\n",
      "0.040 vs 0.000\n",
      "0.019 vs 0.000\n",
      "0.002 vs 0.000\n",
      "0.002 vs 0.000\n",
      "0.008 vs 0.000\n",
      "0.164 vs 0.000\n",
      "0.031 vs 0.000\n",
      "0.002 vs 0.000\n",
      "0.005 vs 0.000\n",
      "0.314 vs 0.000\n",
      "0.011 vs 0.000\n",
      "0.030 vs 1.000\n",
      "0.004 vs 0.000\n",
      "0.025 vs 0.000\n",
      "0.040 vs 0.000\n",
      "0.105 vs 0.000\n",
      "0.196 vs 0.000\n",
      "0.002 vs 0.000\n",
      "\n",
      "Article 1\n",
      "0.000 vs 0.000\n",
      "0.000 vs 0.000\n",
      "0.000 vs 0.000\n",
      "0.001 vs 0.000\n",
      "0.000 vs 0.000\n",
      "0.000 vs 0.000\n",
      "0.000 vs 0.000\n",
      "0.000 vs 0.000\n",
      "0.001 vs 1.000\n",
      "0.997 vs 0.000\n",
      "0.000 vs 0.000\n",
      "0.000 vs 0.000\n",
      "\n",
      "Article 2\n",
      "0.000 vs 0.000\n",
      "0.000 vs 0.000\n",
      "0.000 vs 0.000\n",
      "1.000 vs 0.000\n",
      "0.000 vs 0.000\n",
      "0.000 vs 0.000\n",
      "0.000 vs 0.000\n",
      "0.000 vs 0.000\n",
      "0.000 vs 1.000\n",
      "0.000 vs 0.000\n",
      "0.000 vs 0.000\n",
      "0.000 vs 0.000\n",
      "0.000 vs 0.000\n",
      "0.000 vs 0.000\n",
      "0.000 vs 0.000\n",
      "0.000 vs 0.000\n",
      "\n",
      "Article 3\n",
      "0.240 vs 1.000\n",
      "0.068 vs 0.000\n",
      "0.593 vs 0.000\n",
      "0.006 vs 0.000\n",
      "0.008 vs 0.000\n",
      "0.085 vs 0.000\n",
      "\n",
      "Article 4\n",
      "0.011 vs 0.000\n",
      "0.043 vs 0.000\n",
      "0.004 vs 0.000\n",
      "0.931 vs 0.000\n",
      "0.004 vs 0.000\n",
      "0.005 vs 1.000\n",
      "0.002 vs 0.000\n",
      "\n",
      "Article 5\n",
      "0.000 vs 0.000\n",
      "1.000 vs 0.000\n",
      "0.000 vs 1.000\n",
      "0.000 vs 0.000\n",
      "0.000 vs 0.000\n",
      "0.000 vs 0.000\n",
      "0.000 vs 0.000\n",
      "\n",
      "Article 6\n",
      "0.000 vs 0.000\n",
      "0.000 vs 0.000\n",
      "0.000 vs 1.000\n",
      "0.000 vs 0.000\n",
      "0.000 vs 0.000\n",
      "0.000 vs 0.000\n",
      "0.000 vs 0.000\n",
      "0.000 vs 0.000\n",
      "0.000 vs 0.000\n",
      "0.972 vs 0.000\n",
      "0.000 vs 0.000\n",
      "0.000 vs 0.000\n",
      "0.000 vs 0.000\n",
      "0.004 vs 0.000\n",
      "0.000 vs 0.000\n",
      "0.000 vs 0.000\n",
      "0.000 vs 0.000\n",
      "0.020 vs 0.000\n",
      "0.000 vs 0.000\n",
      "0.000 vs 0.000\n",
      "0.000 vs 0.000\n",
      "0.000 vs 0.000\n",
      "0.003 vs 0.000\n",
      "0.000 vs 0.000\n",
      "0.000 vs 0.000\n",
      "0.000 vs 0.000\n",
      "0.000 vs 0.000\n",
      "0.000 vs 0.000\n",
      "\n",
      "Article 7\n",
      "0.000 vs 0.000\n",
      "0.992 vs 1.000\n",
      "0.000 vs 0.000\n",
      "0.002 vs 0.000\n",
      "0.000 vs 0.000\n",
      "0.000 vs 0.000\n",
      "0.002 vs 0.000\n",
      "0.002 vs 0.000\n",
      "0.001 vs 0.000\n",
      "0.000 vs 0.000\n",
      "0.000 vs 0.000\n",
      "\n",
      "Article 8\n",
      "0.004 vs 0.000\n",
      "0.000 vs 0.000\n",
      "0.006 vs 0.000\n",
      "0.631 vs 0.000\n",
      "0.016 vs 0.000\n",
      "0.334 vs 1.000\n",
      "0.008 vs 0.000\n",
      "\n",
      "Article 9\n",
      "0.001 vs 0.000\n",
      "0.978 vs 0.000\n",
      "0.002 vs 0.000\n",
      "0.001 vs 0.000\n",
      "0.001 vs 1.000\n",
      "0.001 vs 0.000\n",
      "0.016 vs 0.000\n",
      "\n",
      "Article 10\n",
      "0.000 vs 0.000\n",
      "0.000 vs 0.000\n",
      "0.002 vs 0.000\n",
      "0.000 vs 0.000\n",
      "0.000 vs 0.000\n",
      "0.000 vs 0.000\n",
      "0.000 vs 0.000\n",
      "0.000 vs 0.000\n",
      "0.163 vs 0.000\n",
      "0.001 vs 0.000\n",
      "0.034 vs 1.000\n",
      "0.000 vs 0.000\n",
      "0.000 vs 0.000\n",
      "0.000 vs 0.000\n",
      "0.000 vs 0.000\n",
      "0.000 vs 0.000\n",
      "0.000 vs 0.000\n",
      "0.000 vs 0.000\n",
      "0.000 vs 0.000\n",
      "0.000 vs 0.000\n",
      "0.000 vs 0.000\n",
      "0.000 vs 0.000\n",
      "0.000 vs 0.000\n",
      "0.000 vs 0.000\n",
      "0.000 vs 0.000\n",
      "0.000 vs 0.000\n",
      "0.000 vs 0.000\n",
      "0.000 vs 0.000\n",
      "0.791 vs 0.000\n",
      "0.000 vs 0.000\n",
      "0.000 vs 0.000\n",
      "0.000 vs 0.000\n",
      "0.000 vs 0.000\n",
      "0.008 vs 0.000\n",
      "\n",
      "Article 11\n",
      "0.009 vs 0.000\n",
      "0.038 vs 0.000\n",
      "0.217 vs 0.000\n",
      "0.001 vs 0.000\n",
      "0.150 vs 0.000\n",
      "0.018 vs 0.000\n",
      "0.008 vs 0.000\n",
      "0.007 vs 0.000\n",
      "0.005 vs 0.000\n",
      "0.022 vs 0.000\n",
      "0.091 vs 0.000\n",
      "0.005 vs 0.000\n",
      "0.007 vs 0.000\n",
      "0.288 vs 1.000\n",
      "0.009 vs 0.000\n",
      "0.125 vs 0.000\n",
      "\n",
      "Article 12\n",
      "0.000 vs 0.000\n",
      "0.000 vs 0.000\n",
      "0.000 vs 0.000\n",
      "0.000 vs 0.000\n",
      "0.000 vs 0.000\n",
      "0.000 vs 0.000\n",
      "0.000 vs 0.000\n",
      "0.000 vs 0.000\n",
      "0.000 vs 0.000\n",
      "0.000 vs 0.000\n",
      "0.000 vs 0.000\n",
      "0.000 vs 0.000\n",
      "0.000 vs 0.000\n",
      "0.000 vs 0.000\n",
      "0.000 vs 0.000\n",
      "0.000 vs 0.000\n",
      "0.000 vs 0.000\n",
      "0.000 vs 0.000\n",
      "0.000 vs 0.000\n",
      "0.000 vs 0.000\n",
      "0.003 vs 0.000\n",
      "0.000 vs 0.000\n",
      "0.031 vs 0.000\n",
      "0.000 vs 0.000\n",
      "0.965 vs 1.000\n",
      "0.000 vs 0.000\n",
      "0.000 vs 0.000\n",
      "0.000 vs 0.000\n",
      "0.000 vs 0.000\n",
      "0.000 vs 0.000\n",
      "0.000 vs 0.000\n",
      "\n",
      "Article 13\n",
      "0.000 vs 0.000\n",
      "0.000 vs 0.000\n",
      "0.000 vs 0.000\n",
      "0.000 vs 0.000\n",
      "0.000 vs 0.000\n",
      "0.000 vs 0.000\n",
      "0.000 vs 1.000\n",
      "0.000 vs 0.000\n",
      "0.000 vs 0.000\n",
      "0.991 vs 0.000\n",
      "0.000 vs 0.000\n",
      "0.009 vs 0.000\n",
      "\n",
      "Article 14\n",
      "0.000 vs 0.000\n",
      "0.000 vs 0.000\n",
      "0.000 vs 0.000\n",
      "0.000 vs 0.000\n",
      "0.000 vs 0.000\n",
      "0.000 vs 0.000\n",
      "0.000 vs 0.000\n",
      "0.000 vs 0.000\n",
      "1.000 vs 0.000\n",
      "0.000 vs 0.000\n",
      "0.000 vs 1.000\n",
      "0.000 vs 0.000\n",
      "0.000 vs 0.000\n",
      "0.000 vs 0.000\n",
      "0.000 vs 0.000\n",
      "0.000 vs 0.000\n",
      "0.000 vs 0.000\n",
      "0.000 vs 0.000\n",
      "0.000 vs 0.000\n",
      "0.000 vs 0.000\n",
      "0.000 vs 0.000\n",
      "0.000 vs 0.000\n",
      "\n",
      "Article 15\n",
      "0.030 vs 0.000\n",
      "0.000 vs 0.000\n",
      "0.001 vs 0.000\n",
      "0.022 vs 0.000\n",
      "0.022 vs 0.000\n",
      "0.031 vs 0.000\n",
      "0.005 vs 0.000\n",
      "0.018 vs 1.000\n",
      "0.105 vs 0.000\n",
      "0.695 vs 0.000\n",
      "0.039 vs 0.000\n",
      "0.031 vs 0.000\n",
      "0.002 vs 0.000\n",
      "\n",
      "Article 16\n",
      "0.167 vs 1.000\n",
      "0.284 vs 0.000\n",
      "0.180 vs 0.000\n",
      "0.256 vs 0.000\n",
      "0.113 vs 0.000\n",
      "\n",
      "Article 17\n",
      "0.861 vs 1.000\n",
      "0.001 vs 0.000\n",
      "0.017 vs 0.000\n",
      "0.002 vs 0.000\n",
      "0.120 vs 0.000\n",
      "0.000 vs 0.000\n",
      "\n",
      "Article 18\n",
      "0.002 vs 0.000\n",
      "0.003 vs 0.000\n",
      "0.247 vs 0.000\n",
      "0.001 vs 0.000\n",
      "0.000 vs 0.000\n",
      "0.000 vs 0.000\n",
      "0.000 vs 0.000\n",
      "0.055 vs 1.000\n",
      "0.008 vs 0.000\n",
      "0.648 vs 0.000\n",
      "0.003 vs 0.000\n",
      "0.001 vs 0.000\n",
      "0.003 vs 0.000\n",
      "0.001 vs 0.000\n",
      "0.000 vs 0.000\n",
      "0.001 vs 0.000\n",
      "0.011 vs 0.000\n",
      "0.004 vs 0.000\n",
      "0.005 vs 0.000\n",
      "0.000 vs 0.000\n",
      "0.001 vs 0.000\n",
      "0.000 vs 0.000\n",
      "0.005 vs 0.000\n",
      "0.000 vs 0.000\n",
      "\n",
      "Article 19\n",
      "0.005 vs 0.000\n",
      "0.023 vs 0.000\n",
      "0.584 vs 0.000\n",
      "0.002 vs 0.000\n",
      "0.196 vs 0.000\n",
      "0.083 vs 0.000\n",
      "0.087 vs 0.000\n",
      "0.011 vs 0.000\n",
      "0.009 vs 1.000\n",
      "\n"
     ]
    }
   ],
   "source": [
    "number_to_print = 20\n",
    "print(\"Top %d predictions vs labels:\" % number_to_print)\n",
    "labels = dataset.df_test[\"labels\"].to_list()\n",
    "for i in range(number_to_print):\n",
    "    print(f\"Article {i}\")\n",
    "    for j in range(len(pred_test[i])):\n",
    "        print(f\"{pred_test[i][j]:.3f} vs {labels[i][j]:.3f}\")\n",
    "    print(\"\")\n",
    "\n",
    "\n",
    "\n"
   ]
  }
 ],
 "metadata": {
  "kernelspec": {
   "display_name": "base",
   "language": "python",
   "name": "python3"
  },
  "language_info": {
   "codemirror_mode": {
    "name": "ipython",
    "version": 3
   },
   "file_extension": ".py",
   "mimetype": "text/x-python",
   "name": "python",
   "nbconvert_exporter": "python",
   "pygments_lexer": "ipython3",
   "version": "3.11.4"
  }
 },
 "nbformat": 4,
 "nbformat_minor": 2
}
