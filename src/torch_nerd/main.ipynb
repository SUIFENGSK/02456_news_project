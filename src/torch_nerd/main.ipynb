{
 "cells": [
  {
   "cell_type": "code",
   "execution_count": 1,
   "metadata": {
    "ExecuteTime": {
     "end_time": "2024-12-02T19:35:00.052795Z",
     "start_time": "2024-12-02T19:35:00.044836Z"
    }
   },
   "outputs": [],
   "source": [
    "BLACKHOLE = True\n",
    "\n",
    "\n",
    "import os\n",
    "import sys\n",
    "from pathlib import Path\n",
    "os.environ[\"KMP_DUPLICATE_LIB_OK\"]=\"TRUE\" # fixes problem with graph\n",
    "\n",
    "\n",
    "if BLACKHOLE:\n",
    "    workspace_path = os.path.expandvars('$BLACKHOLE')\n",
    "    sys.path.append(workspace_path+'/DeepLearning/02456_news_project/src')\n",
    "    DATAPATH = Path(workspace_path+\"/DeepLearning/ebnerd_data\").expanduser()\n",
    "else:\n",
    "    DATAPATH = Path(\"~/ebnerd_data\").expanduser()\n",
    "\n",
    "DATASET = \"ebnerd_demo\"\n",
    "#DATASET = \"ebnerd_small\"\n",
    "#DATASET = \"ebnerd_large\""
   ]
  },
  {
   "cell_type": "code",
   "execution_count": 2,
   "metadata": {
    "ExecuteTime": {
     "end_time": "2024-12-02T19:35:03.923111Z",
     "start_time": "2024-12-02T19:35:02.050814Z"
    }
   },
   "outputs": [
    {
     "name": "stdout",
     "output_type": "stream",
     "text": [
      "torch version: 2.5.1+cu124\n",
      "cuda\n"
     ]
    }
   ],
   "source": [
    "import torch\n",
    "\n",
    "print(\"torch version:\", torch.__version__)\n",
    "\n",
    "# Check gpu availability\n",
    "\n",
    "\n",
    "device = torch.device(\"cuda\" if torch.cuda.is_available() else \"cpu\")\n",
    "print(device)\n",
    "\n",
    "# Test:\n",
    "#print(torch.zeros(1).cuda())"
   ]
  },
  {
   "cell_type": "code",
   "execution_count": 3,
   "metadata": {
    "ExecuteTime": {
     "end_time": "2024-12-02T19:35:04.714345Z",
     "start_time": "2024-12-02T19:35:03.927607Z"
    }
   },
   "outputs": [],
   "source": [
    "from utils.data_handler import NewsDataset\n",
    "import from_ebrec._constants as cs\n",
    "\n",
    "SEED = 42\n",
    "HISTORY_SIZE = 30\n",
    "CANDITATE_SIZE = 5\n",
    "\n",
    "COLS = [\n",
    "    cs.DEFAULT_USER_COL,\n",
    "    cs.DEFAULT_IMPRESSION_ID_COL,\n",
    "    cs.DEFAULT_IMPRESSION_TIMESTAMP_COL,\n",
    "    cs.DEFAULT_HISTORY_ARTICLE_ID_COL,\n",
    "    cs.DEFAULT_CLICKED_ARTICLES_COL,\n",
    "    cs.DEFAULT_INVIEW_ARTICLES_COL,\n",
    "]\n",
    "\n",
    "FRACTION = 0.001\n",
    "#FRACTION = 0.01\n",
    "#FRACTION = 0.1\n",
    "#FRACTION = 1\n",
    "\n",
    "# test\n",
    "dataset = NewsDataset()\n",
    "\n",
    "dataset.setup_df(dataset_path = DATAPATH, datasplit = DATASET, history_size = HISTORY_SIZE, columns = COLS, fraction = FRACTION, seed = SEED, candidate_size=CANDITATE_SIZE)\n"
   ]
  },
  {
   "cell_type": "code",
   "execution_count": 4,
   "metadata": {
    "ExecuteTime": {
     "end_time": "2024-12-02T19:36:32.190522Z",
     "start_time": "2024-12-02T19:35:07.517602Z"
    }
   },
   "outputs": [],
   "source": [
    "import transformers as huggingface\n",
    "from from_ebrec._nlp import get_transformers_word_embeddings\n",
    "from from_ebrec._polars import concat_str_columns\n",
    "from from_ebrec._articles import convert_text2encoding_with_transformers\n",
    "from from_ebrec._articles import create_article_id_to_value_mapping\n",
    "\n",
    "dataset.setup_articles_data(dataset_path = DATAPATH.joinpath(DATASET))\n",
    "\n",
    "df_articles = dataset.df_articles\n",
    "\n",
    "TRANSFORMER_MODEL_NAME = \"FacebookAI/xlm-roberta-large\"\n",
    "TEXT_COLUMNS_TO_USE = [cs.DEFAULT_SUBTITLE_COL, cs.DEFAULT_TITLE_COL]\n",
    "MAX_TITLE_LENGTH = 30\n",
    "\n",
    "# LOAD HUGGINGFACE:\n",
    "transformer_model = huggingface.AutoModel.from_pretrained(TRANSFORMER_MODEL_NAME)\n",
    "transformer_tokenizer = huggingface.AutoTokenizer.from_pretrained(TRANSFORMER_MODEL_NAME)\n",
    "\n",
    "word2vec_embedding = get_transformers_word_embeddings(transformer_model)\n",
    "df_articles, cat_cal = concat_str_columns(df_articles, columns=TEXT_COLUMNS_TO_USE)\n",
    "df_articles, token_col_title = convert_text2encoding_with_transformers(df_articles, transformer_tokenizer, cat_cal, max_length=MAX_TITLE_LENGTH)\n",
    "article_mapping = create_article_id_to_value_mapping(df=df_articles, value_col=token_col_title)\n",
    "\n"
   ]
  },
  {
   "cell_type": "code",
   "execution_count": null,
   "metadata": {
    "ExecuteTime": {
     "end_time": "2024-12-02T19:37:07.203670Z",
     "start_time": "2024-12-02T19:37:07.189798Z"
    }
   },
   "outputs": [
    {
     "name": "stdout",
     "output_type": "stream",
     "text": [
      "NRMSModel(\n",
      "  (news_encoder): NewsEncoder(\n",
      "    (embedding): Embedding(250002, 1024)\n",
      "    (dropout): Dropout(p=0.2, inplace=False)\n",
      "    (positional_encoder): PositionEncoder(\n",
      "      (dropout): Dropout(p=0.2, inplace=False)\n",
      "    )\n",
      "    (self_attention): SelfAttention(\n",
      "      (query_proj): Linear(in_features=1024, out_features=1024, bias=True)\n",
      "      (key_proj): Linear(in_features=1024, out_features=1024, bias=True)\n",
      "      (value_proj): Linear(in_features=1024, out_features=1024, bias=True)\n",
      "    )\n",
      "    (dense_layers): Sequential(\n",
      "      (0): Linear(in_features=1024, out_features=200, bias=True)\n",
      "      (1): ReLU()\n",
      "      (2): LayerNorm((200,), eps=1e-05, elementwise_affine=True)\n",
      "      (3): Dropout(p=0.2, inplace=False)\n",
      "      (4): Linear(in_features=200, out_features=200, bias=True)\n",
      "      (5): ReLU()\n",
      "      (6): LayerNorm((200,), eps=1e-05, elementwise_affine=True)\n",
      "      (7): Dropout(p=0.2, inplace=False)\n",
      "      (8): Linear(in_features=200, out_features=1024, bias=True)\n",
      "      (9): ReLU()\n",
      "      (10): LayerNorm((1024,), eps=1e-05, elementwise_affine=True)\n",
      "      (11): Dropout(p=0.2, inplace=False)\n",
      "    )\n",
      "    (att_layer): AttLayer2(\n",
      "      (attention_projection): Linear(in_features=1024, out_features=200, bias=True)\n",
      "      (query_vector): Linear(in_features=200, out_features=1, bias=False)\n",
      "    )\n",
      "  )\n",
      "  (user_encoder): UserEncoder(\n",
      "    (news_encoder): NewsEncoder(\n",
      "      (embedding): Embedding(250002, 1024)\n",
      "      (dropout): Dropout(p=0.2, inplace=False)\n",
      "      (positional_encoder): PositionEncoder(\n",
      "        (dropout): Dropout(p=0.2, inplace=False)\n",
      "      )\n",
      "      (self_attention): SelfAttention(\n",
      "        (query_proj): Linear(in_features=1024, out_features=1024, bias=True)\n",
      "        (key_proj): Linear(in_features=1024, out_features=1024, bias=True)\n",
      "        (value_proj): Linear(in_features=1024, out_features=1024, bias=True)\n",
      "      )\n",
      "      (dense_layers): Sequential(\n",
      "        (0): Linear(in_features=1024, out_features=200, bias=True)\n",
      "        (1): ReLU()\n",
      "        (2): LayerNorm((200,), eps=1e-05, elementwise_affine=True)\n",
      "        (3): Dropout(p=0.2, inplace=False)\n",
      "        (4): Linear(in_features=200, out_features=200, bias=True)\n",
      "        (5): ReLU()\n",
      "        (6): LayerNorm((200,), eps=1e-05, elementwise_affine=True)\n",
      "        (7): Dropout(p=0.2, inplace=False)\n",
      "        (8): Linear(in_features=200, out_features=1024, bias=True)\n",
      "        (9): ReLU()\n",
      "        (10): LayerNorm((1024,), eps=1e-05, elementwise_affine=True)\n",
      "        (11): Dropout(p=0.2, inplace=False)\n",
      "      )\n",
      "      (att_layer): AttLayer2(\n",
      "        (attention_projection): Linear(in_features=1024, out_features=200, bias=True)\n",
      "        (query_vector): Linear(in_features=200, out_features=1, bias=False)\n",
      "      )\n",
      "    )\n",
      "    (self_attention): SelfAttention(\n",
      "      (query_proj): Linear(in_features=1024, out_features=1024, bias=True)\n",
      "      (key_proj): Linear(in_features=1024, out_features=1024, bias=True)\n",
      "      (value_proj): Linear(in_features=1024, out_features=1024, bias=True)\n",
      "    )\n",
      "    (att_layer): AttLayer2(\n",
      "      (attention_projection): Linear(in_features=1024, out_features=200, bias=True)\n",
      "      (query_vector): Linear(in_features=200, out_features=1, bias=False)\n",
      "    )\n",
      "  )\n",
      "  (click_predictor): ClickPredictor()\n",
      ")\n"
     ]
    }
   ],
   "source": [
    "from nrms import NRMSModel\n",
    "from hyperparameters import hparams_nrms\n",
    "\n",
    "hparams = hparams_nrms()\n",
    "\n",
    "BATCH_SIZE = 64\n",
    "\n",
    "# PARAMETERS\n",
    "hparams.title_size = MAX_TITLE_LENGTH\n",
    "hparams.history_size = HISTORY_SIZE\n",
    "hparams.batch_size = BATCH_SIZE\n",
    "hparams.candidate_size = CANDITATE_SIZE\n",
    "\n",
    "# MODEL ARCHITECTURE\n",
    "hparams.head_num = 32\n",
    "hparams.head_dim = 32\n",
    "hparams.attention_hidden_dim = 200\n",
    "hparams.linear_hidden_dim = 2000\n",
    "hparams.embedding_dim = word2vec_embedding.shape[1]\n",
    "\n",
    "hparams.use_positional_encoding = True\n",
    "\n",
    "hparams.use_time_embedding = False\n",
    "hparams.time_dim = 1\n",
    "hparams.time_embedding_dim = 32\n",
    "\n",
    "# MODEL OPTIMIZER:\n",
    "hparams.optimizer = \"adam\"\n",
    "hparams.loss = \"mse_loss\"\n",
    "hparams.dropout = 0.2\n",
    "hparams.learning_rate = 1e-4\n",
    "hparams.weight_decay = 1e-5\n",
    "\n",
    "model = NRMSModel(hparams=hparams, word2vec_embedding=word2vec_embedding)\n",
    "\n",
    "print(model)\n"
   ]
  },
  {
   "cell_type": "code",
   "execution_count": 6,
   "metadata": {
    "ExecuteTime": {
     "end_time": "2024-12-02T19:37:12.471614Z",
     "start_time": "2024-12-02T19:37:12.005116Z"
    }
   },
   "outputs": [],
   "source": [
    "import torch.nn as nn\n",
    "import torch.optim as optim\n",
    "\n",
    "# Define the loss function and optimizer\n",
    "if hparams.loss == \"cross_entropy_loss\":\n",
    "    criterion = nn.CrossEntropyLoss() \n",
    "elif hparams.loss == \"mse_loss\":\n",
    "    criterion = nn.MSELoss()\n",
    "else:\n",
    "    raise ValueError(f\"Loss function {hparams.loss} not supported\")\n",
    "\n",
    "if hparams.optimizer == \"adam\":\n",
    "    optimizer = optim.Adam(model.parameters(), lr=hparams_nrms.learning_rate, weight_decay= hparams_nrms.weight_decay)\n",
    "else:\n",
    "    raise ValueError(f\"Optimizer {hparams.optimizer} not supported\")"
   ]
  },
  {
   "cell_type": "code",
   "execution_count": 7,
   "metadata": {},
   "outputs": [],
   "source": [
    "from dataloader import NRMSDataLoader\n",
    "\n",
    "\n",
    "train_dataloader = NRMSDataLoader(\n",
    "    behaviors= dataset.df_train,\n",
    "    article_dict=article_mapping,\n",
    "    unknown_representation=\"zeros\",\n",
    "    history_column= cs.DEFAULT_HISTORY_ARTICLE_ID_COL,\n",
    "    batch_size=BATCH_SIZE,\n",
    ")\n",
    "val_dataloader = NRMSDataLoader(\n",
    "    behaviors= dataset.df_validation,\n",
    "    article_dict=article_mapping,\n",
    "    unknown_representation=\"zeros\",\n",
    "    history_column= cs.DEFAULT_HISTORY_ARTICLE_ID_COL,\n",
    "    batch_size=BATCH_SIZE,\n",
    ")"
   ]
  },
  {
   "cell_type": "code",
   "execution_count": 8,
   "metadata": {
    "ExecuteTime": {
     "end_time": "2024-12-02T19:55:05.405907Z",
     "start_time": "2024-12-02T19:43:30.189951Z"
    }
   },
   "outputs": [
    {
     "name": "stdout",
     "output_type": "stream",
     "text": [
      "Epoch 1/10, Train iteration 1/1: Loss = 0.2537\n",
      "Epoch 1/10, Val iteration 1/1: Loss = 0.1895\n",
      "Epoch 1/10: Train Loss = 0.2537, Val Loss = 0.1895\n",
      "Epoch 2/10, Train iteration 1/1: Loss = 0.2993\n",
      "Epoch 2/10, Val iteration 1/1: Loss = 0.2076\n",
      "Epoch 2/10: Train Loss = 0.2993, Val Loss = 0.2076\n",
      "Epoch 3/10, Train iteration 1/1: Loss = 0.3015\n",
      "Epoch 3/10, Val iteration 1/1: Loss = 0.2026\n",
      "Epoch 3/10: Train Loss = 0.3015, Val Loss = 0.2026\n",
      "Epoch 4/10, Train iteration 1/1: Loss = 0.2601\n",
      "Epoch 4/10, Val iteration 1/1: Loss = 0.2130\n",
      "Epoch 4/10: Train Loss = 0.2601, Val Loss = 0.2130\n",
      "Epoch 5/10, Train iteration 1/1: Loss = 0.2129\n",
      "Epoch 5/10, Val iteration 1/1: Loss = 0.2087\n",
      "Epoch 5/10: Train Loss = 0.2129, Val Loss = 0.2087\n",
      "Epoch 6/10, Train iteration 1/1: Loss = 0.2595\n",
      "Epoch 6/10, Val iteration 1/1: Loss = 0.2108\n",
      "Epoch 6/10: Train Loss = 0.2595, Val Loss = 0.2108\n",
      "Epoch 7/10, Train iteration 1/1: Loss = 0.1875\n",
      "Epoch 7/10, Val iteration 1/1: Loss = 0.2123\n",
      "Epoch 7/10: Train Loss = 0.1875, Val Loss = 0.2123\n",
      "Epoch 8/10, Train iteration 1/1: Loss = 0.2655\n",
      "Epoch 8/10, Val iteration 1/1: Loss = 0.1994\n",
      "Epoch 8/10: Train Loss = 0.2655, Val Loss = 0.1994\n",
      "Epoch 9/10, Train iteration 1/1: Loss = 0.2183\n",
      "Epoch 9/10, Val iteration 1/1: Loss = 0.1969\n",
      "Epoch 9/10: Train Loss = 0.2183, Val Loss = 0.1969\n",
      "Epoch 10/10, Train iteration 1/1: Loss = 0.2403\n",
      "Epoch 10/10, Val iteration 1/1: Loss = 0.1951\n",
      "Epoch 10/10: Train Loss = 0.2403, Val Loss = 0.1951\n"
     ]
    }
   ],
   "source": [
    "# Train the model \n",
    "\n",
    "EPOCHS = 10\n",
    "\n",
    "# Move model to GPU if available\n",
    "model.to(device)\n",
    "\n",
    "# Training loop\n",
    "train_loss_history, val_loss_history = [], []\n",
    "\n",
    "for epoch in range(EPOCHS):\n",
    "    model.train()  # Set the model to training mode\n",
    "    train_loss = 0.0\n",
    "    for iteration, (data, labels) in enumerate(train_dataloader):\n",
    "        # Unpacking of batch\n",
    "        his_input_title, pred_input_title, timestamps = data\n",
    "\n",
    "        # Move data to device\n",
    "        his_input_title = his_input_title.to(device)\n",
    "        pred_input_title = pred_input_title.to(device)\n",
    "\n",
    "        labels = labels.to(device)\n",
    "\n",
    "        # Forward pass\n",
    "        outputs = model(pred_input_title, his_input_title)\n",
    "        loss = criterion(outputs, labels)\n",
    "\n",
    "        # Backward pass\n",
    "        optimizer.zero_grad()\n",
    "        loss.backward()\n",
    "        optimizer.step()\n",
    "        train_loss += loss.item()\n",
    "\n",
    "        print(f\"Epoch {epoch + 1}/{EPOCHS}, Train iteration {iteration + 1}/{len(train_dataloader)}: Loss = {loss.item():.4f}\")\n",
    "\n",
    "    # Validation loop\n",
    "    model.eval()\n",
    "    val_loss = 0.0\n",
    "    with torch.no_grad():\n",
    "        for iteration, (data, labels) in enumerate(val_dataloader):\n",
    "            his_input_title, pred_input_title, timestamps = data\n",
    "\n",
    "            his_input_title = his_input_title.to(device)\n",
    "            pred_input_title = pred_input_title.to(device)\n",
    "            labels = labels.to(device)\n",
    "\n",
    "            outputs = model(pred_input_title, his_input_title)\n",
    "            loss = criterion(outputs, labels)\n",
    "            \n",
    "            val_loss += loss.item()\n",
    "\n",
    "            print(f\"Epoch {epoch + 1}/{EPOCHS}, Val iteration {iteration + 1}/{len(val_dataloader)}: Loss = {loss.item():.4f}\")\n",
    "\n",
    "    train_loss /= len(train_dataloader)\n",
    "    val_loss /= len(val_dataloader)\n",
    "    train_loss_history.append(train_loss)\n",
    "    val_loss_history.append(val_loss)\n",
    "\n",
    "    print(f\"Epoch {epoch + 1}/{EPOCHS}: Train Loss = {train_loss:.4f}, Val Loss = {val_loss:.4f}\")\n"
   ]
  },
  {
   "cell_type": "code",
   "execution_count": 9,
   "metadata": {
    "ExecuteTime": {
     "end_time": "2024-12-02T19:55:34.910285Z",
     "start_time": "2024-12-02T19:55:34.366285Z"
    }
   },
   "outputs": [
    {
     "data": {
      "image/png": "[encoded data removed]",
      "text/plain": [
       "<Figure size 640x480 with 1 Axes>"
      ]
     },
     "metadata": {},
     "output_type": "display_data"
    }
   ],
   "source": [
    "# Plot the loss history\n",
    "import matplotlib.pyplot as plt\n",
    "\n",
    "plt.plot(train_loss_history, label=\"Train Loss\")\n",
    "plt.plot(val_loss_history, label=\"Val Loss\")\n",
    "plt.xlabel(\"Epoch\")\n",
    "plt.ylabel(\"Loss\")\n",
    "plt.legend()\n",
    "plt.show()\n"
   ]
  },
  {
   "cell_type": "code",
   "execution_count": 10,
   "metadata": {
    "ExecuteTime": {
     "end_time": "2024-12-02T19:57:36.521266Z",
     "start_time": "2024-12-02T19:57:23.446145Z"
    }
   },
   "outputs": [
    {
     "name": "stdout",
     "output_type": "stream",
     "text": [
      "Test iteration 1/3: Loss = 0.1732\n",
      "Test iteration 2/3: Loss = 0.1677\n",
      "Test iteration 3/3: Loss = 0.1861\n",
      "Test loss: 0.17568024496237436\n",
      "[[0.1511216163635254, 0.2897653877735138, 0.23868364095687866, 0.08174571394920349, 0.23868364095687866], [0.2037682682275772, 0.09616485983133316, 0.295405775308609, 0.2037682682275772, 0.2008928656578064], [0.06908931583166122, 0.07123676687479019, 0.06908931583166122, 0.07898588478565216, 0.7115987539291382], [0.22180618345737457, 0.22180618345737457, 0.2036227136850357, 0.23654146492481232, 0.11622349917888641], [0.020614134147763252, 0.17512941360473633, 0.317019522190094, 0.31210756301879883, 0.17512941360473633], [0.0905357375741005, 0.2773304283618927, 0.3388441801071167, 0.20275399088859558, 0.0905357375741005], [0.29745954275131226, 0.049325134605169296, 0.03717143088579178, 0.29745954275131226, 0.3185843825340271], [0.33982565999031067, 0.08401958644390106, 0.33982565999031067, 0.08785507082939148, 0.14847399294376373], [0.14294540882110596, 0.16803939640522003, 0.4566882252693176, 0.14294540882110596, 0.08938165754079819], [0.3203124701976776, 0.20036882162094116, 0.20036882162094116, 0.15537677705287933, 0.12357310205698013], [0.07414492964744568, 0.22144201397895813, 0.3296491503715515, 0.21166406571865082, 0.16309979557991028], [0.3132522702217102, 0.1701129823923111, 0.1701129823923111, 0.2346075028181076, 0.11191426217556], [0.2242831289768219, 0.16374589502811432, 0.16374589502811432, 0.25756940245628357, 0.1906556487083435], [0.11413957178592682, 0.14485479891300201, 0.1414826512336731, 0.14738169312477112, 0.4521412253379822], [0.32769203186035156, 0.08282618224620819, 0.12508420646190643, 0.32769203186035156, 0.13670557737350464], [0.18244615197181702, 0.10193118453025818, 0.446783185005188, 0.16690833866596222, 0.10193118453025818], [0.065196692943573, 0.4630874991416931, 0.16967420279979706, 0.2368449717760086, 0.065196692943573], [0.23720373213291168, 0.1336873173713684, 0.10984952747821808, 0.23720373213291168, 0.28205573558807373], [0.36680901050567627, 0.18066537380218506, 0.24507677555084229, 0.1443455070257187, 0.06310337781906128], [0.09646359086036682, 0.35426127910614014, 0.19606171548366547, 0.15715166926383972, 0.19606171548366547], [0.11169899255037308, 0.43978431820869446, 0.11832527071237564, 0.21849234402179718, 0.11169899255037308], [0.49501001834869385, 0.27699992060661316, 0.04936157539486885, 0.1292668581008911, 0.04936157539486885], [0.15101249516010284, 0.3007555603981018, 0.2121816724538803, 0.035294707864522934, 0.3007555603981018], [0.07524862140417099, 0.33282214403152466, 0.1939343363046646, 0.33282214403152466, 0.06517276167869568], [0.22924154996871948, 0.14925570785999298, 0.1558162420988083, 0.3098702132701874, 0.1558162420988083]]\n",
      "[[0.0, 0.0, 0.0, 1.0, 0.0], [0.0, 0.0, 1.0, 0.0, 0.0], [0.0, 1.0, 0.0, 0.0, 0.0], [0.0, 0.0, 0.0, 0.0, 1.0], [1.0, 0.0, 0.0, 0.0, 0.0], [0.0, 1.0, 0.0, 0.0, 0.0], [0.0, 0.0, 0.0, 0.0, 1.0], [0.0, 0.0, 0.0, 1.0, 0.0], [0.0, 0.0, 1.0, 0.0, 0.0], [1.0, 0.0, 0.0, 0.0, 0.0], [0.0, 1.0, 0.0, 0.0, 0.0], [0.0, 0.0, 0.0, 0.0, 1.0], [1.0, 0.0, 0.0, 0.0, 0.0], [0.0, 0.0, 0.0, 1.0, 0.0], [0.0, 1.0, 0.0, 0.0, 0.0], [1.0, 0.0, 0.0, 0.0, 0.0], [0.0, 1.0, 0.0, 0.0, 0.0], [0.0, 0.0, 0.0, 0.0, 1.0], [0.0, 0.0, 1.0, 0.0, 0.0], [1.0, 0.0, 0.0, 0.0, 0.0], [0.0, 0.0, 0.0, 1.0, 0.0], [0.0, 0.0, 0.0, 1.0, 0.0], [0.0, 0.0, 1.0, 0.0, 0.0], [0.0, 0.0, 0.0, 0.0, 1.0], [1.0, 0.0, 0.0, 0.0, 0.0]]\n"
     ]
    },
    {
     "name": "stderr",
     "output_type": "stream",
     "text": [
      "AUC: 100%|████████████████████████████████████| 25/25 [00:00<00:00, 1666.71it/s]\n",
      "AUC: 100%|███████████████████████████████████| 25/25 [00:00<00:00, 24966.10it/s]\n",
      "AUC: 100%|███████████████████████████████████| 25/25 [00:00<00:00, 24989.90it/s]\n",
      "AUC: 100%|███████████████████████████████████| 25/25 [00:00<00:00, 24995.85it/s]"
     ]
    },
    {
     "name": "stdout",
     "output_type": "stream",
     "text": [
      "<MetricEvaluator class>: \n",
      " {\n",
      "    \"auc\": 0.55,\n",
      "    \"mrr\": 0.506,\n",
      "    \"ndcg@5\": 0.6274433694914738,\n",
      "    \"ndcg@10\": 0.6274433694914738\n",
      "}\n"
     ]
    },
    {
     "name": "stderr",
     "output_type": "stream",
     "text": [
      "\n"
     ]
    }
   ],
   "source": [
    "# Evaluate the model\n",
    "BATCH_SIZE_TEST = 10\n",
    "\n",
    "dataset.setup_test_data(dataset_path = DATAPATH, datasplit = DATASET, history_size = HISTORY_SIZE, columns = COLS, fraction = FRACTION, seed = SEED, candidate_size=CANDITATE_SIZE)\n",
    "\n",
    "test_dataloader = NRMSDataLoader(\n",
    "    behaviors=dataset.df_test,\n",
    "    article_dict=article_mapping,\n",
    "    unknown_representation=\"zeros\",\n",
    "    history_column=cs.DEFAULT_HISTORY_ARTICLE_ID_COL,\n",
    "    batch_size=BATCH_SIZE_TEST,\n",
    ")\n",
    "\n",
    "model.eval()\n",
    "\n",
    "test_loss = 0.0\n",
    "pred_test = []\n",
    "labels_test = []\n",
    "with torch.no_grad():  \n",
    "    for iteration, (data, labels) in enumerate(test_dataloader):\n",
    "        his_input_title, pred_input_title, timestamps = data\n",
    "\n",
    "        his_input_title = his_input_title.to(device)\n",
    "        pred_input_title = pred_input_title.to(device)\n",
    "        labels = labels.to(device)\n",
    "\n",
    "        outputs = model(pred_input_title, his_input_title) \n",
    "        loss = criterion(outputs, labels)                 \n",
    "        test_loss += loss.item()\n",
    "\n",
    "        for i in range(outputs.size(0)):\n",
    "            pred_test.append(outputs[i].tolist())\n",
    "            labels_test.append(labels[i].tolist())\n",
    "\n",
    "        print(f\"Test iteration {iteration + 1}/{len(test_dataloader)}: Loss = {loss.item():.4f}\")\n",
    "\n",
    "    test_loss /= len(test_dataloader)\n",
    "    print(\"Test loss:\", test_loss)\n",
    "        \n",
    "print(pred_test)\n",
    "print(labels_test)\n",
    "\n",
    "from from_ebrec.evaluation import MetricEvaluator\n",
    "from from_ebrec.evaluation import AucScore, MrrScore, NdcgScore\n",
    "metrics = MetricEvaluator(\n",
    "    labels = labels_test,\n",
    "    predictions= pred_test,\n",
    "    metric_functions=[AucScore(), MrrScore(), NdcgScore(k=5), NdcgScore(k=10)],\n",
    ")\n",
    "metrics.evaluate()\n",
    "print(metrics)\n",
    "\n"
   ]
  },
  {
   "cell_type": "code",
   "execution_count": 13,
   "metadata": {
    "ExecuteTime": {
     "end_time": "2024-12-02T19:57:39.522290Z",
     "start_time": "2024-12-02T19:57:39.515921Z"
    }
   },
   "outputs": [
    {
     "name": "stdout",
     "output_type": "stream",
     "text": [
      "Top 20 predictions vs labels:\n",
      "Article 0\n",
      "0.151 vs 0.000\n",
      "0.290 vs 0.000\n",
      "0.239 vs 0.000\n",
      "0.082 vs 1.000\n",
      "0.239 vs 0.000\n",
      "\n",
      "Article 1\n",
      "0.204 vs 0.000\n",
      "0.096 vs 0.000\n",
      "0.295 vs 1.000\n",
      "0.204 vs 0.000\n",
      "0.201 vs 0.000\n",
      "\n",
      "Article 2\n",
      "0.069 vs 0.000\n",
      "0.071 vs 1.000\n",
      "0.069 vs 0.000\n",
      "0.079 vs 0.000\n",
      "0.712 vs 0.000\n",
      "\n",
      "Article 3\n",
      "0.222 vs 0.000\n",
      "0.222 vs 0.000\n",
      "0.204 vs 0.000\n",
      "0.237 vs 0.000\n",
      "0.116 vs 1.000\n",
      "\n",
      "Article 4\n",
      "0.021 vs 1.000\n",
      "0.175 vs 0.000\n",
      "0.317 vs 0.000\n",
      "0.312 vs 0.000\n",
      "0.175 vs 0.000\n",
      "\n",
      "Article 5\n",
      "0.091 vs 0.000\n",
      "0.277 vs 1.000\n",
      "0.339 vs 0.000\n",
      "0.203 vs 0.000\n",
      "0.091 vs 0.000\n",
      "\n",
      "Article 6\n",
      "0.297 vs 0.000\n",
      "0.049 vs 0.000\n",
      "0.037 vs 0.000\n",
      "0.297 vs 0.000\n",
      "0.319 vs 1.000\n",
      "\n",
      "Article 7\n",
      "0.340 vs 0.000\n",
      "0.084 vs 0.000\n",
      "0.340 vs 0.000\n",
      "0.088 vs 1.000\n",
      "0.148 vs 0.000\n",
      "\n",
      "Article 8\n",
      "0.143 vs 0.000\n",
      "0.168 vs 0.000\n",
      "0.457 vs 1.000\n",
      "0.143 vs 0.000\n",
      "0.089 vs 0.000\n",
      "\n",
      "Article 9\n",
      "0.320 vs 1.000\n",
      "0.200 vs 0.000\n",
      "0.200 vs 0.000\n",
      "0.155 vs 0.000\n",
      "0.124 vs 0.000\n",
      "\n",
      "Article 10\n",
      "0.074 vs 0.000\n",
      "0.221 vs 1.000\n",
      "0.330 vs 0.000\n",
      "0.212 vs 0.000\n",
      "0.163 vs 0.000\n",
      "\n",
      "Article 11\n",
      "0.313 vs 0.000\n",
      "0.170 vs 0.000\n",
      "0.170 vs 0.000\n",
      "0.235 vs 0.000\n",
      "0.112 vs 1.000\n",
      "\n",
      "Article 12\n",
      "0.224 vs 1.000\n",
      "0.164 vs 0.000\n",
      "0.164 vs 0.000\n",
      "0.258 vs 0.000\n",
      "0.191 vs 0.000\n",
      "\n",
      "Article 13\n",
      "0.114 vs 0.000\n",
      "0.145 vs 0.000\n",
      "0.141 vs 0.000\n",
      "0.147 vs 1.000\n",
      "0.452 vs 0.000\n",
      "\n",
      "Article 14\n",
      "0.328 vs 0.000\n",
      "0.083 vs 1.000\n",
      "0.125 vs 0.000\n",
      "0.328 vs 0.000\n",
      "0.137 vs 0.000\n",
      "\n",
      "Article 15\n",
      "0.182 vs 1.000\n",
      "0.102 vs 0.000\n",
      "0.447 vs 0.000\n",
      "0.167 vs 0.000\n",
      "0.102 vs 0.000\n",
      "\n",
      "Article 16\n",
      "0.065 vs 0.000\n",
      "0.463 vs 1.000\n",
      "0.170 vs 0.000\n",
      "0.237 vs 0.000\n",
      "0.065 vs 0.000\n",
      "\n",
      "Article 17\n",
      "0.237 vs 0.000\n",
      "0.134 vs 0.000\n",
      "0.110 vs 0.000\n",
      "0.237 vs 0.000\n",
      "0.282 vs 1.000\n",
      "\n",
      "Article 18\n",
      "0.367 vs 0.000\n",
      "0.181 vs 0.000\n",
      "0.245 vs 1.000\n",
      "0.144 vs 0.000\n",
      "0.063 vs 0.000\n",
      "\n",
      "Article 19\n",
      "0.096 vs 1.000\n",
      "0.354 vs 0.000\n",
      "0.196 vs 0.000\n",
      "0.157 vs 0.000\n",
      "0.196 vs 0.000\n",
      "\n"
     ]
    }
   ],
   "source": [
    "number_to_print = 20\n",
    "print(\"Top %d predictions vs labels:\" % number_to_print)\n",
    "labels = dataset.df_test[\"labels\"].to_list()\n",
    "for i in range(number_to_print):\n",
    "    print(f\"Article {i}\")\n",
    "    for j in range(len(pred_test[i])):\n",
    "        print(f\"{pred_test[i][j]:.3f} vs {labels[i][j]:.3f}\")\n",
    "    print(\"\")\n",
    "\n",
    "\n",
    "\n"
   ]
  },
  {
   "cell_type": "code",
   "execution_count": 14,
   "metadata": {
    "ExecuteTime": {
     "end_time": "2024-12-02T20:00:03.253083Z",
     "start_time": "2024-12-02T20:00:03.080295Z"
    }
   },
   "outputs": [
    {
     "name": "stdout",
     "output_type": "stream",
     "text": [
      "Confusion Matrix:\n",
      "[[99  1]\n",
      " [25  0]]\n"
     ]
    },
    {
     "data": {
      "image/png": "[encoded data removed]",
      "text/plain": [
       "<Figure size 640x480 with 1 Axes>"
      ]
     },
     "metadata": {},
     "output_type": "display_data"
    }
   ],
   "source": [
    "from sklearn.metrics import confusion_matrix, roc_curve, auc\n",
    "import matplotlib.pyplot as plt\n",
    "\n",
    "\n",
    "# Flatten the data for analysis\n",
    "predicted_probabilities = [prob for article in pred_test for prob in article]\n",
    "true_values = [val for article in labels[:len(pred_test)] for val in article]\n",
    "\n",
    "\n",
    "# Set a threshold (commonly 0.5) to classify probabilities as 0 or 1\n",
    "threshold = 0.5\n",
    "predicted_classes = [1 if p >= threshold else 0 for p in predicted_probabilities]\n",
    "\n",
    "# Calculate confusion matrix\n",
    "conf_matrix = confusion_matrix(true_values, predicted_classes)\n",
    "print(\"Confusion Matrix:\")\n",
    "print(conf_matrix)\n",
    "\n",
    "# Calculate AUC and ROC curve\n",
    "fpr, tpr, thresholds = roc_curve(true_values, predicted_classes)\n",
    "roc_auc = auc(fpr, tpr)\n",
    "\n",
    "# Plot ROC curve with AUC value explicitly highlighted\n",
    "plt.figure()\n",
    "plt.plot(fpr, tpr, color='darkorange', lw=2, label=f'ROC curve (AUC = {roc_auc:.3f})')\n",
    "plt.plot([0, 1], [0, 1], color='navy', lw=2, linestyle='--', label=\"Random Guess\")\n",
    "plt.xlabel('False Positive Rate')\n",
    "plt.ylabel('True Positive Rate')\n",
    "plt.title('Receiver Operating Characteristic (ROC) Curve')\n",
    "plt.legend(loc='lower right')\n",
    "plt.show()"
   ]
  }
 ],
 "metadata": {
  "kernelspec": {
   "display_name": "base",
   "language": "python",
   "name": "python3"
  },
  "language_info": {
   "codemirror_mode": {
    "name": "ipython",
    "version": 3
   },
   "file_extension": ".py",
   "mimetype": "text/x-python",
   "name": "python",
   "nbconvert_exporter": "python",
   "pygments_lexer": "ipython3",
   "version": "3.11.4"
  }
 },
 "nbformat": 4,
 "nbformat_minor": 2
}
