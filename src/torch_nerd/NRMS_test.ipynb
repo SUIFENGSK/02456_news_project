{
 "cells": [
  {
   "cell_type": "code",
   "execution_count": 1,
   "metadata": {
    "id": "nFuKhZT6YOvN"
   },
   "outputs": [],
   "source": [
    "import torch\n",
    "import torch.nn as nn\n",
    "\n",
    "\n",
    "class SimpleAttentionModel(nn.Module):\n",
    "    def __init__(self, input_dim, hidden_dim, output_dim):\n",
    "        super(SimpleAttentionModel, self).__init__()\n",
    "        self.input_layer = nn.Linear(input_dim, hidden_dim)\n",
    "        self.self_attention = nn.MultiheadAttention(embed_dim=hidden_dim, num_heads=4)\n",
    "        self.output_layer = nn.Linear(hidden_dim, output_dim)\n",
    "        self.dropout = nn.Dropout(0.2)\n",
    "\n",
    "    def forward(self, x):\n",
    "        # Flatten the input for MNIST\n",
    "        x = x.view(x.size(0), -1)  # (batch_size, input_dim)\n",
    "        x = self.input_layer(x).unsqueeze(1)  # Add sequence length dimension -> (batch_size, seq_len, hidden_dim)\n",
    "\n",
    "        # Self-Attention\n",
    "        x, _ = self.self_attention(x, x, x)  # (batch_size, seq_len, hidden_dim)\n",
    "\n",
    "        # Take the first token as a representation (like CLS token)\n",
    "        x = x.squeeze(1)\n",
    "        x = self.dropout(x)\n",
    "\n",
    "        # Output\n",
    "        x = self.output_layer(x)\n",
    "        return x\n"
   ]
  },
  {
   "cell_type": "code",
   "execution_count": 2,
   "metadata": {
    "colab": {
     "base_uri": "https://localhost:8080/"
    },
    "id": "fpW2DpfzYPY4",
    "outputId": "fdd39b21-30b6-4ac0-b6b0-be54cdb058e9"
   },
   "outputs": [
    {
     "name": "stdout",
     "output_type": "stream",
     "text": [
      "Epoch 1/10, Loss: 0.6194\n",
      "Epoch 2/10, Loss: 0.4314\n",
      "Epoch 3/10, Loss: 0.4333\n",
      "Epoch 4/10, Loss: 0.5001\n",
      "Epoch 5/10, Loss: 0.6412\n",
      "Epoch 6/10, Loss: 0.7154\n",
      "Epoch 7/10, Loss: 0.8006\n",
      "Epoch 8/10, Loss: 0.9271\n",
      "Epoch 9/10, Loss: 1.1371\n",
      "Epoch 10/10, Loss: 1.0617\n",
      "Test Accuracy: 0.6174\n"
     ]
    }
   ],
   "source": [
    "import torch.optim as optim\n",
    "from torchvision import datasets, transforms\n",
    "from torch.utils.data import DataLoader\n",
    "\n",
    "# Hyperparameters\n",
    "input_dim = 28 * 28\n",
    "hidden_dim = 128\n",
    "output_dim = 10\n",
    "batch_size = 64\n",
    "learning_rate = 0.001\n",
    "epochs = 10\n",
    "\n",
    "# Data Loaders\n",
    "transform = transforms.Compose([transforms.ToTensor(), transforms.Normalize((0.5,), (0.5,))])\n",
    "train_dataset = datasets.MNIST(root=\"./data\", train=True, transform=transform, download=True)\n",
    "test_dataset = datasets.MNIST(root=\"./data\", train=False, transform=transform, download=True)\n",
    "\n",
    "train_loader = DataLoader(train_dataset, batch_size=batch_size, shuffle=True)\n",
    "test_loader = DataLoader(test_dataset, batch_size=batch_size, shuffle=False)\n",
    "\n",
    "# Model, Loss, Optimizer\n",
    "model = SimpleAttentionModel(input_dim=input_dim, hidden_dim=hidden_dim, output_dim=output_dim)\n",
    "criterion = nn.CrossEntropyLoss()\n",
    "optimizer = optim.Adam(model.parameters(), lr=learning_rate)\n",
    "\n",
    "# Training Loop\n",
    "device = torch.device(\"cuda\" if torch.cuda.is_available() else \"cpu\")\n",
    "model.to(device)\n",
    "\n",
    "for epoch in range(epochs):\n",
    "    model.train()\n",
    "    total_loss = 0\n",
    "    for batch_idx, (data, target) in enumerate(train_loader):\n",
    "        data, target = data.to(device), target.to(device)\n",
    "\n",
    "        optimizer.zero_grad()\n",
    "        output = model(data)\n",
    "        loss = criterion(output, target)\n",
    "        loss.backward()\n",
    "        optimizer.step()\n",
    "\n",
    "        total_loss += loss.item()\n",
    "\n",
    "    avg_loss = total_loss / len(train_loader)\n",
    "    print(f\"Epoch {epoch + 1}/{epochs}, Loss: {avg_loss:.4f}\")\n",
    "\n",
    "# Evaluation\n",
    "model.eval()\n",
    "correct = 0\n",
    "total = 0\n",
    "with torch.no_grad():\n",
    "    for data, target in test_loader:\n",
    "        data, target = data.to(device), target.to(device)\n",
    "        output = model(data)\n",
    "        _, predicted = torch.max(output, 1)\n",
    "        correct += (predicted == target).sum().item()\n",
    "        total += target.size(0)\n",
    "\n",
    "accuracy = correct / total\n",
    "print(f\"Test Accuracy: {accuracy:.4f}\")\n"
   ]
  }
 ],
 "metadata": {
  "colab": {
   "provenance": []
  },
  "kernelspec": {
   "display_name": "base",
   "language": "python",
   "name": "python3"
  },
  "language_info": {
   "codemirror_mode": {
    "name": "ipython",
    "version": 3
   },
   "file_extension": ".py",
   "mimetype": "text/x-python",
   "name": "python",
   "nbconvert_exporter": "python",
   "pygments_lexer": "ipython3",
   "version": "3.12.7"
  }
 },
 "nbformat": 4,
 "nbformat_minor": 0
}
